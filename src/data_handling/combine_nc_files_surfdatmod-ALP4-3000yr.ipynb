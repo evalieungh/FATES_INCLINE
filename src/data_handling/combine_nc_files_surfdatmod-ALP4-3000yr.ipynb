{
 "cells": [
  {
   "cell_type": "markdown",
   "id": "36e945e1-b277-4b4a-8d99-071ad793bbdb",
   "metadata": {
    "tags": []
   },
   "source": [
    "# Combine multiple NetCDF outputs into one file\n",
    "\n",
    "A condensed version of the [NorESM Land Sites Platform](https://github.com/NorESMhub/noresm-land-sites-platform)'s notebook \"combine_nc_files.ipynb\", adjusted to work for a long simulation (3000 years)"
   ]
  },
  {
   "cell_type": "code",
   "execution_count": 3,
   "id": "badd8ff0-e153-47c3-a0e7-23c54f9de824",
   "metadata": {
    "tags": []
   },
   "outputs": [],
   "source": [
    "# Name of case folder\n",
    "case_id = \"8cb1b8bb0571a2d7d64a72242a71294b_alp4-3000-gswp3-surfdatmod\"\n",
    "# Recommended to leave unchanged, one level above original output files to avoid long loading times and conflicts\n",
    "output_path_str = f\"../cases/{case_id}/archive/lnd/hist/\"\n",
    "save_path_str = f\"/cases/{case_id}/archive/lnd/\""
   ]
  },
  {
   "cell_type": "code",
   "execution_count": 4,
   "id": "ae51ac41-b99d-4434-b04a-3b995bab09d4",
   "metadata": {
    "tags": []
   },
   "outputs": [
    {
     "name": "stdout",
     "output_type": "stream",
     "text": [
      "/home/ubuntu/notebooks\n"
     ]
    }
   ],
   "source": [
    "import os\n",
    "cwd = os.getcwd()\n",
    "print(cwd)"
   ]
  },
  {
   "cell_type": "markdown",
   "id": "938b01c5-9f55-4e2e-a0dd-d404e47cc2da",
   "metadata": {},
   "source": [
    "Because there are more files than the regular notebook can handle, break the files into 1000-year chunks and move them into subdirectories."
   ]
  },
  {
   "cell_type": "code",
   "execution_count": 5,
   "id": "0c7e8629-93e4-4ee0-a8ff-0020b8d3e0da",
   "metadata": {
    "tags": []
   },
   "outputs": [
    {
     "name": "stdout",
     "output_type": "stream",
     "text": [
      "files per dir to be moved: 12000\n"
     ]
    }
   ],
   "source": [
    "import shutil\n",
    "\n",
    "num_files = 36000\n",
    "num_dest_dirs = 3\n",
    "\n",
    "# Calculate number of files to move to each directory\n",
    "files_per_dir = num_files // num_dest_dirs\n",
    "print(\"files per dir to be moved:\", files_per_dir)\n"
   ]
  },
  {
   "cell_type": "markdown",
   "id": "10c84379-cca3-44ca-8278-29eef9866654",
   "metadata": {
    "tags": []
   },
   "source": [
    "From the Jupyter notebook welcome page, start a terminal and make new directories like this:\n",
    "```\n",
    "ubuntu@12f068803d65:~$ mkdir cases/5623552dd1a8bad16ab1c12e3fc92076_default-alp4-3000/archive/lnd/hist/1\n",
    "ubuntu@12f068803d65:~$ mkdir cases/5623552dd1a8bad16ab1c12e3fc92076_default-alp4-3000/archive/lnd/hist/2\n",
    "ubuntu@12f068803d65:~$ mkdir cases/5623552dd1a8bad16ab1c12e3fc92076_default-alp4-3000/archive/lnd/hist/3\n",
    "```"
   ]
  },
  {
   "cell_type": "code",
   "execution_count": 6,
   "id": "d4090226-0fed-4d8f-8d30-3b1c6c30abe6",
   "metadata": {
    "tags": []
   },
   "outputs": [
    {
     "name": "stdout",
     "output_type": "stream",
     "text": [
      "starting at  0\n",
      "ending at 12000\n",
      "year_month_str:  1901-01\n",
      "starting at  12000\n",
      "ending at 24000\n",
      "year_month_str:  2901-01\n",
      "starting at  24000\n",
      "ending at 36000\n",
      "year_month_str:  3901-01\n",
      "Done!\n"
     ]
    }
   ],
   "source": [
    "# Move files to the new destination directories\n",
    "for i in range(num_dest_dirs):\n",
    "    src_dir = output_path_str\n",
    "    dest_dir = os.path.join(output_path_str, str(i+1))\n",
    "    start_idx = i * files_per_dir\n",
    "    print(\"starting at \", start_idx)\n",
    "    end_idx = start_idx + files_per_dir\n",
    "    print(\"ending at\", end_idx)\n",
    "\n",
    "    # Move files to destination directory\n",
    "    for j in range(start_idx, end_idx):\n",
    "        year_month_str = f\"{1901 + j // 12}-{j % 12 + 1:02d}\"\n",
    "        if j == start_idx:\n",
    "            print(\"year_month_str: \", year_month_str)\n",
    "        src_file = os.path.join(src_dir, f\"{case_id}.clm2.h0.{year_month_str}.nc\")\n",
    "        dest_file = os.path.join(dest_dir, f\"{case_id}.clm2.h0.{year_month_str}.nc\")\n",
    "        shutil.move(src_file, dest_file)\n",
    "\n",
    "print(\"Done!\")\n"
   ]
  },
  {
   "cell_type": "markdown",
   "id": "43164c86-6e70-4d3a-bf9e-f460ca876702",
   "metadata": {},
   "source": [
    "Now we need to specify new output paths and run the rest of the notebook as normal. After specifying where the files are stored, we can combine them. The `*` denotes a so-called wild-card, so this example will combine **all** files for history tape 0 (`h0`) contained in `cases/[case_id]/archive/lnd/hist/1` etc. \n",
    "\n",
    "Set `NC_OUT_NAME` to a descriptive name for the resulting combined single file. "
   ]
  },
  {
   "cell_type": "code",
   "execution_count": 7,
   "id": "8eea33de-e83f-4778-a75f-b75168666a38",
   "metadata": {
    "tags": []
   },
   "outputs": [],
   "source": [
    "output_path_str_1 = f\"/cases/{case_id}/archive/lnd/hist/1/\"\n",
    "output_path_str_2 = f\"/cases/{case_id}/archive/lnd/hist/2/\"\n",
    "output_path_str_3 = f\"/cases/{case_id}/archive/lnd/hist/3/\"\n"
   ]
  },
  {
   "cell_type": "code",
   "execution_count": 8,
   "id": "00e84d9c-1cab-4450-b05b-0b4db042f61e",
   "metadata": {
    "tags": []
   },
   "outputs": [],
   "source": [
    "hist_tape = \"h0\" # Name of the history tape to combine into a single file\n",
    "\n",
    "os.environ['NCFILES_TO_COMBINE'] = f\"*{hist_tape}*.nc\" # Name of output .nc files to combine\n",
    "os.environ['NC_OUT_NAME_1'] = f\"{case_id}.{hist_tape}.0000-1000.nc\" # Descriptive name for the resulting combined file\n",
    "os.environ['NC_OUT_NAME_2'] = f\"{case_id}.{hist_tape}.1001-2000.nc\" \n",
    "os.environ['NC_OUT_NAME_3'] = f\"{case_id}.{hist_tape}.2001-3000.nc\" "
   ]
  },
  {
   "cell_type": "code",
   "execution_count": 9,
   "id": "de894198-0b31-40bd-a2e1-c972a65899df",
   "metadata": {
    "tags": []
   },
   "outputs": [],
   "source": [
    "os.environ['CASE_ID'] = case_id\n",
    "os.environ['CASE_HIST_PATH_1'] = output_path_str_1\n",
    "os.environ['CASE_HIST_PATH_2'] = output_path_str_2\n",
    "os.environ['CASE_HIST_PATH_3'] = output_path_str_3\n",
    "os.environ['SAVE_PATH'] = save_path_str"
   ]
  },
  {
   "cell_type": "markdown",
   "id": "0d456fd5-d4b1-4d68-a0b5-61bdd2d07c0d",
   "metadata": {},
   "source": [
    "Because of an \"Argument list too long\" error, try to remove parts of the filenames before concatenating. Remove the first 35 characters with the 'remove' function that needs to be installed first. Then list the first 10 files in the folder to check that it looks right. This needs to be done in a terminal outside the container. \n",
    "\n",
    "`sudo apt-get install rename`\n",
    "\n",
    "`cd ../cases/5623552dd1a8bad16ab1c12e3fc92076_default-alp4-3000/archive/lnd/hist/1` and so on for folders 2,3\n",
    "\n",
    "`find . -type f -execdir rename 's/^.{35}//' {} \\;`\n",
    "\n",
    "`ls | head -10`"
   ]
  },
  {
   "cell_type": "markdown",
   "id": "d13ec829-8ab3-44f9-868b-7242d30e56d0",
   "metadata": {},
   "source": [
    "Use cell magic to concatenate the files with `ncrcat`. It can take some time (several minutes) if it needs to combine many files. 3000 years * 12 months = 36 000 files is too much for it to handle in one go, so I want to split it up into three 1000-year chunks to make it manageable."
   ]
  },
  {
   "cell_type": "code",
   "execution_count": 10,
   "id": "8078fdb9-eca3-4a41-a5ec-eebdbba3883f",
   "metadata": {
    "tags": []
   },
   "outputs": [],
   "source": [
    "!ncrcat $PWD/..$CASE_HIST_PATH_1$NCFILES_TO_COMBINE $PWD/..$SAVE_PATH$NC_OUT_NAME_1"
   ]
  },
  {
   "cell_type": "code",
   "execution_count": 11,
   "id": "2d83572e-8643-4c1b-9181-301992983c27",
   "metadata": {
    "tags": []
   },
   "outputs": [],
   "source": [
    "!ncrcat $PWD/..$CASE_HIST_PATH_2$NCFILES_TO_COMBINE $HOME$SAVE_PATH$NC_OUT_NAME_2"
   ]
  },
  {
   "cell_type": "code",
   "execution_count": 12,
   "id": "911c484d-2468-48bc-8308-d7f30f480a86",
   "metadata": {
    "tags": []
   },
   "outputs": [],
   "source": [
    "!ncrcat $PWD/..$CASE_HIST_PATH_3$NCFILES_TO_COMBINE $HOME$SAVE_PATH$NC_OUT_NAME_3"
   ]
  }
 ],
 "metadata": {
  "kernelspec": {
   "display_name": "Python 3 (ipykernel)",
   "language": "python",
   "name": "python3"
  },
  "language_info": {
   "codemirror_mode": {
    "name": "ipython",
    "version": 3
   },
   "file_extension": ".py",
   "mimetype": "text/x-python",
   "name": "python",
   "nbconvert_exporter": "python",
   "pygments_lexer": "ipython3",
   "version": "3.10.9"
  },
  "vscode": {
   "interpreter": {
    "hash": "98bd30b8b4c3c7b34184719ef7bcbbe0e9ad7d5e716650527163f9a187dd92d9"
   }
  }
 },
 "nbformat": 4,
 "nbformat_minor": 5
}
