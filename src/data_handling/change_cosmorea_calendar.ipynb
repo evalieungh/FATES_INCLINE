{
 "cells": [
  {
   "attachments": {},
   "cell_type": "markdown",
   "metadata": {},
   "source": [
    "# Fix calendar issues with COSMO-REA6 forcing data\n",
    "\n",
    "COMSO reanalysis data uses a gregorian calendar with leap years. Running long simulations (necessary for spin-up) with COMSO reanalysis data proved problematic, because the leap years don't align and the model terminates prematurely after ~100 years. \n",
    "\n",
    "NB! This notebook does not fix the problem of long simulations with gregorian-calendar data. This is because the data, in my case COSMO reanalysis data between 1995-2018, dosen't cover a long enough time span to include [skipped leap years (e.g.2100)](https://en.wikipedia.org/wiki/Gregorian_calendar). So in practice, the COSMO data follows a [Julian calendar](https://en.wikipedia.org/wiki/Julian_calendar), where every 4th year is a leap year without exception. Cycling such data means that when the gregorian calendar expects there to be an exception to the 4-year rule, the data won't fit.\n",
    "\n",
    "This notebook will...\n",
    "1. read in the cosmo reanalysis data\n",
    "2. change the calendar attribute for all files\n",
    "3. save the modified data"
   ]
  },
  {
   "cell_type": "code",
   "execution_count": 1,
   "metadata": {},
   "outputs": [],
   "source": [
    "# import libraries\n",
    "import os\n",
    "import netCDF4 as nc\n",
    "import xarray as xr  # NetCDF data handling\n",
    "import zipfile # for unzipping\n",
    "import shutil # easiest whole-directory zipping\n",
    "from pathlib import Path  # For easy path handling"
   ]
  },
  {
   "attachments": {},
   "cell_type": "markdown",
   "metadata": {},
   "source": [
    "Download COSMOREA data from evalieungh/FATES_INCLINE repo if necessary:"
   ]
  },
  {
   "cell_type": "code",
   "execution_count": null,
   "metadata": {},
   "outputs": [],
   "source": [
    "%%bash\n",
    "pwd\n",
    "cd ../data\n",
    "pwd\n",
    "wget https://raw.githubusercontent.com/evalieungh/FATES_INCLINE/main/data/ALP4_cosmorea.zip"
   ]
  },
  {
   "cell_type": "code",
   "execution_count": 2,
   "metadata": {},
   "outputs": [],
   "source": [
    "# set path to data, where we have the original (gregorian) data and will save the modified version\n",
    "cosmo_path = str(Path(f\"C:/Users/evaler/OneDrive - Universitetet i Oslo/Eva/PHD/FATES_INCLINE/data\"))\n"
   ]
  },
  {
   "attachments": {},
   "cell_type": "markdown",
   "metadata": {},
   "source": [
    "Unzip folder:"
   ]
  },
  {
   "cell_type": "code",
   "execution_count": null,
   "metadata": {},
   "outputs": [],
   "source": [
    "print(\"extracting \", cosmo_path + \"/ALP4_cosmorea.zip\")\n",
    "with zipfile.ZipFile(cosmo_path + \"/ALP4_cosmorea.zip\", 'r') as zip_ref:\n",
    "    zip_ref.extractall(cosmo_path + \"/ALP4_cosmorea\")"
   ]
  },
  {
   "attachments": {},
   "cell_type": "markdown",
   "metadata": {},
   "source": [
    "In file explorer, copy the ALP4_cosmorea folder and rename the new copy ALP4_cosmorea_gregorian. Keep the original files in ALP4_cosmorea untouched.\n",
    " \n",
    "Set paths to where the new files we make should be stored, overwriting the original copies:"
   ]
  },
  {
   "cell_type": "code",
   "execution_count": 7,
   "metadata": {},
   "outputs": [
    {
     "name": "stdout",
     "output_type": "stream",
     "text": [
      "Input stored here: C:\\Users\\evaler\\OneDrive - Universitetet i Oslo\\Eva\\PHD\\FATES_INCLINE\\data\\ALP4_cosmorea_gregorian\\datmdata\n"
     ]
    }
   ],
   "source": [
    "# Define file paths\n",
    "input_dir = str(Path(cosmo_path + f\"/ALP4_cosmorea_gregorian/datmdata/\"))\n",
    "print(\"Input stored here:\", input_dir)"
   ]
  },
  {
   "attachments": {},
   "cell_type": "markdown",
   "metadata": {},
   "source": [
    "List the atmospheric forcing files and check how they are structured."
   ]
  },
  {
   "cell_type": "code",
   "execution_count": 8,
   "metadata": {},
   "outputs": [
    {
     "name": "stdout",
     "output_type": "stream",
     "text": [
      "['clm1pt_ALP4_1995-01.nc', 'clm1pt_ALP4_1995-02.nc', 'clm1pt_ALP4_1995-03.nc', 'clm1pt_ALP4_1995-04.nc', 'clm1pt_ALP4_1995-05.nc', 'clm1pt_ALP4_1995-06.nc', 'clm1pt_ALP4_1995-07.nc', 'clm1pt_ALP4_1995-08.nc', 'clm1pt_ALP4_1995-09.nc', 'clm1pt_ALP4_1995-10.nc', 'clm1pt_ALP4_1995-11.nc', 'clm1pt_ALP4_1995-12.nc', 'clm1pt_ALP4_1996-01.nc', 'clm1pt_ALP4_1996-02.nc', 'clm1pt_ALP4_1996-03.nc', 'clm1pt_ALP4_1996-04.nc', 'clm1pt_ALP4_1996-05.nc', 'clm1pt_ALP4_1996-06.nc', 'clm1pt_ALP4_1996-07.nc', 'clm1pt_ALP4_1996-08.nc', 'clm1pt_ALP4_1996-09.nc', 'clm1pt_ALP4_1996-10.nc', 'clm1pt_ALP4_1996-11.nc', 'clm1pt_ALP4_1996-12.nc', 'clm1pt_ALP4_1997-01.nc', 'clm1pt_ALP4_1997-02.nc', 'clm1pt_ALP4_1997-03.nc', 'clm1pt_ALP4_1997-04.nc', 'clm1pt_ALP4_1997-05.nc', 'clm1pt_ALP4_1997-06.nc', 'clm1pt_ALP4_1997-07.nc', 'clm1pt_ALP4_1997-08.nc', 'clm1pt_ALP4_1997-09.nc', 'clm1pt_ALP4_1997-10.nc', 'clm1pt_ALP4_1997-11.nc', 'clm1pt_ALP4_1997-12.nc', 'clm1pt_ALP4_1998-01.nc', 'clm1pt_ALP4_1998-02.nc', 'clm1pt_ALP4_1998-03.nc', 'clm1pt_ALP4_1998-04.nc', 'clm1pt_ALP4_1998-05.nc', 'clm1pt_ALP4_1998-06.nc', 'clm1pt_ALP4_1998-07.nc', 'clm1pt_ALP4_1998-08.nc', 'clm1pt_ALP4_1998-09.nc', 'clm1pt_ALP4_1998-10.nc', 'clm1pt_ALP4_1998-11.nc', 'clm1pt_ALP4_1998-12.nc', 'clm1pt_ALP4_1999-01.nc', 'clm1pt_ALP4_1999-02.nc', 'clm1pt_ALP4_1999-03.nc', 'clm1pt_ALP4_1999-04.nc', 'clm1pt_ALP4_1999-05.nc', 'clm1pt_ALP4_1999-06.nc', 'clm1pt_ALP4_1999-07.nc', 'clm1pt_ALP4_1999-08.nc', 'clm1pt_ALP4_1999-09.nc', 'clm1pt_ALP4_1999-10.nc', 'clm1pt_ALP4_1999-11.nc', 'clm1pt_ALP4_1999-12.nc', 'clm1pt_ALP4_2000-01.nc', 'clm1pt_ALP4_2000-02.nc', 'clm1pt_ALP4_2000-03.nc', 'clm1pt_ALP4_2000-04.nc', 'clm1pt_ALP4_2000-05.nc', 'clm1pt_ALP4_2000-06.nc', 'clm1pt_ALP4_2000-07.nc', 'clm1pt_ALP4_2000-08.nc', 'clm1pt_ALP4_2000-09.nc', 'clm1pt_ALP4_2000-10.nc', 'clm1pt_ALP4_2000-11.nc', 'clm1pt_ALP4_2000-12.nc', 'clm1pt_ALP4_2001-01.nc', 'clm1pt_ALP4_2001-02.nc', 'clm1pt_ALP4_2001-03.nc', 'clm1pt_ALP4_2001-04.nc', 'clm1pt_ALP4_2001-05.nc', 'clm1pt_ALP4_2001-06.nc', 'clm1pt_ALP4_2001-07.nc', 'clm1pt_ALP4_2001-08.nc', 'clm1pt_ALP4_2001-09.nc', 'clm1pt_ALP4_2001-10.nc', 'clm1pt_ALP4_2001-11.nc', 'clm1pt_ALP4_2001-12.nc', 'clm1pt_ALP4_2002-01.nc', 'clm1pt_ALP4_2002-02.nc', 'clm1pt_ALP4_2002-03.nc', 'clm1pt_ALP4_2002-04.nc', 'clm1pt_ALP4_2002-05.nc', 'clm1pt_ALP4_2002-06.nc', 'clm1pt_ALP4_2002-07.nc', 'clm1pt_ALP4_2002-08.nc', 'clm1pt_ALP4_2002-09.nc', 'clm1pt_ALP4_2002-10.nc', 'clm1pt_ALP4_2002-11.nc', 'clm1pt_ALP4_2002-12.nc', 'clm1pt_ALP4_2003-01.nc', 'clm1pt_ALP4_2003-02.nc', 'clm1pt_ALP4_2003-03.nc', 'clm1pt_ALP4_2003-04.nc', 'clm1pt_ALP4_2003-05.nc', 'clm1pt_ALP4_2003-06.nc', 'clm1pt_ALP4_2003-07.nc', 'clm1pt_ALP4_2003-08.nc', 'clm1pt_ALP4_2003-09.nc', 'clm1pt_ALP4_2003-10.nc', 'clm1pt_ALP4_2003-11.nc', 'clm1pt_ALP4_2003-12.nc', 'clm1pt_ALP4_2004-01.nc', 'clm1pt_ALP4_2004-02.nc', 'clm1pt_ALP4_2004-03.nc', 'clm1pt_ALP4_2004-04.nc', 'clm1pt_ALP4_2004-05.nc', 'clm1pt_ALP4_2004-06.nc', 'clm1pt_ALP4_2004-07.nc', 'clm1pt_ALP4_2004-08.nc', 'clm1pt_ALP4_2004-09.nc', 'clm1pt_ALP4_2004-10.nc', 'clm1pt_ALP4_2004-11.nc', 'clm1pt_ALP4_2004-12.nc', 'clm1pt_ALP4_2005-01.nc', 'clm1pt_ALP4_2005-02.nc', 'clm1pt_ALP4_2005-03.nc', 'clm1pt_ALP4_2005-04.nc', 'clm1pt_ALP4_2005-05.nc', 'clm1pt_ALP4_2005-06.nc', 'clm1pt_ALP4_2005-07.nc', 'clm1pt_ALP4_2005-08.nc', 'clm1pt_ALP4_2005-09.nc', 'clm1pt_ALP4_2005-10.nc', 'clm1pt_ALP4_2005-11.nc', 'clm1pt_ALP4_2005-12.nc', 'clm1pt_ALP4_2006-01.nc', 'clm1pt_ALP4_2006-02.nc', 'clm1pt_ALP4_2006-03.nc', 'clm1pt_ALP4_2006-04.nc', 'clm1pt_ALP4_2006-05.nc', 'clm1pt_ALP4_2006-06.nc', 'clm1pt_ALP4_2006-07.nc', 'clm1pt_ALP4_2006-08.nc', 'clm1pt_ALP4_2006-09.nc', 'clm1pt_ALP4_2006-10.nc', 'clm1pt_ALP4_2006-11.nc', 'clm1pt_ALP4_2006-12.nc', 'clm1pt_ALP4_2007-01.nc', 'clm1pt_ALP4_2007-02.nc', 'clm1pt_ALP4_2007-03.nc', 'clm1pt_ALP4_2007-04.nc', 'clm1pt_ALP4_2007-05.nc', 'clm1pt_ALP4_2007-06.nc', 'clm1pt_ALP4_2007-07.nc', 'clm1pt_ALP4_2007-08.nc', 'clm1pt_ALP4_2007-09.nc', 'clm1pt_ALP4_2007-10.nc', 'clm1pt_ALP4_2007-11.nc', 'clm1pt_ALP4_2007-12.nc', 'clm1pt_ALP4_2008-01.nc', 'clm1pt_ALP4_2008-02.nc', 'clm1pt_ALP4_2008-03.nc', 'clm1pt_ALP4_2008-04.nc', 'clm1pt_ALP4_2008-05.nc', 'clm1pt_ALP4_2008-06.nc', 'clm1pt_ALP4_2008-07.nc', 'clm1pt_ALP4_2008-08.nc', 'clm1pt_ALP4_2008-09.nc', 'clm1pt_ALP4_2008-10.nc', 'clm1pt_ALP4_2008-11.nc', 'clm1pt_ALP4_2008-12.nc', 'clm1pt_ALP4_2009-01.nc', 'clm1pt_ALP4_2009-02.nc', 'clm1pt_ALP4_2009-03.nc', 'clm1pt_ALP4_2009-04.nc', 'clm1pt_ALP4_2009-05.nc', 'clm1pt_ALP4_2009-06.nc', 'clm1pt_ALP4_2009-07.nc', 'clm1pt_ALP4_2009-08.nc', 'clm1pt_ALP4_2009-09.nc', 'clm1pt_ALP4_2009-10.nc', 'clm1pt_ALP4_2009-11.nc', 'clm1pt_ALP4_2009-12.nc', 'clm1pt_ALP4_2010-01.nc', 'clm1pt_ALP4_2010-02.nc', 'clm1pt_ALP4_2010-03.nc', 'clm1pt_ALP4_2010-04.nc', 'clm1pt_ALP4_2010-05.nc', 'clm1pt_ALP4_2010-06.nc', 'clm1pt_ALP4_2010-07.nc', 'clm1pt_ALP4_2010-08.nc', 'clm1pt_ALP4_2010-09.nc', 'clm1pt_ALP4_2010-10.nc', 'clm1pt_ALP4_2010-11.nc', 'clm1pt_ALP4_2010-12.nc', 'clm1pt_ALP4_2011-01.nc', 'clm1pt_ALP4_2011-02.nc', 'clm1pt_ALP4_2011-03.nc', 'clm1pt_ALP4_2011-04.nc', 'clm1pt_ALP4_2011-05.nc', 'clm1pt_ALP4_2011-06.nc', 'clm1pt_ALP4_2011-07.nc', 'clm1pt_ALP4_2011-08.nc', 'clm1pt_ALP4_2011-09.nc', 'clm1pt_ALP4_2011-10.nc', 'clm1pt_ALP4_2011-11.nc', 'clm1pt_ALP4_2011-12.nc', 'clm1pt_ALP4_2012-01.nc', 'clm1pt_ALP4_2012-02.nc', 'clm1pt_ALP4_2012-03.nc', 'clm1pt_ALP4_2012-04.nc', 'clm1pt_ALP4_2012-05.nc', 'clm1pt_ALP4_2012-06.nc', 'clm1pt_ALP4_2012-07.nc', 'clm1pt_ALP4_2012-08.nc', 'clm1pt_ALP4_2012-09.nc', 'clm1pt_ALP4_2012-10.nc', 'clm1pt_ALP4_2012-11.nc', 'clm1pt_ALP4_2012-12.nc', 'clm1pt_ALP4_2013-01.nc', 'clm1pt_ALP4_2013-02.nc', 'clm1pt_ALP4_2013-03.nc', 'clm1pt_ALP4_2013-04.nc', 'clm1pt_ALP4_2013-05.nc', 'clm1pt_ALP4_2013-06.nc', 'clm1pt_ALP4_2013-07.nc', 'clm1pt_ALP4_2013-08.nc', 'clm1pt_ALP4_2013-09.nc', 'clm1pt_ALP4_2013-10.nc', 'clm1pt_ALP4_2013-11.nc', 'clm1pt_ALP4_2013-12.nc', 'clm1pt_ALP4_2014-01.nc', 'clm1pt_ALP4_2014-02.nc', 'clm1pt_ALP4_2014-03.nc', 'clm1pt_ALP4_2014-04.nc', 'clm1pt_ALP4_2014-05.nc', 'clm1pt_ALP4_2014-06.nc', 'clm1pt_ALP4_2014-07.nc', 'clm1pt_ALP4_2014-08.nc', 'clm1pt_ALP4_2014-09.nc', 'clm1pt_ALP4_2014-10.nc', 'clm1pt_ALP4_2014-11.nc', 'clm1pt_ALP4_2014-12.nc', 'clm1pt_ALP4_2015-01.nc', 'clm1pt_ALP4_2015-02.nc', 'clm1pt_ALP4_2015-03.nc', 'clm1pt_ALP4_2015-04.nc', 'clm1pt_ALP4_2015-05.nc', 'clm1pt_ALP4_2015-06.nc', 'clm1pt_ALP4_2015-07.nc', 'clm1pt_ALP4_2015-08.nc', 'clm1pt_ALP4_2015-09.nc', 'clm1pt_ALP4_2015-10.nc', 'clm1pt_ALP4_2015-11.nc', 'clm1pt_ALP4_2015-12.nc', 'clm1pt_ALP4_2016-01.nc', 'clm1pt_ALP4_2016-02.nc', 'clm1pt_ALP4_2016-03.nc', 'clm1pt_ALP4_2016-04.nc', 'clm1pt_ALP4_2016-05.nc', 'clm1pt_ALP4_2016-06.nc', 'clm1pt_ALP4_2016-07.nc', 'clm1pt_ALP4_2016-08.nc', 'clm1pt_ALP4_2016-09.nc', 'clm1pt_ALP4_2016-10.nc', 'clm1pt_ALP4_2016-11.nc', 'clm1pt_ALP4_2016-12.nc', 'clm1pt_ALP4_2017-01.nc', 'clm1pt_ALP4_2017-02.nc', 'clm1pt_ALP4_2017-03.nc', 'clm1pt_ALP4_2017-04.nc', 'clm1pt_ALP4_2017-05.nc', 'clm1pt_ALP4_2017-06.nc', 'clm1pt_ALP4_2017-07.nc', 'clm1pt_ALP4_2017-08.nc', 'clm1pt_ALP4_2017-09.nc', 'clm1pt_ALP4_2017-10.nc', 'clm1pt_ALP4_2017-11.nc', 'clm1pt_ALP4_2017-12.nc', 'clm1pt_ALP4_2018-01.nc', 'clm1pt_ALP4_2018-02.nc', 'clm1pt_ALP4_2018-03.nc', 'clm1pt_ALP4_2018-04.nc', 'clm1pt_ALP4_2018-05.nc', 'clm1pt_ALP4_2018-06.nc', 'clm1pt_ALP4_2018-07.nc', 'clm1pt_ALP4_2018-08.nc', 'clm1pt_ALP4_2018-09.nc', 'clm1pt_ALP4_2018-10.nc', 'clm1pt_ALP4_2018-11.nc', 'clm1pt_ALP4_2018-12.nc']\n"
     ]
    }
   ],
   "source": [
    "# Print all NetCDF files in the input directory\n",
    "files = [f for f in os.listdir(input_dir) if f.endswith('.nc')]\n",
    "print(files)"
   ]
  },
  {
   "cell_type": "code",
   "execution_count": 9,
   "metadata": {},
   "outputs": [
    {
     "name": "stdout",
     "output_type": "stream",
     "text": [
      "Variables in the file:\n",
      "dict_keys(['EDGEW', 'EDGEE', 'EDGES', 'EDGEN', 'LONGXY', 'LATIXY', 'SWDIFDS_RAD', 'SWDIRS_RAD', 'RAIN_CON', 'RAIN_GSP', 'SNOW_GSP', 'SNOW_CON', 'PRECTmms', 'TBOT', 'WIND', 'PSRF', 'SHUM', 'FLDS', 'time'])\n"
     ]
    }
   ],
   "source": [
    "# print variables in the first nc file\n",
    "example_file = str(Path(input_dir + \"/\" + f\"clm1pt_ALP4_1995-01.nc\"))\n",
    "with nc.Dataset(example_file, 'r') as ds:\n",
    "    # List all variables in the file\n",
    "    print(\"Variables in the file:\")\n",
    "    print(ds.variables.keys())"
   ]
  },
  {
   "cell_type": "code",
   "execution_count": 10,
   "metadata": {},
   "outputs": [
    {
     "name": "stdout",
     "output_type": "stream",
     "text": [
      "Variable dimensions: ('time',)\n",
      "Variable shape: (248,)\n",
      "Variable attributes: ['standard_name', 'units', 'calendar', 'axis']\n",
      "Variable units: hours since 1995-1-1 01:00:00\n",
      "Variable values: [  0.   3.   6.   9.  12.  15.  18.  21.  24.  27.  30.  33.  36.  39.\n",
      "  42.  45.  48.  51.  54.  57.  60.  63.  66.  69.  72.  75.  78.  81.\n",
      "  84.  87.  90.  93.  96.  99. 102. 105. 108. 111. 114. 117. 120. 123.\n",
      " 126. 129. 132. 135. 138. 141. 144. 147. 150. 153. 156. 159. 162. 165.\n",
      " 168. 171. 174. 177. 180. 183. 186. 189. 192. 195. 198. 201. 204. 207.\n",
      " 210. 213. 216. 219. 222. 225. 228. 231. 234. 237. 240. 243. 246. 249.\n",
      " 252. 255. 258. 261. 264. 267. 270. 273. 276. 279. 282. 285. 288. 291.\n",
      " 294. 297. 300. 303. 306. 309. 312. 315. 318. 321. 324. 327. 330. 333.\n",
      " 336. 339. 342. 345. 348. 351. 354. 357. 360. 363. 366. 369. 372. 375.\n",
      " 378. 381. 384. 387. 390. 393. 396. 399. 402. 405. 408. 411. 414. 417.\n",
      " 420. 423. 426. 429. 432. 435. 438. 441. 444. 447. 450. 453. 456. 459.\n",
      " 462. 465. 468. 471. 474. 477. 480. 483. 486. 489. 492. 495. 498. 501.\n",
      " 504. 507. 510. 513. 516. 519. 522. 525. 528. 531. 534. 537. 540. 543.\n",
      " 546. 549. 552. 555. 558. 561. 564. 567. 570. 573. 576. 579. 582. 585.\n",
      " 588. 591. 594. 597. 600. 603. 606. 609. 612. 615. 618. 621. 624. 627.\n",
      " 630. 633. 636. 639. 642. 645. 648. 651. 654. 657. 660. 663. 666. 669.\n",
      " 672. 675. 678. 681. 684. 687. 690. 693. 696. 699. 702. 705. 708. 711.\n",
      " 714. 717. 720. 723. 726. 729. 732. 735. 738. 741.]\n"
     ]
    }
   ],
   "source": [
    "# get more info on time variable\n",
    "with nc.Dataset(example_file, 'r') as ds:\n",
    "    # Access the \"time\" variable\n",
    "    time_var = ds.variables['time']\n",
    "\n",
    "    # Print the variable dimensions\n",
    "    print(\"Variable dimensions:\", time_var.dimensions)\n",
    "\n",
    "    # Print the variable shape\n",
    "    print(\"Variable shape:\", time_var.shape)\n",
    "\n",
    "    # Print the variable attributes\n",
    "    print(\"Variable attributes:\", time_var.ncattrs())\n",
    "\n",
    "    # Print a specific attribute\n",
    "    print(\"Variable units:\", time_var.units)\n",
    "\n",
    "    # Print the variable values\n",
    "    print(\"Variable values:\", time_var[:])"
   ]
  },
  {
   "attachments": {},
   "cell_type": "markdown",
   "metadata": {},
   "source": [
    "## Change the value of the calendar attribute from 'standard' to 'gregorian':"
   ]
  },
  {
   "cell_type": "code",
   "execution_count": 11,
   "metadata": {},
   "outputs": [
    {
     "name": "stdout",
     "output_type": "stream",
     "text": [
      "/mnt/c/Users/evaler/OneDrive - Universitetet i Oslo/Eva/PHD/FATES_INCLINE/src\n"
     ]
    }
   ],
   "source": [
    "%%bash\n",
    "pwd\n",
    "cd ../data/ALP4_cosmorea_gregorian/datmdata\n",
    "for f in clm1pt_ALP4*; do ncatted -O -a calendar,time,o,c,gregorian $f; done"
   ]
  },
  {
   "attachments": {},
   "cell_type": "markdown",
   "metadata": {},
   "source": [
    "Check if everything looks fine by printing some info for some example files:"
   ]
  },
  {
   "cell_type": "code",
   "execution_count": 19,
   "metadata": {},
   "outputs": [
    {
     "name": "stdout",
     "output_type": "stream",
     "text": [
      "Variable attributes: ['standard_name', 'units', 'calendar', 'axis']\n",
      "Current calendar gregorian\n",
      "Variable values: [  0.   3.   6.   9.  12.  15.  18.  21.  24.  27.  30.  33.  36.  39.\n",
      "  42.  45.  48.  51.  54.  57.  60.  63.  66.  69.  72.  75.  78.  81.\n",
      "  84.  87.  90.  93.  96.  99. 102. 105. 108. 111. 114. 117. 120. 123.\n",
      " 126. 129. 132. 135. 138. 141. 144. 147. 150. 153. 156. 159. 162. 165.\n",
      " 168. 171. 174. 177. 180. 183. 186. 189. 192. 195. 198. 201. 204. 207.\n",
      " 210. 213. 216. 219. 222. 225. 228. 231. 234. 237. 240. 243. 246. 249.\n",
      " 252. 255. 258. 261. 264. 267. 270. 273. 276. 279. 282. 285. 288. 291.\n",
      " 294. 297. 300. 303. 306. 309. 312. 315. 318. 321. 324. 327. 330. 333.\n",
      " 336. 339. 342. 345. 348. 351. 354. 357. 360. 363. 366. 369. 372. 375.\n",
      " 378. 381. 384. 387. 390. 393. 396. 399. 402. 405. 408. 411. 414. 417.\n",
      " 420. 423. 426. 429. 432. 435. 438. 441. 444. 447. 450. 453. 456. 459.\n",
      " 462. 465. 468. 471. 474. 477. 480. 483. 486. 489. 492. 495. 498. 501.\n",
      " 504. 507. 510. 513. 516. 519. 522. 525. 528. 531. 534. 537. 540. 543.\n",
      " 546. 549. 552. 555. 558. 561. 564. 567. 570. 573. 576. 579. 582. 585.\n",
      " 588. 591. 594. 597. 600. 603. 606. 609. 612. 615. 618. 621. 624. 627.\n",
      " 630. 633. 636. 639. 642. 645. 648. 651. 654. 657. 660. 663. 666. 669.]\n"
     ]
    }
   ],
   "source": [
    "# check that the files look correct, unmodified by other scripts\n",
    "example_file = str(Path(cosmo_path + \"/ALP4_cosmorea_gregorian/datmdata/\" + f\"clm1pt_ALP4_2001-02.nc\"))\n",
    "# get more info on time variable\n",
    "with nc.Dataset(example_file, 'r') as ds:\n",
    "    # Access the \"time\" variable\n",
    "    time_var = ds.variables['time']\n",
    "\n",
    "    # Print info\n",
    "    print(\"Variable attributes:\", time_var.ncattrs())\n",
    "    print(\"Current calendar\", time_var.calendar)\n",
    "    print(\"Variable values:\", time_var[:])"
   ]
  },
  {
   "attachments": {},
   "cell_type": "markdown",
   "metadata": {},
   "source": [
    "Re-zip folder"
   ]
  },
  {
   "cell_type": "code",
   "execution_count": 20,
   "metadata": {},
   "outputs": [
    {
     "name": "stdout",
     "output_type": "stream",
     "text": [
      "zipping complete\n"
     ]
    }
   ],
   "source": [
    "shutil.make_archive(cosmo_path + \"/ALP4_cosmorea_gregorian\",\n",
    "                    'zip', cosmo_path + \"/ALP4_cosmorea_gregorian\")\n",
    "print(\"zipping complete\")"
   ]
  },
  {
   "attachments": {},
   "cell_type": "markdown",
   "metadata": {},
   "source": [
    "Finally, commit and push changes back to github repository so the data can be downloaded from there."
   ]
  }
 ],
 "metadata": {
  "kernelspec": {
   "display_name": "vscode",
   "language": "python",
   "name": "python3"
  },
  "language_info": {
   "codemirror_mode": {
    "name": "ipython",
    "version": 3
   },
   "file_extension": ".py",
   "mimetype": "text/x-python",
   "name": "python",
   "nbconvert_exporter": "python",
   "pygments_lexer": "ipython3",
   "version": "3.10.9"
  },
  "orig_nbformat": 4,
  "vscode": {
   "interpreter": {
    "hash": "6ffdbb7dcba71ee9bfd760f02a7add94ffe938549fbb9e2346155ac79cdba3bd"
   }
  }
 },
 "nbformat": 4,
 "nbformat_minor": 2
}
