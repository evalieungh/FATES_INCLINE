{
 "cells": [
  {
   "attachments": {},
   "cell_type": "markdown",
   "id": "36e945e1-b277-4b4a-8d99-071ad793bbdb",
   "metadata": {
    "tags": []
   },
   "source": [
    "# Combine multiple NetCDF outputs into one file\n",
    "\n",
    "Date started: 2023-06-29\n",
    "Notebook by EL, copied and modified from [LSP notebook](https://github.com/NorESMhub/noresm-land-sites-platform/blob/main/notebooks/combine_nc_files.ipynb) to combine NetCDF files\n",
    "\n",
    "To analyse multiple output `.nc` files from a simulation (open the `cases/[case_id]/archive/lnd/hist/` folder to double-check), it is recommended to concatenate these into a new single file to simplify and speed up the data analysis. Text cells in this notebook follow Markdown syntax, while code cells are a mix of Python and bash code. We will use [cell magic commands](https://ipython.readthedocs.io/en/stable/interactive/magics.html) to call an external command line tool.\n",
    "\n",
    "Because of Lunix subsystem for windows & OneDrive stuff, I store the model output like this first:\n",
    "1. Download whole case folder from VM on NREC with `scp -r -i .ssh/evaskey ubuntu@<IP-address> <source folder on VM> <Downloads folder on laptop>`\n",
    "2. Move downloaded case folder to OneDrive, and\n",
    "3. copy archive/lnd/hist folder (model output files) to a temporary folder under c/Users/<username>/temp. "
   ]
  },
  {
   "cell_type": "code",
   "execution_count": 5,
   "id": "7ee36221",
   "metadata": {},
   "outputs": [],
   "source": [
    "from pathlib import Path\n",
    "import os"
   ]
  },
  {
   "attachments": {},
   "cell_type": "markdown",
   "id": "b101a4b0-6181-4e07-926d-dd7a9a8e37d7",
   "metadata": {},
   "source": [
    "## Rename output files\n",
    "\n",
    "To prevent an \"Argument list too long\" error, try to remove parts of the filenames before concatenating. Remove the first 35 characters with the 'remove' function that needs to be installed first. Then list the first 10 files in the folder to check that it looks right. This needs to be done in a terminal from the temporary folder where the history files were copied to:\n",
    "\n",
    "`sudo apt-get install rename`\n",
    "\n",
    "`cd <simulationName>/history_files`\n",
    "\n",
    "`find . -type f -execdir rename 's/^.{35}//' {} \\;`\n",
    "\n",
    "`ls | head -10`"
   ]
  },
  {
   "attachments": {},
   "cell_type": "markdown",
   "id": "d374c46e",
   "metadata": {},
   "source": [
    "## Concatenate files"
   ]
  },
  {
   "attachments": {},
   "cell_type": "markdown",
   "id": "d13ec829-8ab3-44f9-868b-7242d30e56d0",
   "metadata": {},
   "source": [
    "Use cell magic to concatenate the files with `ncrcat`. It can take some time (ca 10 minutes) if it needs to combine many files. The `*` in the following cell denotes a so-called wild-card, so this example will combine **all** files for history tape 0 (`h0`). Do this one by one for each simulation."
   ]
  },
  {
   "cell_type": "code",
   "execution_count": 3,
   "id": "ece5106b",
   "metadata": {},
   "outputs": [
    {
     "name": "stdout",
     "output_type": "stream",
     "text": [
      "/home/evaler\n",
      "alp4-1500-gswp3-DA.0-1500.nc\n",
      "history_files\n"
     ]
    }
   ],
   "source": [
    "%%bash\n",
    "cd ~\n",
    "pwd\n",
    "ncrcat /mnt/c/Users/evaler/temp/alp4-1500-gswp3-DA/history_files/hist/*.nc /mnt/c/Users/evaler/temp/alp4-1500-gswp3-DA/alp4-1500-gswp3-DA.0-1500.nc\n",
    "ls /mnt/c/Users/evaler/temp/alp4-1500-gswp3-DA/"
   ]
  },
  {
   "cell_type": "code",
   "execution_count": null,
   "id": "99910a14",
   "metadata": {},
   "outputs": [],
   "source": []
  },
  {
   "cell_type": "code",
   "execution_count": 1,
   "id": "8a870b4d",
   "metadata": {},
   "outputs": [
    {
     "name": "stdout",
     "output_type": "stream",
     "text": [
      "/home/evaler\n",
      "alp4-1500-cosmo-IA.0-1500.nc\n",
      "history_files\n"
     ]
    }
   ],
   "source": [
    "%%bash\n",
    "cd ~\n",
    "pwd\n",
    "ncrcat /mnt/c/Users/evaler/temp/alp4-1500-cosmo-IA/history_files/*.nc /mnt/c/Users/evaler/temp/alp4-1500-cosmo-IA/alp4-1500-cosmo-IA.0-1500.nc\n",
    "ls /mnt/c/Users/evaler/temp/alp4-1500-cosmo-IA/"
   ]
  },
  {
   "cell_type": "code",
   "execution_count": 5,
   "id": "629d9fef",
   "metadata": {},
   "outputs": [
    {
     "name": "stdout",
     "output_type": "stream",
     "text": [
      "/home/evaler\n",
      "alp4-1500-cosmo-IB.0-1500.nc\n",
      "history_files\n"
     ]
    }
   ],
   "source": [
    "%%bash\n",
    "cd ~\n",
    "pwd\n",
    "ncrcat /mnt/c/Users/evaler/temp/alp4-1500-cosmo-IB/history_files/*.nc /mnt/c/Users/evaler/temp/alp4-1500-cosmo-IB/alp4-1500-cosmo-IB.0-1500.nc\n",
    "ls /mnt/c/Users/evaler/temp/alp4-1500-cosmo-IB/"
   ]
  },
  {
   "cell_type": "code",
   "execution_count": 51,
   "id": "92d4c14f-d8b1-43df-9149-7ff30b08a9f3",
   "metadata": {
    "tags": []
   },
   "outputs": [
    {
     "name": "stdout",
     "output_type": "stream",
     "text": [
      "/home/evaler\n"
     ]
    }
   ],
   "source": [
    "%%bash\n",
    "cd ~\n",
    "pwd\n",
    "ncrcat /mnt/c/Users/evaler/temp/alp4-1500-warmed-IW/history_files/*.nc /mnt/c/Users/evaler/temp/alp4-1500-warmed-IW/alp4-1500-warmed-IW.0-1500.nc\n",
    "ls /mnt/c/Users/evaler/temp/alp4-1500-warmed-IW/"
   ]
  }
 ],
 "metadata": {
  "kernelspec": {
   "display_name": "Python 3 (ipykernel)",
   "language": "python",
   "name": "python3"
  },
  "language_info": {
   "codemirror_mode": {
    "name": "ipython",
    "version": 3
   },
   "file_extension": ".py",
   "mimetype": "text/x-python",
   "name": "python",
   "nbconvert_exporter": "python",
   "pygments_lexer": "ipython3",
   "version": "3.10.9"
  },
  "vscode": {
   "interpreter": {
    "hash": "98bd30b8b4c3c7b34184719ef7bcbbe0e9ad7d5e716650527163f9a187dd92d9"
   }
  }
 },
 "nbformat": 4,
 "nbformat_minor": 5
}
