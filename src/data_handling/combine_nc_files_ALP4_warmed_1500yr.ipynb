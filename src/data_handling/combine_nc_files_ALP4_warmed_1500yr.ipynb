{
 "cells": [
  {
   "cell_type": "markdown",
   "id": "36e945e1-b277-4b4a-8d99-071ad793bbdb",
   "metadata": {
    "tags": []
   },
   "source": [
    "# Combine multiple NetCDF outputs into one file\n",
    "\n",
    "To analyse multiple output `.nc` files from a simulation (open the `cases/[case_id]/archive/lnd/hist/` folder to double-check), it is recommended to concatenate these into a new single file to simplify and speed up the data analysis. For 1500 years of simulation, there are too many files to concatenate in one go. Set up three subfolders and move 500 years into each. The last 500 years of results will be used for further analysis in other notebooks. \n",
    "\n",
    "Text cells in this notebook follow Markdown syntax, while code cells are a mix of Python and bash code. We will use [cell magic commands](https://ipython.readthedocs.io/en/stable/interactive/magics.html) to call an external command line tool."
   ]
  },
  {
   "cell_type": "code",
   "execution_count": 1,
   "id": "badd8ff0-e153-47c3-a0e7-23c54f9de824",
   "metadata": {
    "tags": []
   },
   "outputs": [],
   "source": [
    "# Name of case folder\n",
    "case_id = \"179e6a7e02c1245e9185efe9dbd92dde_alp4-1500-cosmo-warmed\"\n",
    "# Set paths to where files are stored and where to save the concatenated files.\n",
    "# one level above original output files to avoid long loading times and conflicts\n",
    "output_path_str = f\"../cases/{case_id}/archive/lnd/hist\" # 1 for first 500 years, 2 for last 1000\n",
    "save_path_str = f\"/cases/{case_id}/archive/lnd/\""
   ]
  },
  {
   "cell_type": "markdown",
   "id": "15b824f8-c63e-430e-aac0-891ba70e1e46",
   "metadata": {},
   "source": [
    "**********************************************\n",
    "\n",
    "list the number of files in a directory with `ls -1 | wc -l`. \n"
   ]
  },
  {
   "cell_type": "code",
   "execution_count": 2,
   "id": "ba4f001b-c6af-4005-b6c7-55cfb2bf78e0",
   "metadata": {
    "tags": []
   },
   "outputs": [
    {
     "name": "stdout",
     "output_type": "stream",
     "text": [
      "files per dir to be moved: 6000\n"
     ]
    }
   ],
   "source": [
    "import shutil\n",
    "import os\n",
    "\n",
    "num_files = 18000\n",
    "num_dest_dirs = 3\n",
    "\n",
    "# Calculate number of files to move to each directory\n",
    "files_per_dir = num_files // num_dest_dirs\n",
    "print(\"files per dir to be moved:\", files_per_dir)"
   ]
  },
  {
   "cell_type": "code",
   "execution_count": 3,
   "id": "9bc430fc-8399-45a7-9d5a-04c58d2ee3d5",
   "metadata": {
    "tags": []
   },
   "outputs": [
    {
     "name": "stdout",
     "output_type": "stream",
     "text": [
      "/home/ubuntu/notebooks\n"
     ]
    }
   ],
   "source": [
    "import os\n",
    "cwd = os.getcwd()\n",
    "print(cwd)"
   ]
  },
  {
   "cell_type": "code",
   "execution_count": 4,
   "id": "7f39ca7d-1f9f-4dd4-8553-adbbabf52f14",
   "metadata": {
    "tags": []
   },
   "outputs": [
    {
     "name": "stdout",
     "output_type": "stream",
     "text": [
      "starting at  0\n",
      "ending at 6000\n",
      "year_month_str:  0001-01\n",
      "starting at  6000\n",
      "ending at 12000\n",
      "year_month_str:  0501-01\n",
      "starting at  12000\n",
      "ending at 18000\n",
      "year_month_str:  1001-01\n",
      "Done!\n"
     ]
    }
   ],
   "source": [
    "# Move files to the new destination directories\n",
    "for i in range(num_dest_dirs):\n",
    "    src_dir = output_path_str\n",
    "    dest_dir = os.path.join(output_path_str, str(i+1))\n",
    "    start_idx = i * files_per_dir\n",
    "    print(\"starting at \", start_idx)\n",
    "    end_idx = start_idx + files_per_dir\n",
    "    print(\"ending at\", end_idx)\n",
    "\n",
    "    # Move files to destination directory\n",
    "    for j in range(start_idx, end_idx):\n",
    "        year_month_str = '{:04d}-{:02d}'.format(1 + j // 12, j % 12 + 1)\n",
    "        if j == start_idx:\n",
    "            print(\"year_month_str: \", year_month_str)\n",
    "        src_file = os.path.join(src_dir, f\"alp4-1500-cosmo-warmed.clm2.h0.{year_month_str}.nc\")\n",
    "        dest_file = os.path.join(dest_dir, f\"alp4-1500-cosmo-warmed.clm2.h0.{year_month_str}.nc\")\n",
    "        shutil.move(src_file, dest_file)\n",
    "\n",
    "print(\"Done!\")"
   ]
  },
  {
   "cell_type": "markdown",
   "id": "43164c86-6e70-4d3a-bf9e-f460ca876702",
   "metadata": {},
   "source": [
    "Now you have specified where the files are stored, and we can combine them. The `*` in the following cell denotes a so-called wild-card, so this example will combine **all** files for history tape 0 (`h0`) contained in `cases/[case_id]/archive/lnd/hist/`. Adjust this if you want to combine outputs for a different history tape that you may have included when creating a case in the user interface. If you have several history tapes, you should repeat this whole notebook for additional tapes and give them meaningful names.\n",
    "\n",
    "Set `NC_OUT_NAME` to a descriptive name for the resulting combined single file. The given example uses the case ID and a model simulation period of 1000 years."
   ]
  },
  {
   "cell_type": "code",
   "execution_count": 5,
   "id": "c427a02d-4ad0-4cfa-b874-d73943c03da8",
   "metadata": {
    "tags": []
   },
   "outputs": [],
   "source": [
    "output_path_str_1 = f\"/cases/{case_id}/archive/lnd/hist/1/\"\n",
    "output_path_str_2 = f\"/cases/{case_id}/archive/lnd/hist/2/\"\n",
    "output_path_str_3 = f\"/cases/{case_id}/archive/lnd/hist/3/\"\n"
   ]
  },
  {
   "cell_type": "code",
   "execution_count": 6,
   "id": "00e84d9c-1cab-4450-b05b-0b4db042f61e",
   "metadata": {
    "tags": []
   },
   "outputs": [],
   "source": [
    "hist_tape = \"h0\" # Name of the history tape to combine into a single file\n",
    "\n",
    "os.environ['NCFILES_TO_COMBINE'] = f\"*{hist_tape}*.nc\" # Name of output .nc files to combine\n",
    "os.environ['NC_OUT_NAME_1'] = f\"{case_id}.{hist_tape}.0000-0500.nc\" # Descriptive name for the resulting combined file\n",
    "os.environ['NC_OUT_NAME_2'] = f\"{case_id}.{hist_tape}.0501-1000.nc\" \n",
    "os.environ['NC_OUT_NAME_3'] = f\"{case_id}.{hist_tape}.1001-1500.nc\" "
   ]
  },
  {
   "cell_type": "markdown",
   "id": "b101a4b0-6181-4e07-926d-dd7a9a8e37d7",
   "metadata": {},
   "source": [
    "Because of an \"Argument list too long\" error, try to remove parts of the filenames before concatenating. Remove the first 35 characters with the 'remove' function that needs to be installed first. Then list the first 10 files in the folder to check that it looks right. This needs to be done in a terminal outside the container.From the case folder:\n",
    "\n",
    "`sudo apt-get install rename`\n",
    "\n",
    "`cd archive/lnd/hist`\n",
    "\n",
    "`find . -type f -execdir rename 's/^.{35}//' {} \\;`\n",
    "\n",
    "`ls | head -10`"
   ]
  },
  {
   "cell_type": "code",
   "execution_count": 7,
   "id": "de894198-0b31-40bd-a2e1-c972a65899df",
   "metadata": {
    "tags": []
   },
   "outputs": [],
   "source": [
    "os.environ['CASE_ID'] = case_id\n",
    "os.environ['CASE_HIST_PATH_1'] = output_path_str_1\n",
    "os.environ['CASE_HIST_PATH_2'] = output_path_str_2\n",
    "os.environ['CASE_HIST_PATH_3'] = output_path_str_3\n",
    "os.environ['SAVE_PATH'] = save_path_str"
   ]
  },
  {
   "cell_type": "markdown",
   "id": "d13ec829-8ab3-44f9-868b-7242d30e56d0",
   "metadata": {},
   "source": [
    "Use cell magic to concatenate the files with `ncrcat`. It can take some time (several minutes) if it needs to combine many files."
   ]
  },
  {
   "cell_type": "code",
   "execution_count": 8,
   "id": "92d4c14f-d8b1-43df-9149-7ff30b08a9f3",
   "metadata": {
    "tags": []
   },
   "outputs": [],
   "source": [
    "!ncrcat $PWD/..$CASE_HIST_PATH_1$NCFILES_TO_COMBINE $PWD/..$SAVE_PATH$NC_OUT_NAME_1"
   ]
  },
  {
   "cell_type": "code",
   "execution_count": 9,
   "id": "aef269d8-f7ee-4e7a-a35a-d7b5dde08e1c",
   "metadata": {
    "tags": []
   },
   "outputs": [],
   "source": [
    "!ncrcat $PWD/..$CASE_HIST_PATH_2$NCFILES_TO_COMBINE $HOME$SAVE_PATH$NC_OUT_NAME_2"
   ]
  },
  {
   "cell_type": "code",
   "execution_count": 10,
   "id": "d1e21e7e-a68f-4ec8-a759-9c0a73bcd5e3",
   "metadata": {
    "tags": []
   },
   "outputs": [],
   "source": [
    "!ncrcat $PWD/..$CASE_HIST_PATH_3$NCFILES_TO_COMBINE $HOME$SAVE_PATH$NC_OUT_NAME_3"
   ]
  }
 ],
 "metadata": {
  "kernelspec": {
   "display_name": "Python 3 (ipykernel)",
   "language": "python",
   "name": "python3"
  },
  "language_info": {
   "codemirror_mode": {
    "name": "ipython",
    "version": 3
   },
   "file_extension": ".py",
   "mimetype": "text/x-python",
   "name": "python",
   "nbconvert_exporter": "python",
   "pygments_lexer": "ipython3",
   "version": "3.10.10"
  },
  "vscode": {
   "interpreter": {
    "hash": "98bd30b8b4c3c7b34184719ef7bcbbe0e9ad7d5e716650527163f9a187dd92d9"
   }
  }
 },
 "nbformat": 4,
 "nbformat_minor": 5
}
