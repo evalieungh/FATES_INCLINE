{
 "cells": [
  {
   "attachments": {},
   "cell_type": "markdown",
   "metadata": {},
   "source": [
    "# Manipulate atmospheric forcing data to simulate the OTC effect from the field experiment\n",
    "\n",
    "placeholder for now. Once forcing data is ready, fill in this notebook to make a modified version of the atmospheric forcing that has increased temperature, similar to the experimental OTC effect. \n",
    "\n",
    "Compare observational temperature data inside vs outside OTC, apply similar increase to forcing temperature. Upload as new zipped input data folder."
   ]
  },
  {
   "attachments": {},
   "cell_type": "markdown",
   "metadata": {},
   "source": [
    "Assuming logger placement/removal dates coincide well with OTC placement and removal dates, data from INCLINE_metadata_LoggerDates. csv, https://osf.io/5nmfe, gives these dates:\n",
    "\n",
    "| Site  | placement  |  removal  |\n",
    "|  ---- | --------   | --------- |\n",
    "| Ulvehaugen, ALP1 | 2019-06-11, 2021-06-17 | 2020-09-22, 2021-09-29 |\n",
    "| Lavisdalen, ALP2 | 2019-06-19, 2021-06-15 | 2020-09-29, 2021-09-28 |\n",
    "| Gudmedalen, ALP3 | 2019-06-12, 2021-06-16 | 2020-09-30, 2021-09-28 |\n",
    "| Skjellingahaugen, ALP4 | 2019-06-20, 2021-06-18 | 2020-09-28, 2021-09-27 |"
   ]
  },
  {
   "cell_type": "code",
   "execution_count": null,
   "metadata": {},
   "outputs": [],
   "source": []
  }
 ],
 "metadata": {
  "language_info": {
   "name": "python"
  },
  "orig_nbformat": 4
 },
 "nbformat": 4,
 "nbformat_minor": 2
}
