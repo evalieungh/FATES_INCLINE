{
 "cells": [
  {
   "attachments": {},
   "cell_type": "markdown",
   "metadata": {},
   "source": [
    "# Manipulate atmospheric forcing data to simulate the OTC effect from the field experiment\n",
    "\n",
    "date created: 2023-04-14\n",
    "\n",
    "This notebook...\n",
    "\n",
    "1. documents decisions made with the observational data\n",
    "2. takes COSMO reanalysis data and makes a modified version of the temperature forcing with 1 degree increased temperature in daytime\n",
    "3. makes simple plots to check that it worked"
   ]
  },
  {
   "attachments": {},
   "cell_type": "markdown",
   "metadata": {},
   "source": [
    "Assuming logger placement/removal dates coincide well with OTC placement and removal dates, data from INCLINE_metadata_LoggerDates. csv, https://osf.io/5nmfe, gives these dates:\n",
    "\n",
    "| Site  | placement  |  removal  |\n",
    "|  ---- | --------   | --------- |\n",
    "| Ulvehaugen, ALP1 | 2019-06-11, 2021-06-17 | 2020-09-22, 2021-09-29 |\n",
    "| Lavisdalen, ALP2 | 2019-06-19, 2021-06-15 | 2020-09-29, 2021-09-28 |\n",
    "| Gudmedalen, ALP3 | 2019-06-12, 2021-06-16 | 2020-09-30, 2021-09-28 |\n",
    "| Skjellingahaugen, ALP4 | 2019-06-20, 2021-06-18 | 2020-09-28, 2021-09-27 |\n",
    "\n",
    "For simplicity, use June 16 and Sept 28 as placement and removal dates for all sites and years. "
   ]
  },
  {
   "cell_type": "code",
   "execution_count": 13,
   "metadata": {},
   "outputs": [],
   "source": [
    "# import libraries\n",
    "import os\n",
    "import netCDF4 as nc\n",
    "import xarray as xr  # NetCDF data handling\n",
    "import pandas as pd\n",
    "import numpy as np\n",
    "import datetime as dt\n",
    "import zipfile # for unzipping\n",
    "import shutil # easiest whole-directory zipping\n",
    "from pathlib import Path  # For easy path handling"
   ]
  },
  {
   "attachments": {},
   "cell_type": "markdown",
   "metadata": {},
   "source": [
    "Read in data. See other notebooks for downloading and unzipping data if necessary. In file explorer, copy the whole data/ALP4_cosmorea folder and name the new copy ALP4_cosmorea_warmed. Use that one to work with while keeping the source folder as a backup if something goes wrong."
   ]
  },
  {
   "cell_type": "code",
   "execution_count": 4,
   "metadata": {},
   "outputs": [
    {
     "name": "stdout",
     "output_type": "stream",
     "text": [
      "cosmo_path: C:\\Users\\evaler\\OneDrive - Universitetet i Oslo\\Eva\\PHD\\FATES_INCLINE\\data\\ALP4_cosmorea_warmed\\datmdata\n",
      "gswp3_path C:\\Users\\evaler\\OneDrive - Universitetet i Oslo\\Eva\\PHD\\FATES_INCLINE\\data\\ALP4\\datmdata\n"
     ]
    }
   ],
   "source": [
    "# set path to data folder with atmospheric forcing\n",
    "cosmo_path = str(Path(f\"C:/Users/evaler/OneDrive - Universitetet i Oslo/Eva/PHD/FATES_INCLINE/data/ALP4_cosmorea_warmed/datmdata\"))\n",
    "print(\"cosmo_path:\", cosmo_path)\n",
    "\n",
    "gswp3_path = str(Path(f\"C:/Users/evaler/OneDrive - Universitetet i Oslo/Eva/PHD/FATES_INCLINE/data/ALP4/datmdata\"))\n",
    "print(\"gswp3_path\", gswp3_path)"
   ]
  },
  {
   "attachments": {},
   "cell_type": "markdown",
   "metadata": {},
   "source": [
    "## GSWP3 data modification"
   ]
  },
  {
   "cell_type": "code",
   "execution_count": 28,
   "metadata": {},
   "outputs": [
    {
     "name": "stdout",
     "output_type": "stream",
     "text": [
      "Variables: dict_keys(['lon', 'lat', 'time', 'LONGXY', 'LATIXY', 'EDGEE', 'EDGEW', 'EDGES', 'EDGEN', 'PSRF', 'TBOT', 'WIND', 'QBOT', 'FLDS'])\n",
      "  case_title: GSWP3 3-Hourly Atmospheric Forcing: Temperature, Pressure, Winds, Humidity, and Downward Longwave Radiation.  Missing values for Wind filled with 1948 Qian data interpolated by datm to GSWP3 grid.\n",
      "  Created_on: 2022-10-27\n",
      "  Created_by: kavehka\n",
      "  Created_with: ./subset_data -- 616905bbb\n",
      "  Created_from: /cluster/shared/noresm/inputdata/atm/datm7/atm_forcing.datm7.GSWP3.0.5d.v1.c170516/TPHWL/clmforc.GSWP3.c2011.0.5x0.5.TPQWL.1999-07.nc\n",
      "Variable attributes: ['_FillValue', 'long_name', 'units', 'calendar']\n",
      "Variable calendar: noleap\n",
      "Variable units: days since 1999-07-01\n",
      "[0.0625 0.1875 0.3125 0.4375 0.5625 0.6875 0.8125 0.9375 1.0625 1.1875\n",
      " 1.3125 1.4375 1.5625 1.6875 1.8125 1.9375 2.0625 2.1875 2.3125 2.4375]\n",
      "days since 1999-07-01\n"
     ]
    }
   ],
   "source": [
    "example_file = str(Path(gswp3_path + \"/\" + f\"clmforc.GSWP3.c2011.0.5x0.5.TPQWL.ALP4.1999-07.nc\"))\n",
    "with nc.Dataset(example_file, 'r') as ds:\n",
    "    # List all variables in the file\n",
    "    print(\"Variables:\", ds.variables.keys())\n",
    "    # print some attributes\n",
    "    for attr_name in ds.ncattrs():\n",
    "            print(f\"  {attr_name}: {getattr(ds, attr_name)}\")\n",
    "    # Access the \"time\" variable\n",
    "    time_var = ds.variables['time']\n",
    "    # Print some info\n",
    "    print(\"Variable attributes:\", time_var.ncattrs())\n",
    "    print(\"Variable calendar:\", time_var.calendar)\n",
    "    print(\"Variable units:\", time_var.units)\n",
    "    print(time_var[0:20])\n",
    "    print(ds.variables['time'].units)#'].split(' since ')[1])"
   ]
  },
  {
   "attachments": {},
   "cell_type": "markdown",
   "metadata": {},
   "source": [
    "Let's choose 06:00 to 18:00 as 'daytime' when we apply the temperature modification. I will choose 1 degree (C or K) as a flat increase."
   ]
  },
  {
   "cell_type": "code",
   "execution_count": 19,
   "metadata": {},
   "outputs": [
    {
     "name": "stdout",
     "output_type": "stream",
     "text": [
      "['clmforc.GSWP3.c2011.0.5x0.5.TPQWL.ALP4.1901-01.nc', 'clmforc.GSWP3.c2011.0.5x0.5.TPQWL.ALP4.1901-02.nc', 'clmforc.GSWP3.c2011.0.5x0.5.TPQWL.ALP4.1901-03.nc', 'clmforc.GSWP3.c2011.0.5x0.5.TPQWL.ALP4.1901-04.nc', 'clmforc.GSWP3.c2011.0.5x0.5.TPQWL.ALP4.1901-05.nc', 'clmforc.GSWP3.c2011.0.5x0.5.TPQWL.ALP4.1901-06.nc', 'clmforc.GSWP3.c2011.0.5x0.5.TPQWL.ALP4.1901-07.nc', 'clmforc.GSWP3.c2011.0.5x0.5.TPQWL.ALP4.1901-08.nc', 'clmforc.GSWP3.c2011.0.5x0.5.TPQWL.ALP4.1901-09.nc', 'clmforc.GSWP3.c2011.0.5x0.5.TPQWL.ALP4.1901-10.nc', 'clmforc.GSWP3.c2011.0.5x0.5.TPQWL.ALP4.1901-11.nc', 'clmforc.GSWP3.c2011.0.5x0.5.TPQWL.ALP4.1901-12.nc', 'clmforc.GSWP3.c2011.0.5x0.5.TPQWL.ALP4.1902-01.nc', 'clmforc.GSWP3.c2011.0.5x0.5.TPQWL.ALP4.1902-02.nc', 'clmforc.GSWP3.c2011.0.5x0.5.TPQWL.ALP4.1902-03.nc', 'clmforc.GSWP3.c2011.0.5x0.5.TPQWL.ALP4.1902-04.nc', 'clmforc.GSWP3.c2011.0.5x0.5.TPQWL.ALP4.1902-05.nc', 'clmforc.GSWP3.c2011.0.5x0.5.TPQWL.ALP4.1902-06.nc', 'clmforc.GSWP3.c2011.0.5x0.5.TPQWL.ALP4.1902-07.nc', 'clmforc.GSWP3.c2011.0.5x0.5.TPQWL.ALP4.1902-08.nc', 'clmforc.GSWP3.c2011.0.5x0.5.TPQWL.ALP4.1902-09.nc', 'clmforc.GSWP3.c2011.0.5x0.5.TPQWL.ALP4.1902-10.nc', 'clmforc.GSWP3.c2011.0.5x0.5.TPQWL.ALP4.1902-11.nc', 'clmforc.GSWP3.c2011.0.5x0.5.TPQWL.ALP4.1902-12.nc']\n"
     ]
    }
   ],
   "source": [
    "testfolder = str(Path(gswp3_path + \"/warmingtest\"))\n",
    "files = [f for f in os.listdir(testfolder) if f.endswith('.nc')]\n",
    "print(files)"
   ]
  },
  {
   "cell_type": "code",
   "execution_count": 25,
   "metadata": {},
   "outputs": [
    {
     "name": "stdout",
     "output_type": "stream",
     "text": [
      "working in: C:\\Users\\evaler\\OneDrive - Universitetet i Oslo\\Eva\\PHD\\FATES_INCLINE\\data\\ALP4\\datmdata\\warmingtest\n",
      "Processing file: C:\\Users\\evaler\\OneDrive - Universitetet i Oslo\\Eva\\PHD\\FATES_INCLINE\\data\\ALP4\\datmdata\\warmingtest\\clmforc.GSWP3.c2011.0.5x0.5.TPQWL.ALP4.1901-01.nc\n"
     ]
    },
    {
     "ename": "ValueError",
     "evalue": "Invalid type for timedelta scalar: <class 'cftime._cftime.DatetimeNoLeap'>",
     "output_type": "error",
     "traceback": [
      "\u001b[1;31m---------------------------------------------------------------------------\u001b[0m",
      "\u001b[1;31mTypeError\u001b[0m                                 Traceback (most recent call last)",
      "File \u001b[1;32mc:\\Users\\evaler\\.conda\\envs\\vscode\\lib\\site-packages\\pandas\\_libs\\tslibs\\timedeltas.pyx:433\u001b[0m, in \u001b[0;36mpandas._libs.tslibs.timedeltas.array_to_timedelta64\u001b[1;34m()\u001b[0m\n",
      "File \u001b[1;32mc:\\Users\\evaler\\.conda\\envs\\vscode\\lib\\site-packages\\pandas\\_libs\\tslibs\\timedeltas.pyx:465\u001b[0m, in \u001b[0;36mpandas._libs.tslibs.timedeltas._item_to_timedelta64_fastpath\u001b[1;34m()\u001b[0m\n",
      "\u001b[1;31mTypeError\u001b[0m: Expected unicode, got cftime._cftime.DatetimeNoLeap",
      "\nDuring handling of the above exception, another exception occurred:\n",
      "\u001b[1;31mValueError\u001b[0m                                Traceback (most recent call last)",
      "Cell \u001b[1;32mIn[25], line 13\u001b[0m\n\u001b[0;32m     11\u001b[0m \u001b[39m# Extract the 'time' variable and convert it to a pandas DatetimeIndex\u001b[39;00m\n\u001b[0;32m     12\u001b[0m time_var \u001b[39m=\u001b[39m ds[\u001b[39m'\u001b[39m\u001b[39mtime\u001b[39m\u001b[39m'\u001b[39m]\u001b[39m.\u001b[39mdata\n\u001b[1;32m---> 13\u001b[0m time \u001b[39m=\u001b[39m pd\u001b[39m.\u001b[39;49mto_timedelta(time_var, unit\u001b[39m=\u001b[39;49m\u001b[39m'\u001b[39;49m\u001b[39mD\u001b[39;49m\u001b[39m'\u001b[39;49m) \u001b[39m+\u001b[39m ds[\u001b[39m'\u001b[39m\u001b[39mtime\u001b[39m\u001b[39m'\u001b[39m]\u001b[39m.\u001b[39mattrs[\u001b[39m'\u001b[39m\u001b[39munits\u001b[39m\u001b[39m'\u001b[39m]\u001b[39m.\u001b[39msplit(\u001b[39m'\u001b[39m\u001b[39m since \u001b[39m\u001b[39m'\u001b[39m)[\u001b[39m1\u001b[39m]\n\u001b[0;32m     15\u001b[0m \u001b[39m# Define the time range for daytime (06:00 to 18:00)\u001b[39;00m\n\u001b[0;32m     16\u001b[0m start_time \u001b[39m=\u001b[39m pd\u001b[39m.\u001b[39mTimestamp(\u001b[39m'\u001b[39m\u001b[39m06:00:00\u001b[39m\u001b[39m'\u001b[39m)\n",
      "File \u001b[1;32mc:\\Users\\evaler\\.conda\\envs\\vscode\\lib\\site-packages\\pandas\\core\\tools\\timedeltas.py:201\u001b[0m, in \u001b[0;36mto_timedelta\u001b[1;34m(arg, unit, errors)\u001b[0m\n\u001b[0;32m    199\u001b[0m     arg \u001b[39m=\u001b[39m lib\u001b[39m.\u001b[39mitem_from_zerodim(arg)  \u001b[39m# type: ignore[assignment]\u001b[39;00m\n\u001b[0;32m    200\u001b[0m \u001b[39melif\u001b[39;00m is_list_like(arg) \u001b[39mand\u001b[39;00m \u001b[39mgetattr\u001b[39m(arg, \u001b[39m\"\u001b[39m\u001b[39mndim\u001b[39m\u001b[39m\"\u001b[39m, \u001b[39m1\u001b[39m) \u001b[39m==\u001b[39m \u001b[39m1\u001b[39m:\n\u001b[1;32m--> 201\u001b[0m     \u001b[39mreturn\u001b[39;00m _convert_listlike(arg, unit\u001b[39m=\u001b[39;49munit, errors\u001b[39m=\u001b[39;49merrors)\n\u001b[0;32m    202\u001b[0m \u001b[39melif\u001b[39;00m \u001b[39mgetattr\u001b[39m(arg, \u001b[39m\"\u001b[39m\u001b[39mndim\u001b[39m\u001b[39m\"\u001b[39m, \u001b[39m1\u001b[39m) \u001b[39m>\u001b[39m \u001b[39m1\u001b[39m:\n\u001b[0;32m    203\u001b[0m     \u001b[39mraise\u001b[39;00m \u001b[39mTypeError\u001b[39;00m(\n\u001b[0;32m    204\u001b[0m         \u001b[39m\"\u001b[39m\u001b[39marg must be a string, timedelta, list, tuple, 1-d array, or Series\u001b[39m\u001b[39m\"\u001b[39m\n\u001b[0;32m    205\u001b[0m     )\n",
      "File \u001b[1;32mc:\\Users\\evaler\\.conda\\envs\\vscode\\lib\\site-packages\\pandas\\core\\tools\\timedeltas.py:242\u001b[0m, in \u001b[0;36m_convert_listlike\u001b[1;34m(arg, unit, errors, name)\u001b[0m\n\u001b[0;32m    239\u001b[0m     arg \u001b[39m=\u001b[39m np\u001b[39m.\u001b[39marray(\u001b[39mlist\u001b[39m(arg), dtype\u001b[39m=\u001b[39m\u001b[39mobject\u001b[39m)\n\u001b[0;32m    241\u001b[0m \u001b[39mtry\u001b[39;00m:\n\u001b[1;32m--> 242\u001b[0m     td64arr \u001b[39m=\u001b[39m sequence_to_td64ns(arg, unit\u001b[39m=\u001b[39;49munit, errors\u001b[39m=\u001b[39;49merrors, copy\u001b[39m=\u001b[39;49m\u001b[39mFalse\u001b[39;49;00m)[\u001b[39m0\u001b[39m]\n\u001b[0;32m    243\u001b[0m \u001b[39mexcept\u001b[39;00m \u001b[39mValueError\u001b[39;00m:\n\u001b[0;32m    244\u001b[0m     \u001b[39mif\u001b[39;00m errors \u001b[39m==\u001b[39m \u001b[39m\"\u001b[39m\u001b[39mignore\u001b[39m\u001b[39m\"\u001b[39m:\n",
      "File \u001b[1;32mc:\\Users\\evaler\\.conda\\envs\\vscode\\lib\\site-packages\\pandas\\core\\arrays\\timedeltas.py:894\u001b[0m, in \u001b[0;36msequence_to_td64ns\u001b[1;34m(data, copy, unit, errors)\u001b[0m\n\u001b[0;32m    891\u001b[0m \u001b[39m# Convert whatever we have into timedelta64[ns] dtype\u001b[39;00m\n\u001b[0;32m    892\u001b[0m \u001b[39mif\u001b[39;00m is_object_dtype(data\u001b[39m.\u001b[39mdtype) \u001b[39mor\u001b[39;00m is_string_dtype(data\u001b[39m.\u001b[39mdtype):\n\u001b[0;32m    893\u001b[0m     \u001b[39m# no need to make a copy, need to convert if string-dtyped\u001b[39;00m\n\u001b[1;32m--> 894\u001b[0m     data \u001b[39m=\u001b[39m _objects_to_td64ns(data, unit\u001b[39m=\u001b[39;49munit, errors\u001b[39m=\u001b[39;49merrors)\n\u001b[0;32m    895\u001b[0m     copy \u001b[39m=\u001b[39m \u001b[39mFalse\u001b[39;00m\n\u001b[0;32m    897\u001b[0m \u001b[39melif\u001b[39;00m is_integer_dtype(data\u001b[39m.\u001b[39mdtype):\n\u001b[0;32m    898\u001b[0m     \u001b[39m# treat as multiples of the given unit\u001b[39;00m\n",
      "File \u001b[1;32mc:\\Users\\evaler\\.conda\\envs\\vscode\\lib\\site-packages\\pandas\\core\\arrays\\timedeltas.py:1004\u001b[0m, in \u001b[0;36m_objects_to_td64ns\u001b[1;34m(data, unit, errors)\u001b[0m\n\u001b[0;32m   1001\u001b[0m \u001b[39m# coerce Index to np.ndarray, converting string-dtype if necessary\u001b[39;00m\n\u001b[0;32m   1002\u001b[0m values \u001b[39m=\u001b[39m np\u001b[39m.\u001b[39marray(data, dtype\u001b[39m=\u001b[39mnp\u001b[39m.\u001b[39mobject_, copy\u001b[39m=\u001b[39m\u001b[39mFalse\u001b[39;00m)\n\u001b[1;32m-> 1004\u001b[0m result \u001b[39m=\u001b[39m array_to_timedelta64(values, unit\u001b[39m=\u001b[39;49munit, errors\u001b[39m=\u001b[39;49merrors)\n\u001b[0;32m   1005\u001b[0m \u001b[39mreturn\u001b[39;00m result\u001b[39m.\u001b[39mview(\u001b[39m\"\u001b[39m\u001b[39mtimedelta64[ns]\u001b[39m\u001b[39m\"\u001b[39m)\n",
      "File \u001b[1;32mc:\\Users\\evaler\\.conda\\envs\\vscode\\lib\\site-packages\\pandas\\_libs\\tslibs\\timedeltas.pyx:447\u001b[0m, in \u001b[0;36mpandas._libs.tslibs.timedeltas.array_to_timedelta64\u001b[1;34m()\u001b[0m\n",
      "File \u001b[1;32mc:\\Users\\evaler\\.conda\\envs\\vscode\\lib\\site-packages\\pandas\\_libs\\tslibs\\timedeltas.pyx:482\u001b[0m, in \u001b[0;36mpandas._libs.tslibs.timedeltas._item_to_timedelta64\u001b[1;34m()\u001b[0m\n",
      "File \u001b[1;32mc:\\Users\\evaler\\.conda\\envs\\vscode\\lib\\site-packages\\pandas\\_libs\\tslibs\\timedeltas.pyx:473\u001b[0m, in \u001b[0;36mpandas._libs.tslibs.timedeltas._item_to_timedelta64\u001b[1;34m()\u001b[0m\n",
      "File \u001b[1;32mc:\\Users\\evaler\\.conda\\envs\\vscode\\lib\\site-packages\\pandas\\_libs\\tslibs\\timedeltas.pyx:364\u001b[0m, in \u001b[0;36mpandas._libs.tslibs.timedeltas.convert_to_timedelta64\u001b[1;34m()\u001b[0m\n",
      "\u001b[1;31mValueError\u001b[0m: Invalid type for timedelta scalar: <class 'cftime._cftime.DatetimeNoLeap'>"
     ]
    }
   ],
   "source": [
    "testfolder = Path(gswp3_path + \"/warmingtest\")\n",
    "files = [f for f in os.listdir(testfolder) if f.endswith('.nc')]\n",
    "print(\"working in:\", testfolder)\n",
    "\n",
    "for file in files:\n",
    "    # Load the .nc file\n",
    "    file_path = testfolder / file\n",
    "    print(\"Processing file:\", file_path)\n",
    "    ds = xr.open_dataset(file_path)  \n",
    "\n",
    "    # Extract the 'time' variable and convert it to a pandas DatetimeIndex\n",
    "    time_var = ds['time'].data\n",
    "    time = pd.to_timedelta(time_var, unit='D') + ds['time'].attrs['units'].split(' since ')[1]\n",
    "    \n",
    "    # Define the time range for daytime (06:00 to 18:00)\n",
    "    start_time = pd.Timestamp('06:00:00')\n",
    "    end_time = pd.Timestamp('18:00:00')\n",
    "    \n",
    "    # Find the indices of time steps that fall within the daytime range (06:00 to 18:00)\n",
    "    daytime_indices = (time.time >= start_time.time()) & (time.time <= end_time.time())\n",
    "    print(np.where(daytime_indices)[0])\n",
    "    \n",
    "    # Use np.ix_ to create a 1D boolean mask for indexing the temperature variable\n",
    "    daytime_indices_expanded = np.ix_(daytime_indices)\n",
    "    \n",
    "    # Add 1 degree to the temperature variable for the daytime range\n",
    "    ds['TBOT'].data[daytime_indices_expanded] += 1\n",
    "    \n",
    "    # Save the modified data to a new .nc file\n",
    "    ds.to_netcdf(str(Path(gswp3_path + \"/\" + file)))"
   ]
  },
  {
   "cell_type": "code",
   "execution_count": null,
   "metadata": {},
   "outputs": [],
   "source": [
    "testfolder = Path(gswp3_path + \"/warmingtest\")\n",
    "files = [f for f in os.listdir(testfolder) if f.endswith('.nc')]\n",
    "print(\"working in:\", testfolder)\n",
    "\n",
    "for file in files:\n",
    "    # Load the .nc file\n",
    "    file_path = testfolder / file\n",
    "    print(\"Processing file:\", file_path)\n",
    "    ds = xr.open_dataset(file_path)  \n",
    "\n",
    "    # Extract the 'time' variable and convert it to a pandas DatetimeIndex\n",
    "    date_format = '%Y-%m-%dT%H:%M:%S.%f'\n",
    "\n",
    "    # Convert to Python datetime object\n",
    "    time = [dt.datetime.strptime(str(cur_time), date_format)\n",
    "                    for cur_time in time_var[:]]    \n",
    "\n",
    "    #time = pd.to_datetime(ds['time'].data, format= date_format)\n",
    "\n",
    "    # Define the time range for daytime (06:00 to 18:00)\n",
    "    start_time = pd.Timestamp('1995-01-01 06:00:00')\n",
    "    end_time = pd.Timestamp('1995-01-01 18:00:00')\n",
    "\n",
    "    # Find the indices of time steps that fall within the daytime range (06:00 to 18:00)\n",
    "    daytime_indices = (ds['time'].dt.hour >= 6) & (ds['time'].dt.hour <= 18)\n",
    "    print(np.where(daytime_indices)[0]) \n",
    "\n",
    "    # Use np.ix_ to create a 1D boolean mask for indexing the temperature variable\n",
    "    daytime_indices_expanded = np.ix_(daytime_indices)  \n",
    "\n",
    "    # Add 1 degree to the temperature variable for the daytime range\n",
    "    ds['TBOT'].data[daytime_indices_expanded] += 1  \n",
    "\n",
    "    # Save the modified data to a new .nc file\n",
    "    ds.to_netcdf(str(Path(gswp3_path + \"/\" + file)))"
   ]
  },
  {
   "attachments": {},
   "cell_type": "markdown",
   "metadata": {},
   "source": [
    "## COSMO data modification\n",
    "\n",
    "Print some information about the forcing data before deciding how the modification can be done"
   ]
  },
  {
   "cell_type": "code",
   "execution_count": 9,
   "metadata": {},
   "outputs": [
    {
     "name": "stdout",
     "output_type": "stream",
     "text": [
      "Variables: dict_keys(['EDGEW', 'EDGEE', 'EDGES', 'EDGEN', 'LONGXY', 'LATIXY', 'SWDIFDS_RAD', 'SWDIRS_RAD', 'RAIN_CON', 'RAIN_GSP', 'SNOW_GSP', 'SNOW_CON', 'PRECTmms', 'TBOT', 'WIND', 'PSRF', 'SHUM', 'FLDS', 'time'])\n",
      "  creation_date: ti 21.2.2023 10.20.38 +0100\n",
      "  history: Original data from COSMOREA6 data\n",
      "  title: CLM single point datm input data\n",
      "  conventions: CF-1.0\n",
      "  case_title: COSMOREA6: SEEDCLIM\n",
      "  time:calendar: gregorian\n",
      "Variable attributes: ['standard_name', 'units', 'calendar', 'axis']\n",
      "Variable units: hours since 1995-1-1 01:00:00\n",
      "[  0.   3.   6.   9.  12.  15.  18.  21.  24.  27.  30.  33.  36.  39.\n",
      "  42.  45.  48.  51.  54.  57.  60.  63.  66.  69.  72.  75.  78.  81.\n",
      "  84.  87.  90.  93.  96.  99. 102. 105. 108. 111. 114. 117. 120. 123.\n",
      " 126. 129. 132. 135. 138. 141. 144. 147. 150. 153. 156. 159. 162. 165.\n",
      " 168. 171. 174. 177. 180. 183. 186. 189. 192. 195. 198. 201. 204. 207.\n",
      " 210. 213. 216. 219. 222. 225. 228. 231. 234. 237. 240. 243. 246. 249.\n",
      " 252. 255. 258. 261. 264. 267. 270. 273. 276. 279. 282. 285. 288. 291.\n",
      " 294. 297. 300. 303. 306. 309. 312. 315. 318. 321. 324. 327. 330. 333.\n",
      " 336. 339. 342. 345. 348. 351. 354. 357. 360. 363. 366. 369. 372. 375.\n",
      " 378. 381. 384. 387. 390. 393. 396. 399. 402. 405. 408. 411. 414. 417.\n",
      " 420. 423. 426. 429. 432. 435. 438. 441. 444. 447. 450. 453. 456. 459.\n",
      " 462. 465. 468. 471. 474. 477. 480. 483. 486. 489. 492. 495. 498. 501.\n",
      " 504. 507. 510. 513. 516. 519. 522. 525. 528. 531. 534. 537. 540. 543.\n",
      " 546. 549. 552. 555. 558. 561. 564. 567. 570. 573. 576. 579. 582. 585.\n",
      " 588. 591. 594. 597. 600. 603. 606. 609. 612. 615. 618. 621. 624. 627.\n",
      " 630. 633. 636. 639. 642. 645. 648. 651. 654. 657. 660. 663. 666. 669.\n",
      " 672. 675. 678. 681. 684. 687. 690. 693. 696. 699. 702. 705. 708. 711.\n",
      " 714. 717. 720. 723. 726. 729. 732. 735. 738. 741.]\n"
     ]
    }
   ],
   "source": [
    "example_file = str(Path(cosmo_path + \"/\" + f\"clm1pt_ALP4_1995-01.nc\"))\n",
    "with nc.Dataset(example_file, 'r') as ds:\n",
    "    # List all variables in the file\n",
    "    print(\"Variables:\", ds.variables.keys())\n",
    "    # print some attributes\n",
    "    for attr_name in ds.ncattrs():\n",
    "            print(f\"  {attr_name}: {getattr(ds, attr_name)}\")\n",
    "    # Access the \"time\" variable\n",
    "    time_var = ds.variables['time']\n",
    "    # Print the variable attributes\n",
    "    print(\"Variable attributes:\", time_var.ncattrs())\n",
    "    # Print a specific attribute\n",
    "    print(\"Variable units:\", time_var.units)\n",
    "    # print \n",
    "    print(time_var[:])"
   ]
  },
  {
   "attachments": {},
   "cell_type": "markdown",
   "metadata": {},
   "source": [
    "The data is provided at 3-hourly time steps. Let's choose 06:00 to 18:00 as 'daytime' when we apply the temperature modification. I will choose 1 degree (C or K) as a flat increase."
   ]
  },
  {
   "cell_type": "code",
   "execution_count": 27,
   "metadata": {},
   "outputs": [
    {
     "name": "stdout",
     "output_type": "stream",
     "text": [
      "[  2   3   4   5  10  11  12  13  18  19  20  21  26  27  28  29  34  35\n",
      "  36  37  42  43  44  45  50  51  52  53  58  59  60  61  66  67  68  69\n",
      "  74  75  76  77  82  83  84  85  90  91  92  93  98  99 100 101 106 107\n",
      " 108 109 114 115 116 117 122 123 124 125 130 131 132 133 138 139 140 141\n",
      " 146 147 148 149 154 155 156 157 162 163 164 165 170 171 172 173 178 179\n",
      " 180 181 186 187 188 189 194 195 196 197 202 203 204 205 210 211 212 213\n",
      " 218 219 220 221 226 227 228 229 234 235 236 237 242 243 244 245]\n"
     ]
    }
   ],
   "source": [
    "# Load the .nc file\n",
    "ds = xr.open_dataset(example_file)\n",
    "\n",
    "# Extract the 'time' variable and convert it to a pandas DatetimeIndex\n",
    "time = pd.to_datetime(ds['time'].data, format='%Y-%m-%d %H:%M:%S')\n",
    "\n",
    "# Define the time range for daytime (06:00 to 18:00)\n",
    "start_time = pd.Timestamp('1995-01-01 06:00:00')\n",
    "end_time = pd.Timestamp('1995-01-01 18:00:00')\n",
    "\n",
    "# Find the indices of time steps that fall within the daytime range (06:00 to 18:00)\n",
    "daytime_indices = (ds['time'].dt.hour >= 6) & (ds['time'].dt.hour <= 18)\n",
    "print(np.where(daytime_indices)[0])\n",
    "\n",
    "# Use np.ix_ to create a 1D boolean mask for indexing the temperature variable\n",
    "daytime_indices_expanded = np.ix_(daytime_indices)\n",
    "\n",
    "# Add 1 degree to the temperature variable for the daytime range\n",
    "ds['TBOT'].data[daytime_indices_expanded] += 1\n",
    "\n",
    "# Save the modified data to a new .nc file\n",
    "ds.to_netcdf(str(Path(cosmo_path + \"/\" + f\"clm1pt_ALP4_1995-01.nc\")))"
   ]
  },
  {
   "attachments": {},
   "cell_type": "markdown",
   "metadata": {},
   "source": [
    "Print some info about an example file again to check whether it worked, without breaking anything"
   ]
  },
  {
   "cell_type": "code",
   "execution_count": 26,
   "metadata": {},
   "outputs": [
    {
     "name": "stdout",
     "output_type": "stream",
     "text": [
      "Variables: dict_keys(['EDGEW', 'EDGEE', 'EDGES', 'EDGEN', 'LONGXY', 'LATIXY', 'SWDIFDS_RAD', 'SWDIRS_RAD', 'RAIN_CON', 'RAIN_GSP', 'SNOW_GSP', 'SNOW_CON', 'PRECTmms', 'TBOT', 'WIND', 'PSRF', 'SHUM', 'FLDS', 'time'])\n",
      "  creation_date: ti 21.2.2023 10.20.38 +0100\n",
      "  history: Original data from COSMOREA6 data\n",
      "  title: CLM single point datm input data\n",
      "  conventions: CF-1.0\n",
      "  case_title: COSMOREA6: SEEDCLIM\n",
      "  time:calendar: gregorian\n",
      "Variable attributes: ['_FillValue', 'standard_name', 'axis', 'units', 'calendar']\n",
      "Variable units: hours since 1995-01-01T01:00:00\n",
      "[  0.   3.   6.   9.  12.  15.  18.  21.  24.  27.  30.  33.  36.  39.\n",
      "  42.  45.  48.  51.  54.  57.  60.  63.  66.  69.  72.  75.  78.  81.\n",
      "  84.  87.  90.  93.  96.  99. 102. 105. 108. 111. 114. 117. 120. 123.\n",
      " 126. 129. 132. 135. 138. 141. 144. 147. 150. 153. 156. 159. 162. 165.\n",
      " 168. 171. 174. 177. 180. 183. 186. 189. 192. 195. 198. 201. 204. 207.\n",
      " 210. 213. 216. 219. 222. 225. 228. 231. 234. 237. 240. 243. 246. 249.\n",
      " 252. 255. 258. 261. 264. 267. 270. 273. 276. 279. 282. 285. 288. 291.\n",
      " 294. 297. 300. 303. 306. 309. 312. 315. 318. 321. 324. 327. 330. 333.\n",
      " 336. 339. 342. 345. 348. 351. 354. 357. 360. 363. 366. 369. 372. 375.\n",
      " 378. 381. 384. 387. 390. 393. 396. 399. 402. 405. 408. 411. 414. 417.\n",
      " 420. 423. 426. 429. 432. 435. 438. 441. 444. 447. 450. 453. 456. 459.\n",
      " 462. 465. 468. 471. 474. 477. 480. 483. 486. 489. 492. 495. 498. 501.\n",
      " 504. 507. 510. 513. 516. 519. 522. 525. 528. 531. 534. 537. 540. 543.\n",
      " 546. 549. 552. 555. 558. 561. 564. 567. 570. 573. 576. 579. 582. 585.\n",
      " 588. 591. 594. 597. 600. 603. 606. 609. 612. 615. 618. 621. 624. 627.\n",
      " 630. 633. 636. 639. 642. 645. 648. 651. 654. 657. 660. 663. 666. 669.\n",
      " 672. 675. 678. 681. 684. 687. 690. 693. 696. 699. 702. 705. 708. 711.\n",
      " 714. 717. 720. 723. 726. 729. 732. 735. 738. 741.]\n"
     ]
    }
   ],
   "source": [
    "example_file = str(Path(cosmo_path + \"/\" + f\"clm1pt_ALP4_1995-01.nc\"))\n",
    "with nc.Dataset(example_file, 'r') as ds:\n",
    "    # List all variables in the file\n",
    "    print(\"Variables:\", ds.variables.keys())\n",
    "    # print some attributes\n",
    "    for attr_name in ds.ncattrs():\n",
    "            print(f\"  {attr_name}: {getattr(ds, attr_name)}\")\n",
    "    # Access the \"time\" variable\n",
    "    time_var = ds.variables['time']\n",
    "    # Print the variable attributes\n",
    "    print(\"Variable attributes:\", time_var.ncattrs())\n",
    "    # Print a specific attribute\n",
    "    print(\"Variable units:\", time_var.units)\n",
    "    # print \n",
    "    print(time_var[:])"
   ]
  },
  {
   "cell_type": "code",
   "execution_count": 30,
   "metadata": {},
   "outputs": [
    {
     "data": {
      "text/plain": [
       "[<matplotlib.lines.Line2D at 0x1e49e3b88e0>]"
      ]
     },
     "execution_count": 30,
     "metadata": {},
     "output_type": "execute_result"
    },
    {
     "data": {
      "image/png": "[encoded data removed]",
      "text/plain": [
       "<Figure size 640x480 with 1 Axes>"
      ]
     },
     "metadata": {},
     "output_type": "display_data"
    }
   ],
   "source": [
    "\n",
    "# Subset the temperature variable for the first two days\n",
    "temperature_subset = ds['TBOT'].sel(time=slice('1995-01-01', '1995-01-02'))\n",
    "\n",
    "# Plot the temperature variable for the first two days\n",
    "temperature_subset.plot()"
   ]
  }
 ],
 "metadata": {
  "kernelspec": {
   "display_name": "vscode",
   "language": "python",
   "name": "python3"
  },
  "language_info": {
   "codemirror_mode": {
    "name": "ipython",
    "version": 3
   },
   "file_extension": ".py",
   "mimetype": "text/x-python",
   "name": "python",
   "nbconvert_exporter": "python",
   "pygments_lexer": "ipython3",
   "version": "3.10.9"
  },
  "orig_nbformat": 4
 },
 "nbformat": 4,
 "nbformat_minor": 2
}
