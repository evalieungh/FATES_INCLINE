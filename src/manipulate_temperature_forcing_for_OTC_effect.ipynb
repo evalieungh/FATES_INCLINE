{
 "cells": [
  {
   "attachments": {},
   "cell_type": "markdown",
   "metadata": {},
   "source": [
    "# Manipulate atmospheric forcing data to simulate the OTC effect from the field experiment\n",
    "\n",
    "date created: 2023-04-14\n",
    "by Eva Lieungh, Yeliz Yilmaz\n",
    "\n",
    "This notebook...\n",
    "\n",
    "1. documents decisions made with the observational data\n",
    "2. takes COSMO reanalysis data with noleap calendar and makes a modified version of the temperature forcing with 1 degree increased temperature in daytime\n",
    "3. checks that it worked\n",
    "4. re-zips the new data"
   ]
  },
  {
   "attachments": {},
   "cell_type": "markdown",
   "metadata": {},
   "source": [
    "Assuming logger placement/removal dates coincide well with OTC placement and removal dates, data from INCLINE_metadata_LoggerDates. csv, https://osf.io/5nmfe, gives these dates:\n",
    "\n",
    "| Site  | placement  |  removal  |\n",
    "|  ---- | --------   | --------- |\n",
    "| Ulvehaugen, ALP1 | 2019-06-11, 2021-06-17 | 2020-09-22, 2021-09-29 |\n",
    "| Lavisdalen, ALP2 | 2019-06-19, 2021-06-15 | 2020-09-29, 2021-09-28 |\n",
    "| Gudmedalen, ALP3 | 2019-06-12, 2021-06-16 | 2020-09-30, 2021-09-28 |\n",
    "| Skjellingahaugen, ALP4 | 2019-06-20, 2021-06-18 | 2020-09-28, 2021-09-27 |\n",
    "\n",
    "For simplicity, use June 16 and Sept 28 as placement and removal dates for all sites and years. "
   ]
  },
  {
   "cell_type": "code",
   "execution_count": 45,
   "metadata": {},
   "outputs": [],
   "source": [
    "# import libraries\n",
    "import os\n",
    "import netCDF4 as nc\n",
    "import xarray as xr  # NetCDF data handling\n",
    "import pandas as pd\n",
    "import numpy as np\n",
    "import datetime as dt\n",
    "import zipfile # for unzipping\n",
    "import shutil # easiest whole-directory zipping\n",
    "from pathlib import Path  # For easy path handling"
   ]
  },
  {
   "attachments": {},
   "cell_type": "markdown",
   "metadata": {},
   "source": [
    "Read in data. See other notebooks for downloading and unzipping data if necessary. The datmdata should be copied in from the ALP4_cosmorea_noleap directory to make sure longer simulations will work. Work with copies of these files, in a new ALP4_cosmorea_warmed directory, with while keeping the source folder as a backup if something goes wrong."
   ]
  },
  {
   "cell_type": "code",
   "execution_count": 46,
   "metadata": {},
   "outputs": [
    {
     "name": "stdout",
     "output_type": "stream",
     "text": [
      "cosmo_path: C:\\Users\\evaler\\OneDrive - Universitetet i Oslo\\Eva\\PHD\\FATES_INCLINE\\data\\ALP4_cosmorea_warmed\\datmdata\n"
     ]
    }
   ],
   "source": [
    "# set path to data folder with atmospheric forcing\n",
    "cosmo_path = str(Path(f\"C:/Users/evaler/OneDrive - Universitetet i Oslo/Eva/PHD/FATES_INCLINE/data/ALP4_cosmorea_warmed/datmdata\"))\n",
    "print(\"cosmo_path:\", cosmo_path)"
   ]
  },
  {
   "attachments": {},
   "cell_type": "markdown",
   "metadata": {},
   "source": [
    "Print some information about the forcing data before deciding how the modification can be done"
   ]
  },
  {
   "cell_type": "code",
   "execution_count": 52,
   "metadata": {},
   "outputs": [
    {
     "name": "stdout",
     "output_type": "stream",
     "text": [
      "Variables: dict_keys(['EDGEW', 'EDGEE', 'EDGES', 'EDGEN', 'LONGXY', 'LATIXY', 'SWDIFDS_RAD', 'SWDIRS_RAD', 'RAIN_CON', 'RAIN_GSP', 'SNOW_GSP', 'SNOW_CON', 'PRECTmms', 'TBOT', 'WIND', 'PSRF', 'SHUM', 'FLDS', 'time'])\n",
      "  creation_date: ti 21.2.2023 10.20.38 +0100\n",
      "  history: Wed Apr 19 11:45:22 2023: ncatted -O -a calendar,time,o,c,noleap clm1pt_ALP4_1995-01.nc\n",
      "Original data from COSMOREA6 data\n",
      "  title: CLM single point datm input data\n",
      "  conventions: CF-1.0\n",
      "  case_title: COSMOREA6: SEEDCLIM\n",
      "  NCO: netCDF Operators version 5.0.6 (Homepage = http://nco.sf.net, Code = http://github.com/nco/nco)\n",
      "Time attributes: ['standard_name', 'units', 'calendar', 'axis']\n",
      "Calendar: noleap\n",
      "Time units: hours since 1995-1-1 01:00:00\n",
      "Temp. attributes: ['long_name', 'units', 'mode', '_FillValue', 'missing_value']\n",
      "Temp. units temperature at the lowest atm level\n",
      "Temp. units K\n",
      "Values: [[[265.65213]]\n",
      "\n",
      " [[265.33612]]\n",
      "\n",
      " [[264.7357 ]]\n",
      "\n",
      " [[264.4444 ]]\n",
      "\n",
      " [[265.2419 ]]\n",
      "\n",
      " [[266.06653]]\n",
      "\n",
      " [[265.25058]]\n",
      "\n",
      " [[264.76358]]\n",
      "\n",
      " [[264.0434 ]]\n",
      "\n",
      " [[263.57574]]]\n"
     ]
    }
   ],
   "source": [
    "example_file = str(Path(cosmo_path + \"/\" + f\"clm1pt_ALP4_1995-01.nc\"))\n",
    "with nc.Dataset(example_file, 'r') as ds:\n",
    "    # List all variables in the file\n",
    "    print(\"Variables:\", ds.variables.keys())\n",
    "    # print some attributes\n",
    "    for attr_name in ds.ncattrs():\n",
    "            print(f\"  {attr_name}: {getattr(ds, attr_name)}\")\n",
    "    # Access the \"time\" variable\n",
    "    time_var = ds.variables['time']\n",
    "    # Print time info\n",
    "    print(\"Time attributes:\", time_var.ncattrs())\n",
    "    print(\"Calendar:\", time_var.calendar)\n",
    "    print(\"Time units:\", time_var.units)\n",
    "    # Access the temperature variable and print the first values\n",
    "    TBOT_var = ds.variables['TBOT']\n",
    "    print(\"Temp. attributes:\", TBOT_var.ncattrs())\n",
    "    print(\"Temp. units\", TBOT_var.long_name)\n",
    "    print(\"Temp. units\", TBOT_var.units)\n",
    "    print(\"Values:\", TBOT_var[0:10])"
   ]
  },
  {
   "attachments": {},
   "cell_type": "markdown",
   "metadata": {},
   "source": [
    "## Data modification\n",
    "\n",
    "The data is provided at 3-hourly time steps. Let's choose 06:00 to 18:00 as 'daytime' when we apply the temperature modification. This should only be applied **between June 16 and Sept 28** each year. I will choose 1 degree (C or K) as a flat increase.\n",
    "\n",
    "In the cosmo data, the time stamp (hour given, e.g. 01:00:00) is for the middle of the three hours that are averaged. So The three hours from 00:00:00-02:00:00 is set as 01:00:00. So I want time stamps **07:00:00** (06-08) and **16:00:00** (15-17; the alternative is 19:00:00 which goes from 18-20). \n",
    "\n",
    "The bash script below will...\n",
    "\n",
    "1. loop through all f files in the current directory that end with -06, -07, -08, or -09.\n",
    "2. make a copy of the original file (add \"copy_\" in front of old name)\n",
    "3. subset the TBOT variable and store it as new files starting with \"TBOT_\" with cdo selname\n",
    "4. subset times: For June, subset dates from the 16th, and September until the 28th. Subset daytime timestamps from the new TBOT files, saved as new files starting with \"TBOT_seltime\", using cdo seltime\n",
    "5. add 1 degree kelvin to the new subsetted files using cdo addc (= add constant), saving new files starting with \"TBOT_seltime_1deg\"\n",
    "6. define that when merging files, values with the same time stamps should be skipped for the first file provided in the command (export SKIP_SAME_TIME=1)\n",
    "7. merge the modified TBOT- and time-subsetted files (\"TBOT_seltime_1deg\") back into the TBOT file\n",
    "8. merge the new merged TBOT variable back into the original file, and name it the original normal file name.\n"
   ]
  },
  {
   "cell_type": "code",
   "execution_count": null,
   "metadata": {},
   "outputs": [],
   "source": [
    "%%bash\n",
    "pwd\n",
    "cd ../data/ALP4_cosmorea_warmed/datmdata\n",
    "pwd\n",
    "for f in clm1pt_ALP4_*-06.nc; do cp $f copy_$f; cdo selname,TBOT copy_$f TBOT_$f; cdo selday,16/31 -seltime,07:00:00,10:00:00,13:00:00,16:00:00 TBOT_$f TBOT_seltime_$f; cdo addc,1 TBOT_seltime_$f TBOT_seltime_1deg_$f; export SKIP_SAME_TIME=1; cdo mergetime TBOT_seltime_1deg_$f TBOT_$f TBOT_merged_$f; cdo replace copy_$f TBOT_merged_$f $f; done\n",
    "for f in clm1pt_ALP4_*-07.nc; do cp $f copy_$f; cdo selname,TBOT copy_$f TBOT_$f; cdo seltime,07:00:00,10:00:00,13:00:00,16:00:00 TBOT_$f TBOT_seltime_$f; cdo addc,1 TBOT_seltime_$f TBOT_seltime_1deg_$f; export SKIP_SAME_TIME=1; cdo mergetime TBOT_seltime_1deg_$f TBOT_$f TBOT_merged_$f; cdo replace copy_$f TBOT_merged_$f $f; done\n",
    "for f in clm1pt_ALP4_*-08.nc; do cp $f copy_$f; cdo selname,TBOT copy_$f TBOT_$f; cdo seltime,07:00:00,10:00:00,13:00:00,16:00:00 TBOT_$f TBOT_seltime_$f; cdo addc,1 TBOT_seltime_$f TBOT_seltime_1deg_$f; export SKIP_SAME_TIME=1; cdo mergetime TBOT_seltime_1deg_$f TBOT_$f TBOT_merged_$f; cdo replace copy_$f TBOT_merged_$f $f; done\n",
    "for f in clm1pt_ALP4_*-09.nc; do cp $f copy_$f; cdo selname,TBOT copy_$f TBOT_$f; cdo selday,1/28 -seltime,07:00:00,10:00:00,13:00:00,16:00:00 TBOT_$f TBOT_seltime_$f; cdo addc,1 TBOT_seltime_$f TBOT_seltime_1deg_$f; export SKIP_SAME_TIME=1; cdo mergetime TBOT_seltime_1deg_$f TBOT_$f TBOT_merged_$f; cdo replace copy_$f TBOT_merged_$f $f; done"
   ]
  },
  {
   "attachments": {},
   "cell_type": "markdown",
   "metadata": {},
   "source": [
    "The previous step created quite a few intermediary files that we can now remove:"
   ]
  },
  {
   "cell_type": "code",
   "execution_count": 63,
   "metadata": {},
   "outputs": [
    {
     "name": "stdout",
     "output_type": "stream",
     "text": [
      "/mnt/c/Users/evaler/OneDrive - Universitetet i Oslo/Eva/PHD/FATES_INCLINE/src\n",
      "/mnt/c/Users/evaler/OneDrive - Universitetet i Oslo/Eva/PHD/FATES_INCLINE/data/ALP4_cosmorea_warmed/datmdata\n"
     ]
    }
   ],
   "source": [
    "%%bash\n",
    "pwd\n",
    "cd ../data/ALP4_cosmorea_warmed/datmdata\n",
    "pwd\n",
    "rm copy_* \n",
    "rm TBOT_*"
   ]
  },
  {
   "attachments": {},
   "cell_type": "markdown",
   "metadata": {},
   "source": [
    "### Unfinished python alternative\n",
    "\n",
    "The code below is a now obsolete python version that sould do the same thing, but it is unfinished and not recommended to try without modifications and careful consideration. "
   ]
  },
  {
   "cell_type": "code",
   "execution_count": null,
   "metadata": {},
   "outputs": [],
   "source": [
    "# Load the .nc file\n",
    "ds = xr.open_dataset(example_file)\n",
    "\n",
    "# Extract the 'time' variable and convert it to a pandas DatetimeIndex\n",
    "time = pd.to_datetime(ds['time'].data, format='%Y-%m-%d %H:%M:%S')\n",
    "\n",
    "# Define the time range for daytime (06:00 to 18:00)\n",
    "start_time = pd.Timestamp('1995-01-01 06:00:00')\n",
    "end_time = pd.Timestamp('1995-01-01 18:00:00')\n",
    "\n",
    "# Find the indices of time steps that fall within the daytime range (06:00 to 18:00)\n",
    "daytime_indices = (ds['time'].dt.hour >= 6) & (ds['time'].dt.hour <= 18)\n",
    "print(np.where(daytime_indices)[0])\n",
    "\n",
    "# Use np.ix_ to create a 1D boolean mask for indexing the temperature variable\n",
    "daytime_indices_expanded = np.ix_(daytime_indices)\n",
    "\n",
    "# Add 1 degree to the temperature variable for the daytime range\n",
    "ds['TBOT'].data[daytime_indices_expanded] += 1\n",
    "\n",
    "# Save the modified data to a new .nc file\n",
    "ds.to_netcdf(str(Path(cosmo_path + \"/\" + f\"clm1pt_ALP4_1995-01.nc\")))"
   ]
  },
  {
   "attachments": {},
   "cell_type": "markdown",
   "metadata": {},
   "source": [
    "### Check if everything looks correct\n",
    "\n",
    "Print some info about an example file again to check whether it worked, without breaking anything"
   ]
  },
  {
   "cell_type": "code",
   "execution_count": 65,
   "metadata": {},
   "outputs": [
    {
     "name": "stdout",
     "output_type": "stream",
     "text": [
      "Variables: dict_keys(['time', 'EDGEW', 'EDGEE', 'EDGES', 'EDGEN', 'LONGXY', 'LATIXY', 'SWDIFDS_RAD', 'SWDIRS_RAD', 'RAIN_CON', 'RAIN_GSP', 'SNOW_GSP', 'SNOW_CON', 'PRECTmms', 'TBOT', 'WIND', 'PSRF', 'SHUM', 'FLDS'])\n",
      "  CDI: Climate Data Interface version 2.0.4 (https://mpimet.mpg.de/cdi)\n",
      "  Conventions: CF-1.6\n",
      "  creation_date: ti 21.2.2023 10.38.05 +0100\n",
      "  history: Thu Apr 20 10:22:16 2023: cdo replace copy_clm1pt_ALP4_1995-06.nc TBOT_merged_clm1pt_ALP4_1995-06.nc clm1pt_ALP4_1995-06.nc\n",
      "Wed Apr 19 11:45:22 2023: ncatted -O -a calendar,time,o,c,noleap clm1pt_ALP4_1995-06.nc\n",
      "Original data from COSMOREA6 data\n",
      "  title: CLM single point datm input data\n",
      "  conventions: CF-1.0\n",
      "  case_title: COSMOREA6: SEEDCLIM\n",
      "  NCO: netCDF Operators version 5.0.6 (Homepage = http://nco.sf.net, Code = http://github.com/nco/nco)\n",
      "  CDO: Climate Data Operators version 2.0.4 (https://mpimet.mpg.de/cdo)\n",
      "Temp. attributes: ['long_name', 'units', '_FillValue', 'missing_value', 'mode']\n",
      "Temp. units temperature at the lowest atm level\n",
      "Temp. units K\n",
      "Values: [[[280.7994 ]]\n",
      "\n",
      " [[280.30017]]\n",
      "\n",
      " [[281.22046]]\n",
      "\n",
      " [[283.10223]]\n",
      "\n",
      " [[283.79703]]\n",
      "\n",
      " [[282.08932]]\n",
      "\n",
      " [[281.31378]]\n",
      "\n",
      " [[279.0958 ]]\n",
      "\n",
      " [[278.50473]]\n",
      "\n",
      " [[277.49896]]]\n"
     ]
    }
   ],
   "source": [
    "example_file = str(Path(cosmo_path + \"/\" + f\"clm1pt_ALP4_1995-06.nc\"))\n",
    "with nc.Dataset(example_file, 'r') as ds:\n",
    "    # List all variables in the file\n",
    "    print(\"Variables:\", ds.variables.keys())\n",
    "    # print some attributes\n",
    "    for attr_name in ds.ncattrs():\n",
    "            print(f\"  {attr_name}: {getattr(ds, attr_name)}\")\n",
    "    # Access the temperature variable and print the first values\n",
    "    TBOT_var = ds.variables['TBOT']\n",
    "    print(\"Temp. attributes:\", TBOT_var.ncattrs())\n",
    "    print(\"Temp. units\", TBOT_var.long_name)\n",
    "    print(\"Temp. units\", TBOT_var.units)\n",
    "    print(\"Values:\", TBOT_var[0:10])"
   ]
  },
  {
   "attachments": {},
   "cell_type": "markdown",
   "metadata": {},
   "source": [
    "Compare temperature for two days that should have been modified. There are 8 3hr time steps in a day, so June 16 should start at 8*16=128, and the four daytime timesteps on June 16th should be 131-134:"
   ]
  },
  {
   "cell_type": "code",
   "execution_count": 71,
   "metadata": {},
   "outputs": [
    {
     "name": "stdout",
     "output_type": "stream",
     "text": [
      "A: [[[280.65457]]\n",
      "\n",
      " [[280.72372]]\n",
      "\n",
      " [[279.87286]]]\n",
      "B: [[[282.24356]]\n",
      "\n",
      " [[283.5888 ]]\n",
      "\n",
      " [[282.15   ]]]\n",
      "C: [[[279.16333]]]\n",
      "Should be identical to A: [[[280.65457]]\n",
      "\n",
      " [[280.72372]]\n",
      "\n",
      " [[279.87286]]]\n",
      "Should be +1 to B: [[[283.24356]]\n",
      "\n",
      " [[284.5888 ]]\n",
      "\n",
      " [[283.15   ]]]\n",
      "Should be identical to C: [[[279.16333]]]\n"
     ]
    }
   ],
   "source": [
    "original_file = str(Path(f\"C:/Users/evaler/OneDrive - Universitetet i Oslo/Eva/PHD/FATES_INCLINE/data/ALP4_cosmorea/datmdata/clm1pt_ALP4_1995-06.nc\"))\n",
    "warmed_file = str(Path(cosmo_path + \"/\" + f\"clm1pt_ALP4_1995-06.nc\"))\n",
    "with nc.Dataset(original_file, 'r') as ds_1:\n",
    "    print(\"A:\", ds_1.variables['TBOT'][127:130])\n",
    "    print(\"B:\", ds_1.variables['TBOT'][131:134]) \n",
    "    print(\"C:\", ds_1.variables['TBOT'][135:136]) \n",
    "with nc.Dataset(warmed_file, 'r') as ds_2:\n",
    "    print(\"Should be identical to A:\", ds_2.variables['TBOT'][127:130])\n",
    "    print(\"Should be +1 to B:\", ds_2.variables['TBOT'][131:134]) \n",
    "    print(\"Should be identical to C:\", ds_2.variables['TBOT'][135:136])"
   ]
  },
  {
   "attachments": {},
   "cell_type": "markdown",
   "metadata": {},
   "source": [
    "### Re-zip the newly modified data"
   ]
  },
  {
   "cell_type": "code",
   "execution_count": 72,
   "metadata": {},
   "outputs": [
    {
     "name": "stdout",
     "output_type": "stream",
     "text": [
      "zipping complete\n"
     ]
    }
   ],
   "source": [
    "shutil.make_archive(cosmo_path + \"/ALP4_cosmorea_warmed\",\n",
    "                    'zip', cosmo_path + \"/ALP4_cosmorea_warmed\")\n",
    "print(\"zipping complete\")"
   ]
  }
 ],
 "metadata": {
  "kernelspec": {
   "display_name": "vscode",
   "language": "python",
   "name": "python3"
  },
  "language_info": {
   "codemirror_mode": {
    "name": "ipython",
    "version": 3
   },
   "file_extension": ".py",
   "mimetype": "text/x-python",
   "name": "python",
   "nbconvert_exporter": "python",
   "pygments_lexer": "ipython3",
   "version": "3.10.9"
  },
  "orig_nbformat": 4
 },
 "nbformat": 4,
 "nbformat_minor": 2
}
