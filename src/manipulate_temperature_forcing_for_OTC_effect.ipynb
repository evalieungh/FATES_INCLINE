{
 "cells": [
  {
   "attachments": {},
   "cell_type": "markdown",
   "metadata": {},
   "source": [
    "# Manipulate atmospheric forcing data to simulate the OTC effect from the field experiment\n",
    "\n",
    "placeholder for now. Once forcing data is ready, fill in this notebook to make a modified version of the atmospheric forcing that has increased temperature, similar to the experimental OTC effect. \n",
    "\n",
    "Compare observational temperature data inside vs outside OTC, apply similar increase to forcing temperature. Upload as new zipped input data folder."
   ]
  },
  {
   "cell_type": "code",
   "execution_count": null,
   "metadata": {},
   "outputs": [],
   "source": []
  }
 ],
 "metadata": {
  "language_info": {
   "name": "python"
  },
  "orig_nbformat": 4
 },
 "nbformat": 4,
 "nbformat_minor": 2
}
