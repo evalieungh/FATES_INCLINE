{
 "cells": [
  {
   "attachments": {},
   "cell_type": "markdown",
   "metadata": {},
   "source": [
    "# Readme file for Eva's local changes to CTSM folder to get COSMOREA forcing data working\n",
    "\n",
    "Started 2023-02-28\n",
    "\n",
    "Instructions copied from @huitang-earth's [scripts_ctsm_region/atm_forcing/cosmo_rea_6km](https://github.com/huitang-earth/scripts_ctsm_region/tree/main/atm_forcing/cosmo_rea_6km) and @ecaas, with additions and modifications by @evalieungh. \n",
    "\n",
    "As explained in [Hui's readme file](https://github.com/huitang-earth/scripts_ctsm_region/tree/main/atm_forcing/cosmo_rea_6km), COSMA data are available from <https://opendata.dwd.de/climate_environment/REA/COSMO_REA6/>. Single-site forcing for the VCG sites, subset from the COMSOREA data, is already prepared by Hui on Fram and Saga. Elin downloaded a local copy which is used here. \n",
    "\n",
    "Elin's create case command on Saga:\n",
    "```\n",
    "/cluster/home/ecaas/CTSM_ecaas_fork/cime/scripts/create_newcase --compset 2000_DATM%COSMOREA_CLM51%BGC_SICE_SOCN_MOSART_SGLC_SWAV --machine saga --run-unsupported --user-mods-dirs /cluster/home/ecaas/ALP1/user_mods --handle-preexisting-dirs r --project nn2806k --case cases/ALP1_I2000.CLM51.COSMOREA.BGC --res CLM_USRDAT\n",
    "```\n",
    "\n",
    "To use COSMOREA data, replace the following files with the files provided in \"ctsm_config_reg\" (works for both regional and any single site simulations):\n",
    "\n",
    "```\n",
    "ctsm/components/cdeps/datm/cime_config/namelist_definition_datm.xml\n",
    "ctsm/components/cdeps/datm/cime_config/stream_definition_datm.xml\n",
    "ctsm/components/cdeps/datm/cime_config/config_component.xml\n",
    "```\n",
    "\n",
    "To use single-site COSMOREA data for VCG, replace the above files with the files provided in \"ctsm_config_VCG\" (This works only for VCG sites). To better track what has been modified, compare the files with that in \"ctsm_config_default\"."
   ]
  },
  {
   "attachments": {},
   "cell_type": "markdown",
   "metadata": {},
   "source": [
    "### Make the changes on local NREC LSP repo\n",
    "\n",
    "Log into NREC virtual machine (see [issue #156](https://github.com/NorESMhub/noresm-land-sites-platform/issues/156) for VM setup)."
   ]
  },
  {
   "cell_type": "raw",
   "metadata": {},
   "source": [
    "ssh -i .ssh/evaskey ubuntu@158.39.75.164\n",
    "cd ../../../data\n",
    "cd incline/noresm-land-sites-platform"
   ]
  },
  {
   "attachments": {},
   "cell_type": "markdown",
   "metadata": {},
   "source": [
    "Create new branch as copy of existing FATES_INCLINE branch"
   ]
  },
  {
   "cell_type": "raw",
   "metadata": {},
   "source": [
    "git checkout -b cosmorea FATES_INCLINE"
   ]
  },
  {
   "attachments": {},
   "cell_type": "markdown",
   "metadata": {},
   "source": [
    "Download modified namelist, stream, and config files from huitang-earth/scripts_ctsm_region after checking the default files are in place and changing their name by adding \"_default\"."
   ]
  },
  {
   "cell_type": "raw",
   "metadata": {},
   "source": [
    "cd resources/model/components/cdeps/datm/cime_config/\n",
    "ls "
   ]
  },
  {
   "cell_type": "raw",
   "metadata": {},
   "source": [
    "mv namelist_definition_datm.xml namelist_definition_datm_default.xml\n",
    "mv stream_definition_datm.xml stream_definition_datm_default.xml\n",
    "mv config_component.xml config_component_default.xml"
   ]
  },
  {
   "cell_type": "raw",
   "metadata": {},
   "source": [
    "wget https://raw.githubusercontent.com/huitang-earth/scripts_ctsm_region/main/atm_forcing/cosmo_rea_6km/ctsm_config_VCG/config_component.xml\n",
    "wget https://raw.githubusercontent.com/huitang-earth/scripts_ctsm_region/main/atm_forcing/cosmo_rea_6km/ctsm_config_VCG/namelist_definition_datm.xml\n",
    "wget https://raw.githubusercontent.com/huitang-earth/scripts_ctsm_region/main/atm_forcing/cosmo_rea_6km/ctsm_config_VCG/stream_definition_datm.xml"
   ]
  },
  {
   "attachments": {},
   "cell_type": "markdown",
   "metadata": {},
   "source": [
    "Open both versions of the files to check that the format is the same, and to see differences."
   ]
  },
  {
   "attachments": {},
   "cell_type": "markdown",
   "metadata": {},
   "source": [
    "Next, modify the compset. Elin used `2000_DATM%COSMOREA_CLM51%BGC_SICE_SOCN_MOSART_SGLC_SWAV`, but I will try to replace BGC with FATES first since the LSP is set up to run FATES. Hui's modifications of the files copied in above, should enable a COSMOREA instead of GSWP3 compset by specifying how the COSMO data is organised.\n",
    "\n",
    "In the LSP (v1), the compset is hardcoded in to resources/config/sites.json and must be changed for each site. This is also where the input data source is specified. \n",
    "\n",
    "Open the file in vim and change both compset and input data source, e.g. change compset from `2000_DATM%GSWP3v1_CLM51%FATES_SICE_SOCN_MOSART_SGLC_SWAV` to `2000_DATM%COSMOREA_CLM51%FATES_SICE_SOCN_MOSART_SGLC_SWAV` and the input data from `https://raw.githubusercontent.com/NorESMhub/noresm-lsp-data/main/sites/ALP1.zip` to `https://raw.githubusercontent.com/evalieungh/FATES_INCLINE/main/data/ALP1_cosmo.zip`"
   ]
  },
  {
   "cell_type": "raw",
   "metadata": {},
   "source": [
    "cd ../../../../..\n",
    "vi config/sites.json"
   ]
  },
  {
   "attachments": {},
   "cell_type": "markdown",
   "metadata": {},
   "source": [
    "Check that the create_newcase command has or can have the setup as Elin. In the LSP, create_newcase is invoked through the API, in NorESMhub/ctsm-api/app/tasks/cases.py. Here is an excerpt from the script:\n",
    "\n",
    "```\n",
    "    create_new_case_cmd = [\n",
    "        str(settings.MODEL_ROOT / \"cime\" / \"scripts\" / \"create_newcase\"),\n",
    "        \"--case\",\n",
    "        str(case_path),\n",
    "        \"--compset\",\n",
    "        case.compset,\n",
    "        \"--driver\",\n",
    "        case.driver,\n",
    "        \"--res\",\n",
    "        \"CLM_USRDAT\",\n",
    "        \"--machine\",\n",
    "        settings.MACHINE_NAME,\n",
    "        \"--run-unsupported\",\n",
    "        \"--handle-preexisting-dirs\",\n",
    "        \"r\",\n",
    "    ]\n",
    "\n",
    "    if (case_data_root / \"user_mods\").exists():\n",
    "        create_new_case_cmd.extend(\n",
    "            [\n",
    "                \"--user-mods-dirs\",\n",
    "                str(case_data_root / \"user_mods\"),\n",
    "            ]\n",
    "        )\n",
    "```"
   ]
  },
  {
   "attachments": {},
   "cell_type": "markdown",
   "metadata": {},
   "source": [
    "So it looks like it's equivalent to writing something like this: `./create_newcase --case caseNameFromGUI --compset compsetFromSitesJson --driver NUOPC --res CLM_USRDAT --machine LSPDockerContainer --run-unsuppoerted --handle-preexisting-dirs r --user-mods-dirs resources/data/caseNameFromGUI/user_mods`"
   ]
  }
 ],
 "metadata": {
  "kernelspec": {
   "display_name": "vscode",
   "language": "python",
   "name": "python3"
  },
  "language_info": {
   "name": "python",
   "version": "3.10.9"
  },
  "orig_nbformat": 4,
  "vscode": {
   "interpreter": {
    "hash": "6ffdbb7dcba71ee9bfd760f02a7add94ffe938549fbb9e2346155ac79cdba3bd"
   }
  }
 },
 "nbformat": 4,
 "nbformat_minor": 2
}
