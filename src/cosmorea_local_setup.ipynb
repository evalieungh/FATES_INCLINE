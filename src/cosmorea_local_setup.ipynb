{
 "cells": [
  {
   "attachments": {},
   "cell_type": "markdown",
   "metadata": {},
   "source": [
    "# Readme file for Eva's local changes to CTSM folder to get COSMOREA forcing data working\n",
    "\n",
    "Started 2023-02-28\n",
    "\n",
    "Instructions copied from @huitang-earth's [scripts_ctsm_region/atm_forcing/cosmo_rea_6km](https://github.com/huitang-earth/scripts_ctsm_region/tree/main/atm_forcing/cosmo_rea_6km) and @ecaas, with additions and modifications by @evalieungh. \n",
    "\n",
    "As explained in [Hui's readme file](https://github.com/huitang-earth/scripts_ctsm_region/tree/main/atm_forcing/cosmo_rea_6km), COSMA data are available from <https://opendata.dwd.de/climate_environment/REA/COSMO_REA6/>. Single-site forcing for the VCG sites, subset from the COMSOREA data, is already prepared by Hui on Fram and Saga. Elin downloaded a local copy which is used here. \n",
    "\n",
    "Elin's create case command on Saga:\n",
    "```\n",
    "/cluster/home/ecaas/CTSM_ecaas_fork/cime/scripts/create_newcase --compset 2000_DATM%COSMOREA_CLM51%BGC_SICE_SOCN_MOSART_SGLC_SWAV --machine saga --run-unsupported --user-mods-dirs /cluster/home/ecaas/ALP1/user_mods --handle-preexisting-dirs r --project nn2806k --case cases/ALP1_I2000.CLM51.COSMOREA.BGC --res CLM_USRDAT\n",
    "```\n",
    "\n",
    "To use COSMOREA data, replace the following files with the files provided in \"ctsm_config_reg\" (works for both regional and any single site simulations):\n",
    "\n",
    "```\n",
    "ctsm/components/cdeps/datm/cime_config/namelist_definition_datm.xml\n",
    "ctsm/components/cdeps/datm/cime_config/stream_definition_datm.xml\n",
    "ctsm/components/cdeps/datm/cime_config/config_component.xml\n",
    "```\n",
    "\n",
    "To use single-site COSMOREA data for VCG, replace the above files with the files provided in \"ctsm_config_VCG\" (This works only for VCG sites). To better track what has been modified, compare the files with that in \"ctsm_config_default\"."
   ]
  },
  {
   "attachments": {},
   "cell_type": "markdown",
   "metadata": {},
   "source": [
    "### Make the changes on NREC LSP repo\n",
    "\n",
    "Log into NREC virtual machine (see [issue #156](https://github.com/NorESMhub/noresm-land-sites-platform/issues/156) for VM setup)."
   ]
  },
  {
   "cell_type": "code",
   "execution_count": null,
   "metadata": {},
   "outputs": [],
   "source": []
  }
 ],
 "metadata": {
  "kernelspec": {
   "display_name": "vscode",
   "language": "python",
   "name": "python3"
  },
  "language_info": {
   "name": "python",
   "version": "3.10.9"
  },
  "orig_nbformat": 4,
  "vscode": {
   "interpreter": {
    "hash": "6ffdbb7dcba71ee9bfd760f02a7add94ffe938549fbb9e2346155ac79cdba3bd"
   }
  }
 },
 "nbformat": 4,
 "nbformat_minor": 2
}
