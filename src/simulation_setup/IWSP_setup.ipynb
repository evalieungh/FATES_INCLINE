{
 "cells": [
  {
   "attachments": {},
   "cell_type": "markdown",
   "metadata": {},
   "source": [
    "# Set up SP mode simulation (IWSP)\n",
    "\n",
    "Started 2023-07-04\n",
    "Notebook by EL, with inspiration from HT\n",
    "\n",
    "In addition to the full-complexity mode of FATES used for the other simulations, we add a 'warmed' simulation that uses satellite phenology mode. \n",
    "\n",
    "See FATES user guide for more info: <https://fates-users-guide.readthedocs.io/en/latest/user/SP-(satellite-phenology)-mode.html>: \n",
    "\n",
    "\n",
    "Processes turned OFF in SP mode include\n",
    "- Autotrophic respiration\n",
    "- Plant allocation and growth\n",
    "- Recruitment and mortality\n",
    "- Fire and disturbance\n",
    "- Litter dynamics\n",
    "- Patch and cohort fusion and splitting\n",
    "- Canopy trimming.\n",
    "\n",
    "\n"
   ]
  },
  {
   "attachments": {},
   "cell_type": "markdown",
   "metadata": {},
   "source": [
    "## Run simulation in SP mode in Land Sites Platform\n",
    "\n",
    "The only necessary change should be to add `use_fates_sp = .true.` to the `user_nl_clm` file. To do this, copy and paste `use_fates_sp = .true.` into the Advanced box of the CLM tab in the GUI when creating a new case. \n",
    "\n",
    "Note that the PFT composition is set automatically along with leaf area index, vegetation height and some other settings and parameters. The model will crash if you also try to turn off any PFTs in the FATES tab of the GUI create case window. "
   ]
  }
 ],
 "metadata": {
  "language_info": {
   "name": "python"
  },
  "orig_nbformat": 4
 },
 "nbformat": 4,
 "nbformat_minor": 2
}
