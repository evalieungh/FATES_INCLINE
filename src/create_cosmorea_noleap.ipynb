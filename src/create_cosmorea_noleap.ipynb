{
 "cells": [
  {
   "attachments": {},
   "cell_type": "markdown",
   "metadata": {},
   "source": [
    "# Create noleap calendar version of COSMO-REA6 forcing data\n",
    "\n",
    "created 2023-04-14\n",
    "\n",
    "by Eva Lieungh, Lasse T. Keetz, Hui Tang, Yeliz Yilmaz. \n",
    "\n",
    "COMSO reanalysis data uses a gregorian calendar with leap years. Running long simulations (necessary for spin-up) with COMSO reanalysis data proved problematic, because the leap years don't align and the model terminates prematurely after ~100 years. \n",
    "\n",
    "This notebook will...\n",
    "1. read in the cosmo reanalysis atmospheric forcing files\n",
    "2. change the calendar attribute for all files to noleap\n",
    "3. remove leap days (Feb 29) from all files\n",
    "3. save the modified data"
   ]
  },
  {
   "cell_type": "code",
   "execution_count": 19,
   "metadata": {},
   "outputs": [],
   "source": [
    "# import libraries\n",
    "import zipfile # for unzipping\n",
    "import shutil # easiest whole-directory zipping\n",
    "from pathlib import Path  # For easy path handling"
   ]
  },
  {
   "attachments": {},
   "cell_type": "markdown",
   "metadata": {},
   "source": [
    "Download COSMOREA data from evalieungh/FATES_INCLINE repo if necessary:"
   ]
  },
  {
   "cell_type": "code",
   "execution_count": null,
   "metadata": {},
   "outputs": [],
   "source": [
    "%%bash\n",
    "pwd\n",
    "cd ../data\n",
    "pwd\n",
    "wget https://raw.githubusercontent.com/evalieungh/FATES_INCLINE/main/data/ALP4_cosmorea.zip"
   ]
  },
  {
   "cell_type": "code",
   "execution_count": 20,
   "metadata": {},
   "outputs": [],
   "source": [
    "# set path to data, where we have the original (gregorian) data and will save the modified version\n",
    "cosmo_path = str(Path(f\"C:/Users/evaler/OneDrive - Universitetet i Oslo/Eva/PHD/FATES_INCLINE/data\"))"
   ]
  },
  {
   "attachments": {},
   "cell_type": "markdown",
   "metadata": {},
   "source": [
    "Unzip folder:"
   ]
  },
  {
   "cell_type": "code",
   "execution_count": null,
   "metadata": {},
   "outputs": [],
   "source": [
    "print(\"extracting \", cosmo_path + \"/ALP4_cosmorea.zip\")\n",
    "with zipfile.ZipFile(cosmo_path + \"/ALP4_cosmorea.zip\", 'r') as zip_ref:\n",
    "    zip_ref.extractall(cosmo_path + \"/ALP4_cosmorea\")"
   ]
  },
  {
   "attachments": {},
   "cell_type": "markdown",
   "metadata": {},
   "source": [
    "******************************\n",
    "\n",
    "### Remove leap years\n",
    "\n",
    "I.e., remove all variable values for Feb 29 all years. In a loop through all the files in the datm folder, if the file ends with -02 (February), remove all data values when day = 29. NB! This overwrites existing files, so make sure the originals are stored safely somewhere else.\n"
   ]
  },
  {
   "cell_type": "code",
   "execution_count": 13,
   "metadata": {},
   "outputs": [
    {
     "name": "stdout",
     "output_type": "stream",
     "text": [
      "/mnt/c/Users/evaler/OneDrive - Universitetet i Oslo/Eva/PHD/FATES_INCLINE/src\n"
     ]
    },
    {
     "name": "stderr",
     "output_type": "stream",
     "text": [
      "cdo    delete (Warning): Day >29< not found!\n"
     ]
    },
    {
     "name": "stdout",
     "output_type": "stream",
     "text": [
      "cdo    delete: Processed 2694 values from 18 variables over 224 timesteps [0.05s 46MB].\n",
      "cdo    delete: Processed 2694 values from 18 variables over 232 timesteps [0.04s 47MB].\n"
     ]
    },
    {
     "name": "stderr",
     "output_type": "stream",
     "text": [
      "cdo    delete (Warning): Day >29< not found!\n"
     ]
    },
    {
     "name": "stdout",
     "output_type": "stream",
     "text": [
      "cdo    delete: Processed 2694 values from 18 variables over 224 timesteps [0.04s 47MB].\n"
     ]
    },
    {
     "name": "stderr",
     "output_type": "stream",
     "text": [
      "cdo    delete (Warning): Day >29< not found!\n"
     ]
    },
    {
     "name": "stdout",
     "output_type": "stream",
     "text": [
      "cdo    delete: Processed 2694 values from 18 variables over 224 timesteps [0.05s 47MB].\n"
     ]
    },
    {
     "name": "stderr",
     "output_type": "stream",
     "text": [
      "cdo    delete (Warning): Day >29< not found!\n"
     ]
    },
    {
     "name": "stdout",
     "output_type": "stream",
     "text": [
      "cdo    delete: Processed 2694 values from 18 variables over 224 timesteps [0.04s 47MB].\n",
      "cdo    delete: Processed 2694 values from 18 variables over 232 timesteps [0.10s 47MB].\n"
     ]
    },
    {
     "name": "stderr",
     "output_type": "stream",
     "text": [
      "cdo    delete (Warning): Day >29< not found!\n"
     ]
    },
    {
     "name": "stdout",
     "output_type": "stream",
     "text": [
      "cdo    delete: Processed 2694 values from 18 variables over 224 timesteps [0.05s 47MB].\n"
     ]
    },
    {
     "name": "stderr",
     "output_type": "stream",
     "text": [
      "cdo    delete (Warning): Day >29< not found!\n"
     ]
    },
    {
     "name": "stdout",
     "output_type": "stream",
     "text": [
      "cdo    delete: Processed 2694 values from 18 variables over 224 timesteps [0.05s 47MB].\n"
     ]
    },
    {
     "name": "stderr",
     "output_type": "stream",
     "text": [
      "cdo    delete (Warning): Day >29< not found!\n"
     ]
    },
    {
     "name": "stdout",
     "output_type": "stream",
     "text": [
      "cdo    delete: Processed 2694 values from 18 variables over 224 timesteps [0.06s 47MB].\n",
      "cdo    delete: Processed 2694 values from 18 variables over 232 timesteps [0.04s 47MB].\n"
     ]
    },
    {
     "name": "stderr",
     "output_type": "stream",
     "text": [
      "cdo    delete (Warning): Day >29< not found!\n"
     ]
    },
    {
     "name": "stdout",
     "output_type": "stream",
     "text": [
      "cdo    delete: Processed 2694 values from 18 variables over 224 timesteps [0.04s 47MB].\n"
     ]
    },
    {
     "name": "stderr",
     "output_type": "stream",
     "text": [
      "cdo    delete (Warning): Day >29< not found!\n"
     ]
    },
    {
     "name": "stdout",
     "output_type": "stream",
     "text": [
      "cdo    delete: Processed 2694 values from 18 variables over 224 timesteps [0.04s 46MB].\n"
     ]
    },
    {
     "name": "stderr",
     "output_type": "stream",
     "text": [
      "cdo    delete (Warning): Day >29< not found!\n"
     ]
    },
    {
     "name": "stdout",
     "output_type": "stream",
     "text": [
      "cdo    delete: Processed 2694 values from 18 variables over 224 timesteps [0.04s 47MB].\n",
      "cdo    delete: Processed 2694 values from 18 variables over 232 timesteps [0.05s 47MB].\n"
     ]
    },
    {
     "name": "stderr",
     "output_type": "stream",
     "text": [
      "cdo    delete (Warning): Day >29< not found!\n"
     ]
    },
    {
     "name": "stdout",
     "output_type": "stream",
     "text": [
      "cdo    delete: Processed 2694 values from 18 variables over 224 timesteps [0.04s 47MB].\n"
     ]
    },
    {
     "name": "stderr",
     "output_type": "stream",
     "text": [
      "cdo    delete (Warning): Day >29< not found!\n"
     ]
    },
    {
     "name": "stdout",
     "output_type": "stream",
     "text": [
      "cdo    delete: Processed 2694 values from 18 variables over 224 timesteps [0.05s 47MB].\n"
     ]
    },
    {
     "name": "stderr",
     "output_type": "stream",
     "text": [
      "cdo    delete (Warning): Day >29< not found!\n"
     ]
    },
    {
     "name": "stdout",
     "output_type": "stream",
     "text": [
      "cdo    delete: Processed 2694 values from 18 variables over 224 timesteps [0.05s 47MB].\n",
      "cdo    delete: Processed 2694 values from 18 variables over 232 timesteps [0.06s 47MB].\n"
     ]
    },
    {
     "name": "stderr",
     "output_type": "stream",
     "text": [
      "cdo    delete (Warning): Day >29< not found!\n"
     ]
    },
    {
     "name": "stdout",
     "output_type": "stream",
     "text": [
      "cdo    delete: Processed 2694 values from 18 variables over 224 timesteps [0.04s 47MB].\n"
     ]
    },
    {
     "name": "stderr",
     "output_type": "stream",
     "text": [
      "cdo    delete (Warning): Day >29< not found!\n"
     ]
    },
    {
     "name": "stdout",
     "output_type": "stream",
     "text": [
      "cdo    delete: Processed 2694 values from 18 variables over 224 timesteps [0.05s 47MB].\n"
     ]
    },
    {
     "name": "stderr",
     "output_type": "stream",
     "text": [
      "cdo    delete (Warning): Day >29< not found!\n"
     ]
    },
    {
     "name": "stdout",
     "output_type": "stream",
     "text": [
      "cdo    delete: Processed 2694 values from 18 variables over 224 timesteps [0.05s 47MB].\n",
      "cdo    delete: Processed 2694 values from 18 variables over 232 timesteps [0.04s 47MB].\n"
     ]
    },
    {
     "name": "stderr",
     "output_type": "stream",
     "text": [
      "cdo    delete (Warning): Day >29< not found!\n"
     ]
    },
    {
     "name": "stdout",
     "output_type": "stream",
     "text": [
      "cdo    delete: Processed 2694 values from 18 variables over 224 timesteps [0.04s 47MB].\n"
     ]
    },
    {
     "name": "stderr",
     "output_type": "stream",
     "text": [
      "cdo    delete (Warning): Day >29< not found!\n"
     ]
    },
    {
     "name": "stdout",
     "output_type": "stream",
     "text": [
      "cdo    delete: Processed 2694 values from 18 variables over 224 timesteps [0.04s 47MB].\n"
     ]
    }
   ],
   "source": [
    "%%bash\n",
    "pwd\n",
    "cd ../data/ALP4_cosmorea_noleap/datmdata\n",
    "for f in clm1pt_ALP4*-02.nc; do cp $f ori_$f ; cdo delete,month=2,day=29 ori_$f $f; rm ori_$f; done"
   ]
  },
  {
   "attachments": {},
   "cell_type": "markdown",
   "metadata": {},
   "source": [
    "Check that it worked:"
   ]
  },
  {
   "cell_type": "code",
   "execution_count": 15,
   "metadata": {},
   "outputs": [
    {
     "name": "stdout",
     "output_type": "stream",
     "text": [
      "netcdf clm1pt_ALP4_2000-02 {\n",
      "dimensions:\n",
      "\ttime = UNLIMITED ; // (224 currently)\n",
      "\tscalar = 1 ;\n",
      "\tlon = 1 ;\n",
      "\tlat = 1 ;\n",
      "variables:\n",
      "\tdouble time(time) ;\n",
      "\t\ttime:standard_name = \"time\" ;\n",
      "\t\ttime:units = \"hours since 2000-2-1 01:00:00\" ;\n",
      "\t\ttime:calendar = \"standard\" ;\n",
      "\t\ttime:axis = \"T\" ;\n",
      "\tfloat EDGEW(scalar) ;\n",
      "\t\tEDGEW:long_name = \"western edge in atmospheric data\" ;\n",
      "\t\tEDGEW:units = \"degrees_east\" ;\n",
      "\t\tEDGEW:mode = \"time-invariant\" ;\n",
      "\tfloat EDGEE(scalar) ;\n",
      "\t\tEDGEE:long_name = \"eastern edge in atmospheric data\" ;\n",
      "\t\tEDGEE:units = \"degrees_east\" ;\n",
      "\t\tEDGEE:mode = \"time-invariant\" ;\n",
      "\tfloat EDGES(scalar) ;\n",
      "\t\tEDGES:long_name = \"southern edge in atmospheric data\" ;\n",
      "\t\tEDGES:units = \"degrees_north\" ;\n",
      "\t\tEDGES:mode = \"time-invariant\" ;\n",
      "\tfloat EDGEN(scalar) ;\n",
      "\t\tEDGEN:long_name = \"northern edge in atmospheric data\" ;\n",
      "\t\tEDGEN:units = \"degrees_north\" ;\n",
      "\t\tEDGEN:mode = \"time-invariant\" ;\n",
      "\tfloat LONGXY(lat, lon) ;\n",
      "\t\tLONGXY:long_name = \"longitude\" ;\n",
      "\t\tLONGXY:units = \"degrees_east\" ;\n",
      "\t\tLONGXY:mode = \"time-invariant\" ;\n",
      "\tfloat LATIXY(lat, lon) ;\n",
      "\t\tLATIXY:long_name = \"latitude\" ;\n",
      "\t\tLATIXY:units = \"degrees_north\" ;\n",
      "\t\tLATIXY:mode = \"time-invariant\" ;\n",
      "\tfloat SWDIFDS_RAD(time, lat, lon) ;\n",
      "\t\tSWDIFDS_RAD:long_name = \"total incident solar radiation\" ;\n",
      "\t\tSWDIFDS_RAD:units = \"W/m**2\" ;\n",
      "\t\tSWDIFDS_RAD:_FillValue = 1.e+36f ;\n",
      "\t\tSWDIFDS_RAD:missing_value = 1.e+36f ;\n",
      "\t\tSWDIFDS_RAD:mode = \"time-dependent\" ;\n",
      "\tfloat SWDIRS_RAD(time, lat, lon) ;\n",
      "\t\tSWDIRS_RAD:long_name = \"total incident solar radiation\" ;\n",
      "\t\tSWDIRS_RAD:units = \"W/m**2\" ;\n",
      "\t\tSWDIRS_RAD:_FillValue = 1.e+36f ;\n",
      "\t\tSWDIRS_RAD:missing_value = 1.e+36f ;\n",
      "\t\tSWDIRS_RAD:mode = \"time-dependent\" ;\n",
      "\tfloat RAIN_CON(time, lat, lon) ;\n",
      "\t\tRAIN_CON:long_name = \"PRECTmms total precipitation\" ;\n",
      "\t\tRAIN_CON:units = \"mm H2O / sec\" ;\n",
      "\t\tRAIN_CON:_FillValue = 1.e+36f ;\n",
      "\t\tRAIN_CON:missing_value = 1.e+36f ;\n",
      "\t\tRAIN_CON:mode = \"time-dependent\" ;\n",
      "\tfloat RAIN_GSP(time, lat, lon) ;\n",
      "\t\tRAIN_GSP:long_name = \"PRECTmms total precipitation\" ;\n",
      "\t\tRAIN_GSP:units = \"mm H2O / sec\" ;\n",
      "\t\tRAIN_GSP:_FillValue = 1.e+36f ;\n",
      "\t\tRAIN_GSP:missing_value = 1.e+36f ;\n",
      "\t\tRAIN_GSP:mode = \"time-dependent\" ;\n",
      "\tfloat SNOW_GSP(time, lat, lon) ;\n",
      "\t\tSNOW_GSP:long_name = \"PRECTmms total precipitation\" ;\n",
      "\t\tSNOW_GSP:units = \"mm H2O / sec\" ;\n",
      "\t\tSNOW_GSP:_FillValue = 1.e+36f ;\n",
      "\t\tSNOW_GSP:missing_value = 1.e+36f ;\n",
      "\t\tSNOW_GSP:mode = \"time-dependent\" ;\n",
      "\tfloat SNOW_CON(time, lat, lon) ;\n",
      "\t\tSNOW_CON:long_name = \"PRECTmms total precipitation\" ;\n",
      "\t\tSNOW_CON:units = \"mm H2O / sec\" ;\n",
      "\t\tSNOW_CON:_FillValue = 1.e+36f ;\n",
      "\t\tSNOW_CON:missing_value = 1.e+36f ;\n",
      "\t\tSNOW_CON:mode = \"time-dependent\" ;\n",
      "\tfloat PRECTmms(time, lat, lon) ;\n",
      "\t\tPRECTmms:long_name = \"PRECTmms total precipitation\" ;\n",
      "\t\tPRECTmms:units = \"mm H2O / sec\" ;\n",
      "\t\tPRECTmms:_FillValue = 1.e+36f ;\n",
      "\t\tPRECTmms:missing_value = 1.e+36f ;\n",
      "\t\tPRECTmms:mode = \"time-dependent\" ;\n",
      "\tfloat TBOT(time, lat, lon) ;\n",
      "\t\tTBOT:long_name = \"temperature at the lowest atm level\" ;\n",
      "\t\tTBOT:units = \"K\" ;\n",
      "\t\tTBOT:_FillValue = 1.e+36f ;\n",
      "\t\tTBOT:missing_value = 1.e+36f ;\n",
      "\t\tTBOT:mode = \"time-dependent\" ;\n",
      "\tfloat WIND(time, lat, lon) ;\n",
      "\t\tWIND:long_name = \"wind at the lowest atm level\" ;\n",
      "\t\tWIND:units = \"m/s\" ;\n",
      "\t\tWIND:_FillValue = 1.e+36f ;\n",
      "\t\tWIND:missing_value = 1.e+36f ;\n",
      "\t\tWIND:mode = \"time-dependent\" ;\n",
      "\tfloat PSRF(time, lat, lon) ;\n",
      "\t\tPSRF:long_name = \"surface pressure at the lowest atm level\" ;\n",
      "\t\tPSRF:units = \"Pa\" ;\n",
      "\t\tPSRF:_FillValue = 1.e+36f ;\n",
      "\t\tPSRF:missing_value = 1.e+36f ;\n",
      "\t\tPSRF:mode = \"time-dependent\" ;\n",
      "\tfloat SHUM(time, lat, lon) ;\n",
      "\t\tSHUM:long_name = \"specific humidity at the lowest atm level\" ;\n",
      "\t\tSHUM:units = \"kg/kg\" ;\n",
      "\t\tSHUM:_FillValue = 1.e+36f ;\n",
      "\t\tSHUM:missing_value = 1.e+36f ;\n",
      "\t\tSHUM:mode = \"time-dependent\" ;\n",
      "\tfloat FLDS(time, lat, lon) ;\n",
      "\t\tFLDS:long_name = \"incident longwave radiation\" ;\n",
      "\t\tFLDS:units = \"W/m**2\" ;\n",
      "\t\tFLDS:_FillValue = 1.e+36f ;\n",
      "\t\tFLDS:missing_value = 1.e+36f ;\n",
      "\t\tFLDS:mode = \"time-dependent\" ;\n",
      "\n",
      "// global attributes:\n",
      "\t\t:CDI = \"Climate Data Interface version 2.0.4 (https://mpimet.mpg.de/cdi)\" ;\n",
      "\t\t:Conventions = \"CF-1.6\" ;\n",
      "\t\t:creation_date = \"ti 21.2.2023 13.21.58 +0100\" ;\n",
      "\t\t:history = \"Wed Apr 19 11:43:10 2023: cdo delete,month=2,day=29 ori_clm1pt_ALP4_2000-02.nc clm1pt_ALP4_2000-02.nc\\n\",\n",
      "\t\t\t\"Original data from COSMOREA6 data\" ;\n",
      "\t\t:title = \"CLM single point datm input data\" ;\n",
      "\t\t:conventions = \"CF-1.0\" ;\n",
      "\t\t:case_title = \"COSMOREA6: SEEDCLIM\" ;\n",
      "\t\t:CDO = \"Climate Data Operators version 2.0.4 (https://mpimet.mpg.de/cdo)\" ;\n",
      "}\n"
     ]
    }
   ],
   "source": [
    "%%bash\n",
    "cd ../data/ALP4_cosmorea_noleap/datmdata\n",
    "ncdump -h clm1pt_ALP4_2000-02.nc"
   ]
  },
  {
   "attachments": {},
   "cell_type": "markdown",
   "metadata": {},
   "source": [
    "***********************\n",
    "\n",
    "## Change the value of the calendar attribute from 'standard' to 'noleap'\n",
    "\n",
    "Calendar is specified within the time variable. The most reliable way to change it is with 'ncatted' from the nco library."
   ]
  },
  {
   "cell_type": "code",
   "execution_count": 16,
   "metadata": {},
   "outputs": [
    {
     "name": "stdout",
     "output_type": "stream",
     "text": [
      "/mnt/c/Users/evaler/OneDrive - Universitetet i Oslo/Eva/PHD/FATES_INCLINE/src\n"
     ]
    }
   ],
   "source": [
    "%%bash\n",
    "pwd\n",
    "cd ../data/ALP4_cosmorea_noleap/datmdata\n",
    "for f in clm1pt_ALP4*; do ncatted -O -a calendar,time,o,c,noleap $f; done"
   ]
  },
  {
   "cell_type": "code",
   "execution_count": 17,
   "metadata": {},
   "outputs": [
    {
     "name": "stdout",
     "output_type": "stream",
     "text": [
      "netcdf clm1pt_ALP4_2000-02 {\n",
      "dimensions:\n",
      "\ttime = UNLIMITED ; // (224 currently)\n",
      "\tscalar = 1 ;\n",
      "\tlon = 1 ;\n",
      "\tlat = 1 ;\n",
      "variables:\n",
      "\tdouble time(time) ;\n",
      "\t\ttime:standard_name = \"time\" ;\n",
      "\t\ttime:units = \"hours since 2000-2-1 01:00:00\" ;\n",
      "\t\ttime:calendar = \"noleap\" ;\n",
      "\t\ttime:axis = \"T\" ;\n",
      "\tfloat EDGEW(scalar) ;\n",
      "\t\tEDGEW:long_name = \"western edge in atmospheric data\" ;\n",
      "\t\tEDGEW:units = \"degrees_east\" ;\n",
      "\t\tEDGEW:mode = \"time-invariant\" ;\n",
      "\tfloat EDGEE(scalar) ;\n",
      "\t\tEDGEE:long_name = \"eastern edge in atmospheric data\" ;\n",
      "\t\tEDGEE:units = \"degrees_east\" ;\n",
      "\t\tEDGEE:mode = \"time-invariant\" ;\n",
      "\tfloat EDGES(scalar) ;\n",
      "\t\tEDGES:long_name = \"southern edge in atmospheric data\" ;\n",
      "\t\tEDGES:units = \"degrees_north\" ;\n",
      "\t\tEDGES:mode = \"time-invariant\" ;\n",
      "\tfloat EDGEN(scalar) ;\n",
      "\t\tEDGEN:long_name = \"northern edge in atmospheric data\" ;\n",
      "\t\tEDGEN:units = \"degrees_north\" ;\n",
      "\t\tEDGEN:mode = \"time-invariant\" ;\n",
      "\tfloat LONGXY(lat, lon) ;\n",
      "\t\tLONGXY:long_name = \"longitude\" ;\n",
      "\t\tLONGXY:units = \"degrees_east\" ;\n",
      "\t\tLONGXY:mode = \"time-invariant\" ;\n",
      "\tfloat LATIXY(lat, lon) ;\n",
      "\t\tLATIXY:long_name = \"latitude\" ;\n",
      "\t\tLATIXY:units = \"degrees_north\" ;\n",
      "\t\tLATIXY:mode = \"time-invariant\" ;\n",
      "\tfloat SWDIFDS_RAD(time, lat, lon) ;\n",
      "\t\tSWDIFDS_RAD:long_name = \"total incident solar radiation\" ;\n",
      "\t\tSWDIFDS_RAD:units = \"W/m**2\" ;\n",
      "\t\tSWDIFDS_RAD:_FillValue = 1.e+36f ;\n",
      "\t\tSWDIFDS_RAD:missing_value = 1.e+36f ;\n",
      "\t\tSWDIFDS_RAD:mode = \"time-dependent\" ;\n",
      "\tfloat SWDIRS_RAD(time, lat, lon) ;\n",
      "\t\tSWDIRS_RAD:long_name = \"total incident solar radiation\" ;\n",
      "\t\tSWDIRS_RAD:units = \"W/m**2\" ;\n",
      "\t\tSWDIRS_RAD:_FillValue = 1.e+36f ;\n",
      "\t\tSWDIRS_RAD:missing_value = 1.e+36f ;\n",
      "\t\tSWDIRS_RAD:mode = \"time-dependent\" ;\n",
      "\tfloat RAIN_CON(time, lat, lon) ;\n",
      "\t\tRAIN_CON:long_name = \"PRECTmms total precipitation\" ;\n",
      "\t\tRAIN_CON:units = \"mm H2O / sec\" ;\n",
      "\t\tRAIN_CON:_FillValue = 1.e+36f ;\n",
      "\t\tRAIN_CON:missing_value = 1.e+36f ;\n",
      "\t\tRAIN_CON:mode = \"time-dependent\" ;\n",
      "\tfloat RAIN_GSP(time, lat, lon) ;\n",
      "\t\tRAIN_GSP:long_name = \"PRECTmms total precipitation\" ;\n",
      "\t\tRAIN_GSP:units = \"mm H2O / sec\" ;\n",
      "\t\tRAIN_GSP:_FillValue = 1.e+36f ;\n",
      "\t\tRAIN_GSP:missing_value = 1.e+36f ;\n",
      "\t\tRAIN_GSP:mode = \"time-dependent\" ;\n",
      "\tfloat SNOW_GSP(time, lat, lon) ;\n",
      "\t\tSNOW_GSP:long_name = \"PRECTmms total precipitation\" ;\n",
      "\t\tSNOW_GSP:units = \"mm H2O / sec\" ;\n",
      "\t\tSNOW_GSP:_FillValue = 1.e+36f ;\n",
      "\t\tSNOW_GSP:missing_value = 1.e+36f ;\n",
      "\t\tSNOW_GSP:mode = \"time-dependent\" ;\n",
      "\tfloat SNOW_CON(time, lat, lon) ;\n",
      "\t\tSNOW_CON:long_name = \"PRECTmms total precipitation\" ;\n",
      "\t\tSNOW_CON:units = \"mm H2O / sec\" ;\n",
      "\t\tSNOW_CON:_FillValue = 1.e+36f ;\n",
      "\t\tSNOW_CON:missing_value = 1.e+36f ;\n",
      "\t\tSNOW_CON:mode = \"time-dependent\" ;\n",
      "\tfloat PRECTmms(time, lat, lon) ;\n",
      "\t\tPRECTmms:long_name = \"PRECTmms total precipitation\" ;\n",
      "\t\tPRECTmms:units = \"mm H2O / sec\" ;\n",
      "\t\tPRECTmms:_FillValue = 1.e+36f ;\n",
      "\t\tPRECTmms:missing_value = 1.e+36f ;\n",
      "\t\tPRECTmms:mode = \"time-dependent\" ;\n",
      "\tfloat TBOT(time, lat, lon) ;\n",
      "\t\tTBOT:long_name = \"temperature at the lowest atm level\" ;\n",
      "\t\tTBOT:units = \"K\" ;\n",
      "\t\tTBOT:_FillValue = 1.e+36f ;\n",
      "\t\tTBOT:missing_value = 1.e+36f ;\n",
      "\t\tTBOT:mode = \"time-dependent\" ;\n",
      "\tfloat WIND(time, lat, lon) ;\n",
      "\t\tWIND:long_name = \"wind at the lowest atm level\" ;\n",
      "\t\tWIND:units = \"m/s\" ;\n",
      "\t\tWIND:_FillValue = 1.e+36f ;\n",
      "\t\tWIND:missing_value = 1.e+36f ;\n",
      "\t\tWIND:mode = \"time-dependent\" ;\n",
      "\tfloat PSRF(time, lat, lon) ;\n",
      "\t\tPSRF:long_name = \"surface pressure at the lowest atm level\" ;\n",
      "\t\tPSRF:units = \"Pa\" ;\n",
      "\t\tPSRF:_FillValue = 1.e+36f ;\n",
      "\t\tPSRF:missing_value = 1.e+36f ;\n",
      "\t\tPSRF:mode = \"time-dependent\" ;\n",
      "\tfloat SHUM(time, lat, lon) ;\n",
      "\t\tSHUM:long_name = \"specific humidity at the lowest atm level\" ;\n",
      "\t\tSHUM:units = \"kg/kg\" ;\n",
      "\t\tSHUM:_FillValue = 1.e+36f ;\n",
      "\t\tSHUM:missing_value = 1.e+36f ;\n",
      "\t\tSHUM:mode = \"time-dependent\" ;\n",
      "\tfloat FLDS(time, lat, lon) ;\n",
      "\t\tFLDS:long_name = \"incident longwave radiation\" ;\n",
      "\t\tFLDS:units = \"W/m**2\" ;\n",
      "\t\tFLDS:_FillValue = 1.e+36f ;\n",
      "\t\tFLDS:missing_value = 1.e+36f ;\n",
      "\t\tFLDS:mode = \"time-dependent\" ;\n",
      "\n",
      "// global attributes:\n",
      "\t\t:CDI = \"Climate Data Interface version 2.0.4 (https://mpimet.mpg.de/cdi)\" ;\n",
      "\t\t:Conventions = \"CF-1.6\" ;\n",
      "\t\t:creation_date = \"ti 21.2.2023 13.21.58 +0100\" ;\n",
      "\t\t:history = \"Wed Apr 19 11:45:23 2023: ncatted -O -a calendar,time,o,c,noleap clm1pt_ALP4_2000-02.nc\\n\",\n",
      "\t\t\t\"Wed Apr 19 11:43:10 2023: cdo delete,month=2,day=29 ori_clm1pt_ALP4_2000-02.nc clm1pt_ALP4_2000-02.nc\\n\",\n",
      "\t\t\t\"Original data from COSMOREA6 data\" ;\n",
      "\t\t:title = \"CLM single point datm input data\" ;\n",
      "\t\t:conventions = \"CF-1.0\" ;\n",
      "\t\t:case_title = \"COSMOREA6: SEEDCLIM\" ;\n",
      "\t\t:CDO = \"Climate Data Operators version 2.0.4 (https://mpimet.mpg.de/cdo)\" ;\n",
      "\t\t:NCO = \"netCDF Operators version 5.0.6 (Homepage = http://nco.sf.net, Code = http://github.com/nco/nco)\" ;\n",
      "}\n"
     ]
    }
   ],
   "source": [
    "%%bash\n",
    "cd ../data/ALP4_cosmorea_noleap/datmdata\n",
    "ncdump -h clm1pt_ALP4_2000-02.nc"
   ]
  },
  {
   "attachments": {},
   "cell_type": "markdown",
   "metadata": {},
   "source": [
    "Re-zip folder"
   ]
  },
  {
   "cell_type": "code",
   "execution_count": 23,
   "metadata": {},
   "outputs": [
    {
     "name": "stdout",
     "output_type": "stream",
     "text": [
      "zipping complete\n"
     ]
    }
   ],
   "source": [
    "shutil.make_archive(cosmo_path + \"/ALP4_cosmorea_noleap\",\n",
    "                    'zip', cosmo_path + \"/ALP4_cosmorea_noleap\")\n",
    "print(\"zipping complete\")"
   ]
  },
  {
   "attachments": {},
   "cell_type": "markdown",
   "metadata": {},
   "source": [
    "Finally, commit and push changes back to github repository so the data can be downloaded from there."
   ]
  }
 ],
 "metadata": {
  "kernelspec": {
   "display_name": "vscode",
   "language": "python",
   "name": "python3"
  },
  "language_info": {
   "codemirror_mode": {
    "name": "ipython",
    "version": 3
   },
   "file_extension": ".py",
   "mimetype": "text/x-python",
   "name": "python",
   "nbconvert_exporter": "python",
   "pygments_lexer": "ipython3",
   "version": "3.10.9"
  },
  "orig_nbformat": 4,
  "vscode": {
   "interpreter": {
    "hash": "6ffdbb7dcba71ee9bfd760f02a7add94ffe938549fbb9e2346155ac79cdba3bd"
   }
  }
 },
 "nbformat": 4,
 "nbformat_minor": 2
}
