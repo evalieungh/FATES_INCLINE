{
 "cells": [
  {
   "attachments": {},
   "cell_type": "markdown",
   "id": "e17b819a-093c-4ae9-93ca-34b356131a98",
   "metadata": {},
   "source": [
    "## Climate data - GSWP3 and COSMO-REA6 vs. VCG precipitation observations\n",
    "\n",
    "started 2023-04-21 from [LSP paper notebook](https://zenodo.org/record/7310652).\n",
    "\n",
    "This notebook compares precipitation forcing from GSWP3 and COSMO-REA6 to observations from the Vestland Climate Grid."
   ]
  },
  {
   "cell_type": "code",
   "execution_count": 47,
   "id": "9682a194-5478-424e-8b67-0f7fe5379590",
   "metadata": {},
   "outputs": [],
   "source": [
    "import xarray as xr  # NetCDF data handling\n",
    "import matplotlib.pyplot as plt  # Plotting\n",
    "import pandas as pd  # Tabular data handling\n",
    "import time  # Keeping track of runtime\n",
    "import json  # For reading data dictionaries stored in json format\n",
    "import datetime as dt  # for workaround with long simulations (beyond year 2262)\n",
    "from pathlib import Path\n",
    "import urllib.request  \n",
    "import shutil\n",
    "import zipfile"
   ]
  },
  {
   "attachments": {},
   "cell_type": "markdown",
   "id": "4432f7ed-adee-4969-bb44-276a6fe5d3c1",
   "metadata": {},
   "source": [
    "#### Load model forcing data"
   ]
  },
  {
   "cell_type": "code",
   "execution_count": 48,
   "id": "bd62e7d4",
   "metadata": {},
   "outputs": [
    {
     "name": "stdout",
     "output_type": "stream",
     "text": [
      "/mnt/c/Users/evaler/OneDrive - Universitetet i Oslo/Eva/PHD/FATES_INCLINE/src/analysis_and_plotting\n"
     ]
    }
   ],
   "source": [
    "%%bash\n",
    "pwd"
   ]
  },
  {
   "cell_type": "code",
   "execution_count": 49,
   "id": "ce6fc82b-ea65-41fe-9055-460809202cb7",
   "metadata": {},
   "outputs": [],
   "source": [
    "# Define site code and path to climate forcing\n",
    "site_code = \"ALP4\"\n",
    "gswp3_path = Path(\"../../data/ALP4/datmdata/\")\n",
    "cosmorea6_path = Path(\"../../data/ALP4_cosmorea_noleap/datmdata/\")"
   ]
  },
  {
   "cell_type": "code",
   "execution_count": 50,
   "id": "acd50ed4-4ad0-4826-a9f5-7d1b7506d459",
   "metadata": {},
   "outputs": [
    {
     "name": "stdout",
     "output_type": "stream",
     "text": [
      "--- Time it took to read the data: 150.615 seconds ---\n"
     ]
    }
   ],
   "source": [
    "# Load netcdf data\n",
    "start_time = time.time()\n",
    "\n",
    "gswp3_precipitation = xr.open_mfdataset(\n",
    "    f'{gswp3_path}/clmforc*Prec.{site_code}*.nc',\n",
    "    concat_dim='time',\n",
    "    combine='nested',\n",
    "    decode_times=True\n",
    ")\n",
    "\n",
    "cosmo_climate_data = xr.open_mfdataset(\n",
    "    f'{cosmorea6_path}/*.nc',\n",
    "    concat_dim='time',\n",
    "    combine='nested',\n",
    "    decode_times=True\n",
    ")\n",
    "\n",
    "print(f\"--- Time it took to read the data: {round(float(time.time() - start_time), 3)} seconds ---\")"
   ]
  },
  {
   "attachments": {},
   "cell_type": "markdown",
   "id": "7106231c-e618-4622-bc05-f4817b098db6",
   "metadata": {},
   "source": [
    "## Observation data"
   ]
  },
  {
   "cell_type": "markdown",
   "id": "0ee334e8-e243-403d-83be-7a88c9a4f061",
   "metadata": {},
   "source": [
    "#### Read observation data\n",
    "\n",
    "Temperature data downloaded and subset from https://osf.io/s9k7c (accessed 2025-05-07). Daily values."
   ]
  },
  {
   "cell_type": "code",
   "execution_count": 51,
   "id": "4438eb5d-3f74-4438-94f7-424dd64d4781",
   "metadata": {},
   "outputs": [],
   "source": [
    "obs_precipitation_df = pd.read_csv(Path(f\"../../data/VCG/climate/VCG_clean_gridded_daily_precipitation_SKJ_2008-2022.csv\"), low_memory=False)"
   ]
  },
  {
   "cell_type": "markdown",
   "id": "bb3e0ba9-5d1b-45b9-abf2-bc3a79921aa8",
   "metadata": {},
   "source": [
    "#### Plot layout and save path settings"
   ]
  },
  {
   "cell_type": "code",
   "execution_count": 52,
   "id": "6ffb8536-7198-44c2-957d-52edee4a2639",
   "metadata": {},
   "outputs": [],
   "source": [
    "# Define folder for saving plots\n",
    "plot_save_path = Path(\"../../results/figures/\")\n",
    "\n",
    "if not plot_save_path.is_dir():\n",
    "    plot_save_path.mkdir(parents=True, exist_ok=True)"
   ]
  },
  {
   "cell_type": "code",
   "execution_count": 53,
   "id": "bb314541-58de-4515-9eec-92bfad56cfb1",
   "metadata": {},
   "outputs": [],
   "source": [
    "# Set general plotting optionscm = 1/2.54  # centimeters in inches\n",
    "cm = 1/2.54  # centimeters in inches\n",
    "DPI = 200\n",
    "FIG_SIZE_CM = (9.5*cm, 7*cm)\n",
    "TICK_LABEL_FONT_SIZE = 9\n",
    "AX_LABEL_FONT_SIZE = 11"
   ]
  },
  {
   "cell_type": "code",
   "execution_count": 54,
   "id": "e4fa554a-9b68-472c-a0d0-0090f4387112",
   "metadata": {},
   "outputs": [
    {
     "data": {
      "text/html": [
       "<div>\n",
       "<style scoped>\n",
       "    .dataframe tbody tr th:only-of-type {\n",
       "        vertical-align: middle;\n",
       "    }\n",
       "\n",
       "    .dataframe tbody tr th {\n",
       "        vertical-align: top;\n",
       "    }\n",
       "\n",
       "    .dataframe thead th {\n",
       "        text-align: right;\n",
       "    }\n",
       "</style>\n",
       "<table border=\"1\" class=\"dataframe\">\n",
       "  <thead>\n",
       "    <tr style=\"text-align: right;\">\n",
       "      <th></th>\n",
       "      <th>Unnamed: 0</th>\n",
       "      <th>date</th>\n",
       "      <th>siteID</th>\n",
       "      <th>variable</th>\n",
       "      <th>value</th>\n",
       "    </tr>\n",
       "  </thead>\n",
       "  <tbody>\n",
       "    <tr>\n",
       "      <th>0</th>\n",
       "      <td>203680</td>\n",
       "      <td>2008-01-02</td>\n",
       "      <td>Skjelingahaugen</td>\n",
       "      <td>precipitation</td>\n",
       "      <td>0.0</td>\n",
       "    </tr>\n",
       "    <tr>\n",
       "      <th>1</th>\n",
       "      <td>203685</td>\n",
       "      <td>2008-01-03</td>\n",
       "      <td>Skjelingahaugen</td>\n",
       "      <td>precipitation</td>\n",
       "      <td>0.0</td>\n",
       "    </tr>\n",
       "    <tr>\n",
       "      <th>2</th>\n",
       "      <td>203690</td>\n",
       "      <td>2008-01-04</td>\n",
       "      <td>Skjelingahaugen</td>\n",
       "      <td>precipitation</td>\n",
       "      <td>0.0</td>\n",
       "    </tr>\n",
       "    <tr>\n",
       "      <th>3</th>\n",
       "      <td>203695</td>\n",
       "      <td>2008-01-05</td>\n",
       "      <td>Skjelingahaugen</td>\n",
       "      <td>precipitation</td>\n",
       "      <td>0.0</td>\n",
       "    </tr>\n",
       "    <tr>\n",
       "      <th>4</th>\n",
       "      <td>203700</td>\n",
       "      <td>2008-01-06</td>\n",
       "      <td>Skjelingahaugen</td>\n",
       "      <td>precipitation</td>\n",
       "      <td>0.2</td>\n",
       "    </tr>\n",
       "  </tbody>\n",
       "</table>\n",
       "</div>"
      ],
      "text/plain": [
       "   Unnamed: 0        date           siteID       variable  value\n",
       "0      203680  2008-01-02  Skjelingahaugen  precipitation    0.0\n",
       "1      203685  2008-01-03  Skjelingahaugen  precipitation    0.0\n",
       "2      203690  2008-01-04  Skjelingahaugen  precipitation    0.0\n",
       "3      203695  2008-01-05  Skjelingahaugen  precipitation    0.0\n",
       "4      203700  2008-01-06  Skjelingahaugen  precipitation    0.2"
      ]
     },
     "execution_count": 54,
     "metadata": {},
     "output_type": "execute_result"
    }
   ],
   "source": [
    "obs_precipitation_df.head()"
   ]
  },
  {
   "cell_type": "code",
   "execution_count": 55,
   "id": "1a213045-71fb-469a-9aa5-5dd6faf5b23a",
   "metadata": {},
   "outputs": [
    {
     "name": "stdout",
     "output_type": "stream",
     "text": [
      "Shape: (5092, 5)\n",
      "Data types:\n",
      "Unnamed: 0      int64\n",
      "date           object\n",
      "siteID         object\n",
      "variable       object\n",
      "value         float64\n",
      "dtype: object\n"
     ]
    }
   ],
   "source": [
    "print(f\"Shape: {obs_precipitation_df.shape}\")\n",
    "print(f\"Data types:\\n{obs_precipitation_df.dtypes}\")"
   ]
  },
  {
   "cell_type": "code",
   "execution_count": 56,
   "id": "e039557f-ded4-4ec4-95bf-3fc9b5d1d075",
   "metadata": {},
   "outputs": [
    {
     "name": "stdout",
     "output_type": "stream",
     "text": [
      "Data types:\n",
      "date        datetime64[ns, UTC]\n",
      "variable                 object\n",
      "value                   float64\n",
      "dtype: object\n"
     ]
    },
    {
     "data": {
      "text/html": [
       "<div>\n",
       "<style scoped>\n",
       "    .dataframe tbody tr th:only-of-type {\n",
       "        vertical-align: middle;\n",
       "    }\n",
       "\n",
       "    .dataframe tbody tr th {\n",
       "        vertical-align: top;\n",
       "    }\n",
       "\n",
       "    .dataframe thead th {\n",
       "        text-align: right;\n",
       "    }\n",
       "</style>\n",
       "<table border=\"1\" class=\"dataframe\">\n",
       "  <thead>\n",
       "    <tr style=\"text-align: right;\">\n",
       "      <th></th>\n",
       "      <th>date</th>\n",
       "      <th>variable</th>\n",
       "      <th>value</th>\n",
       "    </tr>\n",
       "  </thead>\n",
       "  <tbody>\n",
       "    <tr>\n",
       "      <th>0</th>\n",
       "      <td>2008-01-02 00:00:00+00:00</td>\n",
       "      <td>precipitation</td>\n",
       "      <td>0.0</td>\n",
       "    </tr>\n",
       "    <tr>\n",
       "      <th>1</th>\n",
       "      <td>2008-01-03 00:00:00+00:00</td>\n",
       "      <td>precipitation</td>\n",
       "      <td>0.0</td>\n",
       "    </tr>\n",
       "    <tr>\n",
       "      <th>2</th>\n",
       "      <td>2008-01-04 00:00:00+00:00</td>\n",
       "      <td>precipitation</td>\n",
       "      <td>0.0</td>\n",
       "    </tr>\n",
       "    <tr>\n",
       "      <th>3</th>\n",
       "      <td>2008-01-05 00:00:00+00:00</td>\n",
       "      <td>precipitation</td>\n",
       "      <td>0.0</td>\n",
       "    </tr>\n",
       "    <tr>\n",
       "      <th>4</th>\n",
       "      <td>2008-01-06 00:00:00+00:00</td>\n",
       "      <td>precipitation</td>\n",
       "      <td>0.2</td>\n",
       "    </tr>\n",
       "  </tbody>\n",
       "</table>\n",
       "</div>"
      ],
      "text/plain": [
       "                       date       variable  value\n",
       "0 2008-01-02 00:00:00+00:00  precipitation    0.0\n",
       "1 2008-01-03 00:00:00+00:00  precipitation    0.0\n",
       "2 2008-01-04 00:00:00+00:00  precipitation    0.0\n",
       "3 2008-01-05 00:00:00+00:00  precipitation    0.0\n",
       "4 2008-01-06 00:00:00+00:00  precipitation    0.2"
      ]
     },
     "execution_count": 56,
     "metadata": {},
     "output_type": "execute_result"
    }
   ],
   "source": [
    "# Convert date column to datetime, only keep date and value columns\n",
    "obs_prec_df = obs_precipitation_df\n",
    "obs_prec_df['date'] = pd.to_datetime(obs_prec_df['date']).dt.tz_localize('UTC')\n",
    "\n",
    "obs_prec_df.drop(labels=['Unnamed: 0','siteID'], axis=1, inplace=True)\n",
    "\n",
    "print(f\"Data types:\\n{obs_prec_df.dtypes}\")\n",
    "obs_prec_df.head()"
   ]
  },
  {
   "cell_type": "code",
   "execution_count": 57,
   "id": "950f01b6",
   "metadata": {},
   "outputs": [
    {
     "data": {
      "text/plain": [
       "RangeIndex(start=0, stop=5092, step=1)"
      ]
     },
     "execution_count": 57,
     "metadata": {},
     "output_type": "execute_result"
    }
   ],
   "source": [
    "obs_prec_df.index"
   ]
  },
  {
   "cell_type": "code",
   "execution_count": 58,
   "id": "42335db0",
   "metadata": {},
   "outputs": [],
   "source": [
    "# Set date as index\n",
    "obs_prec_df.set_index('date', inplace=True)"
   ]
  },
  {
   "cell_type": "code",
   "execution_count": 59,
   "id": "70e876db-5181-420d-84a1-0fa0bec0767c",
   "metadata": {},
   "outputs": [
    {
     "ename": "KeyError",
     "evalue": "'date'",
     "output_type": "error",
     "traceback": [
      "\u001b[1;31m---------------------------------------------------------------------------\u001b[0m",
      "\u001b[1;31mKeyError\u001b[0m                                  Traceback (most recent call last)",
      "File \u001b[1;32mc:\\Users\\evaler\\.conda\\envs\\vscode\\lib\\site-packages\\pandas\\core\\indexes\\base.py:3803\u001b[0m, in \u001b[0;36mIndex.get_loc\u001b[1;34m(self, key, method, tolerance)\u001b[0m\n\u001b[0;32m   3802\u001b[0m \u001b[38;5;28;01mtry\u001b[39;00m:\n\u001b[1;32m-> 3803\u001b[0m     \u001b[38;5;28;01mreturn\u001b[39;00m \u001b[38;5;28;43mself\u001b[39;49m\u001b[38;5;241;43m.\u001b[39;49m\u001b[43m_engine\u001b[49m\u001b[38;5;241;43m.\u001b[39;49m\u001b[43mget_loc\u001b[49m\u001b[43m(\u001b[49m\u001b[43mcasted_key\u001b[49m\u001b[43m)\u001b[49m\n\u001b[0;32m   3804\u001b[0m \u001b[38;5;28;01mexcept\u001b[39;00m \u001b[38;5;167;01mKeyError\u001b[39;00m \u001b[38;5;28;01mas\u001b[39;00m err:\n",
      "File \u001b[1;32mc:\\Users\\evaler\\.conda\\envs\\vscode\\lib\\site-packages\\pandas\\_libs\\index.pyx:138\u001b[0m, in \u001b[0;36mpandas._libs.index.IndexEngine.get_loc\u001b[1;34m()\u001b[0m\n",
      "File \u001b[1;32mc:\\Users\\evaler\\.conda\\envs\\vscode\\lib\\site-packages\\pandas\\_libs\\index.pyx:165\u001b[0m, in \u001b[0;36mpandas._libs.index.IndexEngine.get_loc\u001b[1;34m()\u001b[0m\n",
      "File \u001b[1;32mpandas\\_libs\\hashtable_class_helper.pxi:5745\u001b[0m, in \u001b[0;36mpandas._libs.hashtable.PyObjectHashTable.get_item\u001b[1;34m()\u001b[0m\n",
      "File \u001b[1;32mpandas\\_libs\\hashtable_class_helper.pxi:5753\u001b[0m, in \u001b[0;36mpandas._libs.hashtable.PyObjectHashTable.get_item\u001b[1;34m()\u001b[0m\n",
      "\u001b[1;31mKeyError\u001b[0m: 'date'",
      "\nThe above exception was the direct cause of the following exception:\n",
      "\u001b[1;31mKeyError\u001b[0m                                  Traceback (most recent call last)",
      "Cell \u001b[1;32mIn[59], line 3\u001b[0m\n\u001b[0;32m      1\u001b[0m \u001b[38;5;66;03m# Quick visualization\u001b[39;00m\n\u001b[0;32m      2\u001b[0m fig, ax \u001b[38;5;241m=\u001b[39m plt\u001b[38;5;241m.\u001b[39msubplots()\n\u001b[1;32m----> 3\u001b[0m ax\u001b[38;5;241m.\u001b[39mplot(\u001b[43mobs_precipitation_df\u001b[49m\u001b[43m[\u001b[49m\u001b[38;5;124;43m'\u001b[39;49m\u001b[38;5;124;43mdate\u001b[39;49m\u001b[38;5;124;43m'\u001b[39;49m\u001b[43m]\u001b[49m, \n\u001b[0;32m      4\u001b[0m         obs_precipitation_df[\u001b[38;5;124m'\u001b[39m\u001b[38;5;124mvalue\u001b[39m\u001b[38;5;124m'\u001b[39m]\n\u001b[0;32m      5\u001b[0m        )\n\u001b[0;32m      6\u001b[0m ax\u001b[38;5;241m.\u001b[39mset_xlabel(\u001b[38;5;124m\"\u001b[39m\u001b[38;5;124mDate\u001b[39m\u001b[38;5;124m\"\u001b[39m)\n\u001b[0;32m      7\u001b[0m ax\u001b[38;5;241m.\u001b[39mset_ylabel(\u001b[38;5;124m\"\u001b[39m\u001b[38;5;124mPrecipitation\u001b[39m\u001b[38;5;124m\"\u001b[39m)\n",
      "File \u001b[1;32mc:\\Users\\evaler\\.conda\\envs\\vscode\\lib\\site-packages\\pandas\\core\\frame.py:3805\u001b[0m, in \u001b[0;36mDataFrame.__getitem__\u001b[1;34m(self, key)\u001b[0m\n\u001b[0;32m   3803\u001b[0m \u001b[38;5;28;01mif\u001b[39;00m \u001b[38;5;28mself\u001b[39m\u001b[38;5;241m.\u001b[39mcolumns\u001b[38;5;241m.\u001b[39mnlevels \u001b[38;5;241m>\u001b[39m \u001b[38;5;241m1\u001b[39m:\n\u001b[0;32m   3804\u001b[0m     \u001b[38;5;28;01mreturn\u001b[39;00m \u001b[38;5;28mself\u001b[39m\u001b[38;5;241m.\u001b[39m_getitem_multilevel(key)\n\u001b[1;32m-> 3805\u001b[0m indexer \u001b[38;5;241m=\u001b[39m \u001b[38;5;28;43mself\u001b[39;49m\u001b[38;5;241;43m.\u001b[39;49m\u001b[43mcolumns\u001b[49m\u001b[38;5;241;43m.\u001b[39;49m\u001b[43mget_loc\u001b[49m\u001b[43m(\u001b[49m\u001b[43mkey\u001b[49m\u001b[43m)\u001b[49m\n\u001b[0;32m   3806\u001b[0m \u001b[38;5;28;01mif\u001b[39;00m is_integer(indexer):\n\u001b[0;32m   3807\u001b[0m     indexer \u001b[38;5;241m=\u001b[39m [indexer]\n",
      "File \u001b[1;32mc:\\Users\\evaler\\.conda\\envs\\vscode\\lib\\site-packages\\pandas\\core\\indexes\\base.py:3805\u001b[0m, in \u001b[0;36mIndex.get_loc\u001b[1;34m(self, key, method, tolerance)\u001b[0m\n\u001b[0;32m   3803\u001b[0m     \u001b[38;5;28;01mreturn\u001b[39;00m \u001b[38;5;28mself\u001b[39m\u001b[38;5;241m.\u001b[39m_engine\u001b[38;5;241m.\u001b[39mget_loc(casted_key)\n\u001b[0;32m   3804\u001b[0m \u001b[38;5;28;01mexcept\u001b[39;00m \u001b[38;5;167;01mKeyError\u001b[39;00m \u001b[38;5;28;01mas\u001b[39;00m err:\n\u001b[1;32m-> 3805\u001b[0m     \u001b[38;5;28;01mraise\u001b[39;00m \u001b[38;5;167;01mKeyError\u001b[39;00m(key) \u001b[38;5;28;01mfrom\u001b[39;00m \u001b[38;5;21;01merr\u001b[39;00m\n\u001b[0;32m   3806\u001b[0m \u001b[38;5;28;01mexcept\u001b[39;00m \u001b[38;5;167;01mTypeError\u001b[39;00m:\n\u001b[0;32m   3807\u001b[0m     \u001b[38;5;66;03m# If we have a listlike key, _check_indexing_error will raise\u001b[39;00m\n\u001b[0;32m   3808\u001b[0m     \u001b[38;5;66;03m#  InvalidIndexError. Otherwise we fall through and re-raise\u001b[39;00m\n\u001b[0;32m   3809\u001b[0m     \u001b[38;5;66;03m#  the TypeError.\u001b[39;00m\n\u001b[0;32m   3810\u001b[0m     \u001b[38;5;28mself\u001b[39m\u001b[38;5;241m.\u001b[39m_check_indexing_error(key)\n",
      "\u001b[1;31mKeyError\u001b[0m: 'date'"
     ]
    },
    {
     "data": {
      "image/png": "[encoded data removed]",
      "text/plain": [
       "<Figure size 640x480 with 1 Axes>"
      ]
     },
     "metadata": {},
     "output_type": "display_data"
    }
   ],
   "source": [
    "# Quick visualization\n",
    "fig, ax = plt.subplots()\n",
    "ax.plot(obs_precipitation_df['date'], \n",
    "        obs_precipitation_df['value']\n",
    "       )\n",
    "ax.set_xlabel(\"Date\")\n",
    "ax.set_ylabel(\"Precipitation\")\n",
    "plt.title(\"Observed daily precipitation\")"
   ]
  },
  {
   "attachments": {},
   "cell_type": "markdown",
   "id": "33ad5a1b-43d6-4b6d-9b74-70161685d435",
   "metadata": {},
   "source": [
    "## GSWP3\n",
    "Load data from xarray Dataset into a pandas DataFrame."
   ]
  },
  {
   "cell_type": "code",
   "execution_count": null,
   "id": "a14db319-9129-48e7-aca6-d3a530615c35",
   "metadata": {},
   "outputs": [],
   "source": [
    "gswp3_df = pd.DataFrame(columns=['date', 'precipitation'])\n",
    "\n",
    "# Subset date, convert to datetime format. Expect a warning due to GSWP3 special NOLEAP calendar format.\n",
    "gswp3_df['date'] = gswp3_precipitation.indexes['time'].to_datetimeindex()\n",
    "\n",
    "# Subset precipitation, convert from [mm H2O / sec] to total (3h=10800s model time step)\n",
    "gswp3_df['precipitation'] = gswp3_precipitation[\"PRECTmms\"].values.flatten() * 10800"
   ]
  },
  {
   "cell_type": "code",
   "execution_count": null,
   "id": "5482794b-e436-4577-8032-f2d2e20c93ef",
   "metadata": {},
   "outputs": [],
   "source": [
    "gswp3_df.head()"
   ]
  },
  {
   "cell_type": "code",
   "execution_count": null,
   "id": "f09e440e-733e-455f-abc1-bdd35fac2f68",
   "metadata": {},
   "outputs": [],
   "source": [
    "# Quick visualization\n",
    "fig, ax = plt.subplots()\n",
    "ax.plot(gswp3_df['date'], \n",
    "        gswp3_df['precipitation']\n",
    "       )\n",
    "ax.set_title(\"GSWP3 precipitation\")\n",
    "ax.set_xlabel(\"Date\")\n",
    "ax.set_ylabel(\"precipitation\")"
   ]
  },
  {
   "cell_type": "code",
   "execution_count": null,
   "id": "2140b9e9-f878-4c9c-94aa-e49a0b4df2e4",
   "metadata": {},
   "outputs": [],
   "source": [
    "# Calculate daily means\n",
    "gswp3_daily_prec_df = gswp3_df.groupby(pd.Grouper(key='date', freq='D'))['precipitation'].mean()"
   ]
  },
  {
   "cell_type": "code",
   "execution_count": null,
   "id": "96b06469-13d9-47f4-8769-b3a3f1a8accf",
   "metadata": {},
   "outputs": [],
   "source": [
    "gswp3_daily_prec_df.head()"
   ]
  },
  {
   "cell_type": "code",
   "execution_count": null,
   "id": "4927e19a-68e1-4fe1-bf1b-12741a27be33",
   "metadata": {},
   "outputs": [],
   "source": [
    "# Quick visualization \n",
    "fig, ax = plt.subplots()\n",
    "ax.plot(gswp3_daily_prec_df.index, \n",
    "        gswp3_daily_prec_df.values\n",
    "       )\n",
    "ax.set_title(\"GSWP3 - daily means\")\n",
    "ax.set_xlabel(\"Date\")\n",
    "ax.set_ylabel(\"Precipitation\")\n",
    "ax.set_xlim(pd.Timestamp(2008, 1, 1), pd.Timestamp(2015, 1, 1))"
   ]
  },
  {
   "attachments": {},
   "cell_type": "markdown",
   "id": "bb21eb26",
   "metadata": {},
   "source": [
    "## COSMO-REA6\n",
    "\n",
    "Format and get daily means of COSMO-REA6 forcing in the same way as GSWP3"
   ]
  },
  {
   "cell_type": "code",
   "execution_count": null,
   "id": "8a5bb2fd",
   "metadata": {},
   "outputs": [],
   "source": [
    "cosmo_df = pd.DataFrame(columns=['date', 'precipitation'])\n",
    "\n",
    "# Subset date, convert to datetime format. Expect a warning due to GSWP3 special NOLEAP calendar format.\n",
    "cosmo_df['date'] = cosmo_climate_data.indexes['time'].to_datetimeindex()\n",
    "\n",
    "# Subset precipitation, convert from [mm H2O / sec] to total (3h=10800s model time step)\n",
    "cosmo_df['precipitation'] = cosmo_climate_data[\"PRECTmms\"].values.flatten() * 10800"
   ]
  },
  {
   "cell_type": "code",
   "execution_count": null,
   "id": "84114290",
   "metadata": {},
   "outputs": [],
   "source": [
    "cosmo_df.head()"
   ]
  },
  {
   "cell_type": "code",
   "execution_count": null,
   "id": "6fc60b3c",
   "metadata": {},
   "outputs": [],
   "source": [
    "# Quick visualization\n",
    "fig, ax = plt.subplots()\n",
    "ax.plot(cosmo_df['date'], \n",
    "        cosmo_df['precipitation']\n",
    "       )\n",
    "ax.set_title(\"COSMO-REA6 precipitation\")\n",
    "ax.set_xlabel(\"Date\")\n",
    "ax.set_ylabel(\"Precipitation\")"
   ]
  },
  {
   "cell_type": "code",
   "execution_count": null,
   "id": "7b11038f",
   "metadata": {},
   "outputs": [],
   "source": [
    "# Calculate daily means\n",
    "cosmo_daily_prec_df = cosmo_df.groupby(pd.Grouper(key='date', freq='D'))['precipitation'].mean()\n",
    "cosmo_daily_prec_df.head()"
   ]
  },
  {
   "cell_type": "code",
   "execution_count": null,
   "id": "18a368c8",
   "metadata": {},
   "outputs": [],
   "source": [
    "# Quick visualization \n",
    "fig, ax = plt.subplots()\n",
    "ax.plot(cosmo_daily_prec_df.index, \n",
    "        cosmo_daily_prec_df.values\n",
    "       )\n",
    "ax.set_title(\"COSMO-REA6 - daily means\")\n",
    "ax.set_xlabel(\"Date\")\n",
    "ax.set_ylabel(\"Precipitation\")\n",
    "ax.set_xlim(pd.Timestamp(2008, 1, 1), pd.Timestamp(2015, 1, 1))"
   ]
  },
  {
   "attachments": {},
   "cell_type": "markdown",
   "id": "3f47d18c-7023-41ad-b3a3-d8236b23687b",
   "metadata": {},
   "source": [
    "## Plot data sets together"
   ]
  },
  {
   "cell_type": "code",
   "execution_count": null,
   "id": "d45c4cdc",
   "metadata": {},
   "outputs": [],
   "source": [
    "print(type(obs_prec_df['value'].iloc[0]))"
   ]
  },
  {
   "cell_type": "code",
   "execution_count": null,
   "id": "a52452fe-9b9d-4459-8e3b-51aaea222ae4",
   "metadata": {},
   "outputs": [],
   "source": [
    "fig, ax = plt.subplots(dpi=DPI, figsize=FIG_SIZE_CM)\n",
    "\n",
    "# GSWP3\n",
    "ax.plot(gswp3_daily_prec_df.index, \n",
    "        gswp3_daily_prec_df.values,\n",
    "        linewidth=1.2,\n",
    "        color=\"navy\",\n",
    "        label=\"GSWP3 forcing\"\n",
    "       )\n",
    "\n",
    "# COSMO-REA6\n",
    "ax.plot(cosmo_daily_prec_df.index,\n",
    "        cosmo_daily_prec_df.values,\n",
    "        linewidth=1.2,\n",
    "        color=\"cornflowerblue\",\n",
    "        label=\"COSMO-REA6 forcing\")\n",
    "\n",
    "# VCG\n",
    "ax.plot(obs_prec_df.index,\n",
    "        obs_prec_df.values,\n",
    "        linewidth=1.2,\n",
    "        linestyle=\"dotted\",\n",
    "        alpha=0.8,\n",
    "        color=\"red\",\n",
    "        label=\"Local observations\"\n",
    "       )\n",
    "\n",
    "\n",
    "ax.set_ylabel(\"Precipitation\", fontsize=AX_LABEL_FONT_SIZE)\n",
    "ax.set_xlabel(\"Year\", fontsize=AX_LABEL_FONT_SIZE)\n",
    "ax.set_title(\"Precipitation comparison of forcing data and observations\")\n",
    "\n",
    "#ax.xaxis.set_major_locator(plt.MaxNLocator(3))\n",
    "ax.set_xlim(pd.Timestamp(2006, 1, 1), pd.Timestamp(2021, 1, 1))\n",
    "ax.set_xticks(\n",
    "    [pd.Timestamp(2006, 1, 1),\n",
    "     pd.Timestamp(2015, 1, 1),\n",
    "     pd.Timestamp(2021, 1, 1)]\n",
    ")\n",
    "\n",
    "ax.tick_params(axis='both', which='major', labelsize=TICK_LABEL_FONT_SIZE)\n",
    "\n",
    "import matplotlib.dates as mdates\n",
    "my_format = mdates.DateFormatter('%Y')\n",
    "ax.xaxis.set_major_formatter(my_format)\n",
    "\n",
    "ax.grid()\n",
    "ax.legend(fontsize=TICK_LABEL_FONT_SIZE)\n",
    "\n",
    "# Number of y-ticks\n",
    "ax.set_yticks([-40, -20, 0, 20])\n",
    "\n",
    "# Save figure\n",
    "fig.tight_layout()\n",
    "fig.savefig(fname=f\"{plot_save_path}/gswp3_vcg_precipitation.png\", format='png')"
   ]
  },
  {
   "cell_type": "markdown",
   "id": "a41d4899-bd13-4223-bc0a-9331656dd00e",
   "metadata": {},
   "source": [
    "#### Directly compare corresponding values"
   ]
  },
  {
   "cell_type": "code",
   "execution_count": null,
   "id": "8fbeb93c-cbec-48bc-99be-6ebc22bb15c5",
   "metadata": {},
   "outputs": [],
   "source": [
    "temp_bias_df = pd.DataFrame(columns=['date', 'vcg_obs'])\n",
    "\n",
    "# Add values, merge on dates (reset timezone in obs to prevent error)\n",
    "temp_bias_df['date'] = pd.to_datetime(obs_temp_daily_mean.index).tz_localize(None)\n",
    "temp_bias_df['vcg_obs'] = obs_temp_daily_mean.values\n",
    "temp_bias_df = temp_bias_df.join(other=gswp3_daily_temp_df, how='left', on='date')\n",
    "temp_bias_df = temp_bias_df.join(other=cosmo_daily_temp_df, how='left', on='date', rsuffix='_cosmo')\n",
    "\n",
    "# Drop rows with missing entries\n",
    "temp_bias_df = temp_bias_df.dropna(axis=0)\n",
    "temp_bias_df"
   ]
  },
  {
   "attachments": {},
   "cell_type": "markdown",
   "id": "710beb5c",
   "metadata": {},
   "source": [
    "Linear regression comparison"
   ]
  },
  {
   "cell_type": "code",
   "execution_count": null,
   "id": "5f0b37fe-91ef-4dfb-b026-fc217ac529d1",
   "metadata": {},
   "outputs": [],
   "source": [
    "# GSWP3 versus observations\n",
    "fig, ax = plt.subplots(dpi=DPI, figsize=FIG_SIZE_CM)\n",
    "\n",
    "ax.scatter(temp_bias_df['vcg_obs'],\n",
    "           temp_bias_df['2m_temperature'],\n",
    "           s=12,\n",
    "           edgecolors='white',\n",
    "           color=\"#035e7b\",\n",
    "           linewidth=0.3,\n",
    "           alpha=0.4\n",
    "          )\n",
    "\n",
    "# 1 to 1 line\n",
    "ax.plot([x+1 for x in range(-40, 40)], \n",
    "        [x+1 for x in range(-40, 40)],\n",
    "        color=\"red\",\n",
    "        linestyle=\"--\",\n",
    "        label=\"1:1 line\"\n",
    "       )\n",
    "\n",
    "# Linear regression and statistics\n",
    "import numpy as np\n",
    "import scipy\n",
    "\n",
    "slope, intercept, r_value, p_value, std_err = scipy.stats.linregress(temp_bias_df['vcg_obs'],\n",
    "                                                                     temp_bias_df['2m_temperature']\n",
    "                                                                    )\n",
    "plt.axline(xy1=(0, intercept),\n",
    "           slope=slope, \n",
    "           label='Linear regression',\n",
    "           color='black'\n",
    "          )\n",
    "\n",
    "# Calculate root mean square error\n",
    "rmse = np.sqrt(np.mean(np.square(temp_bias_df['vcg_obs'] - temp_bias_df['2m_temperature'])))\n",
    "\n",
    "# Add lin. reg. formula and metrics as text to figure\n",
    "from matplotlib.offsetbox import AnchoredText\n",
    "\n",
    "text_box = AnchoredText(f'$y = {slope:.2f}x {intercept:+.2f}$\\n$RMSE = {rmse:.2f}$ [°C]\\n$r^2 = {r_value**2:.2f}$',\n",
    "                        frameon=False, \n",
    "                        loc=4, \n",
    "                        pad=0,\n",
    "                        prop=dict(fontsize=TICK_LABEL_FONT_SIZE)\n",
    "                       )\n",
    "# Text box layout\n",
    "plt.setp(text_box.patch, \n",
    "         facecolor='none', \n",
    "         alpha=0.5\n",
    "        )\n",
    "ax.add_artist(text_box)\n",
    "\n",
    "# General plot layout\n",
    "ax.set_xlabel(\"VCG\\nAir temperature (°C)\", fontsize=AX_LABEL_FONT_SIZE)\n",
    "ax.set_ylabel(\"GSWP3\\nAir temperature (°C)\", fontsize=AX_LABEL_FONT_SIZE)\n",
    "offset = 5 \n",
    "ax.set_xlim([min([min(temp_bias_df['vcg_obs']), min(temp_bias_df['2m_temperature'])]) - offset, \n",
    "             max([max(temp_bias_df['vcg_obs']), max(temp_bias_df['2m_temperature'])]) + offset]\n",
    "           )\n",
    "ax.set_ylim([min([min(temp_bias_df['vcg_obs']), min(temp_bias_df['2m_temperature'])]) - offset, \n",
    "             max([max(temp_bias_df['vcg_obs']), max(temp_bias_df['2m_temperature'])]) + offset]\n",
    "           )\n",
    "ax.tick_params(axis='both', which='major', labelsize=TICK_LABEL_FONT_SIZE)\n",
    "ax.legend(fontsize=TICK_LABEL_FONT_SIZE)\n",
    "\n",
    "# Save figure\n",
    "fig.tight_layout()\n",
    "fig.savefig(fname=f\"{plot_save_path}/gswp3_vcg_temperature_bias.png\", format='png')"
   ]
  },
  {
   "cell_type": "code",
   "execution_count": null,
   "id": "25411d32",
   "metadata": {},
   "outputs": [],
   "source": [
    "# COSMO-REA6 versus observations\n",
    "fig, ax = plt.subplots(dpi=DPI, figsize=FIG_SIZE_CM)\n",
    "\n",
    "ax.scatter(temp_bias_df['vcg_obs'],\n",
    "           temp_bias_df['2m_temperature_cosmo'],\n",
    "           s=12,\n",
    "           edgecolors='white',\n",
    "           color=\"#035e7b\",\n",
    "           linewidth=0.3,\n",
    "           alpha=0.4\n",
    "          )\n",
    "\n",
    "# 1 to 1 line\n",
    "ax.plot([x+1 for x in range(-40, 40)], \n",
    "        [x+1 for x in range(-40, 40)],\n",
    "        color=\"red\",\n",
    "        linestyle=\"--\",\n",
    "        label=\"1:1 line\"\n",
    "       )\n",
    "\n",
    "# Linear regression and statistics\n",
    "import numpy as np\n",
    "import scipy\n",
    "\n",
    "slope, intercept, r_value, p_value, std_err = scipy.stats.linregress(temp_bias_df['vcg_obs'],\n",
    "                                                                     temp_bias_df['2m_temperature_cosmo']\n",
    "                                                                    )\n",
    "plt.axline(xy1=(0, intercept),\n",
    "           slope=slope, \n",
    "           label='Linear regression',\n",
    "           color='black'\n",
    "          )\n",
    "\n",
    "# Calculate root mean square error\n",
    "rmse = np.sqrt(np.mean(np.square(temp_bias_df['vcg_obs'] - temp_bias_df['2m_temperature_cosmo'])))\n",
    "\n",
    "# Add lin. reg. formula and metrics as text to figure\n",
    "from matplotlib.offsetbox import AnchoredText\n",
    "\n",
    "text_box = AnchoredText(f'$y = {slope:.2f}x {intercept:+.2f}$\\n$RMSE = {rmse:.2f}$ [°C]\\n$r^2 = {r_value**2:.2f}$',\n",
    "                        frameon=False, \n",
    "                        loc=4, \n",
    "                        pad=0,\n",
    "                        prop=dict(fontsize=TICK_LABEL_FONT_SIZE)\n",
    "                       )\n",
    "# Text box layout\n",
    "plt.setp(text_box.patch, \n",
    "         facecolor='none', \n",
    "         alpha=0.5\n",
    "        )\n",
    "ax.add_artist(text_box)\n",
    "\n",
    "# General plot layout\n",
    "ax.set_xlabel(\"VCG\\nAir temperature (°C)\", fontsize=AX_LABEL_FONT_SIZE)\n",
    "ax.set_ylabel(\"COSMO-REA6\\nAir temperature (°C)\", fontsize=AX_LABEL_FONT_SIZE)\n",
    "offset = 5 \n",
    "ax.set_xlim([min([min(temp_bias_df['vcg_obs']), min(temp_bias_df['2m_temperature_cosmo'])]) - offset, \n",
    "             max([max(temp_bias_df['vcg_obs']), max(temp_bias_df['2m_temperature_cosmo'])]) + offset]\n",
    "           )\n",
    "ax.set_ylim([min([min(temp_bias_df['vcg_obs']), min(temp_bias_df['2m_temperature_cosmo'])]) - offset, \n",
    "             max([max(temp_bias_df['vcg_obs']), max(temp_bias_df['2m_temperature_cosmo'])]) + offset]\n",
    "           )\n",
    "ax.tick_params(axis='both', which='major', labelsize=TICK_LABEL_FONT_SIZE)\n",
    "ax.legend(fontsize=TICK_LABEL_FONT_SIZE)\n",
    "\n",
    "# Save figure\n",
    "fig.tight_layout()\n",
    "fig.savefig(fname=f\"{plot_save_path}/cosmorea6_vcg_temperature_bias.png\", format='png')"
   ]
  }
 ],
 "metadata": {
  "kernelspec": {
   "display_name": "Python 3",
   "language": "python",
   "name": "python3"
  },
  "language_info": {
   "codemirror_mode": {
    "name": "ipython",
    "version": 3
   },
   "file_extension": ".py",
   "mimetype": "text/x-python",
   "name": "python",
   "nbconvert_exporter": "python",
   "pygments_lexer": "ipython3",
   "version": "3.10.9"
  }
 },
 "nbformat": 4,
 "nbformat_minor": 5
}
