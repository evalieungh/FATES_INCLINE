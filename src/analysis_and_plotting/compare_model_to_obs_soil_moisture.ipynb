{
 "cells": [
  {
   "attachments": {},
   "cell_type": "markdown",
   "id": "0b95de56-8efe-41be-ba0d-8aa9a3a7c801",
   "metadata": {},
   "source": [
    "# Comparing modelled versus observed soil temperature\n",
    "\n",
    "Started 2023-04-21\n",
    "\n",
    "modified from LSP notebook. \n",
    "\n",
    "This notebooks illustrates relating the CLM-FATES model output to available observational data from the Vestland Climate Grid. We use modelled soil water content and observed soil moisture as an example. The workflow highlights common challenges for comparing ecological observations to LSM/DGVM data. \n",
    "\n",
    "General hurdles are...\n",
    "\n",
    "- ...harmonizing the temporal and spatial scales (aggregated grid cell resolutions (km) vs. local observations (cm-m), decade to century scale simulations vs. few year observational studies, etc.)\n",
    "- ...different jargon and scientific foci (e.g. variables of interest, species-level studies vs. PFT representation in models, etc.)\n",
    "- ...data access, documentation, and formats\n",
    "\n",
    "There are datasets for various ecological experiments in the `Vestland Climate Grid`, for example vegetation removal. This workflow example highly benefits from the VCG data following the [FAIR principles](https://www.go-fair.org/fair-principles/) for data management and stewardship. We can directly access it from the open data management platform [OSF](https://osf.io/) and attain an easily reproducible analysis.\n",
    "\n",
    "In this notebook, we will...\n",
    "1. Load model output data\n",
    "2. Plot the model observations alone\n",
    "3. Download observational data from OSF\n",
    "4. Plot the observational data\n",
    "5. Plot modelled and observed data together"
   ]
  },
  {
   "attachments": {},
   "cell_type": "markdown",
   "id": "c34f526b-0dc5-48ef-abd8-7fe3e4233702",
   "metadata": {},
   "source": [
    "## Specify folders and load VCG data\n",
    "start by loading necessary libraries:"
   ]
  },
  {
   "cell_type": "code",
   "execution_count": 1,
   "id": "aa86cbfc-0cd3-4408-bf7b-2a0b43be3b95",
   "metadata": {},
   "outputs": [],
   "source": [
    "import xarray as xr  # NetCDF data handling\n",
    "import matplotlib.pyplot as plt  # Plotting\n",
    "import time  # Keeping track of runtime\n",
    "import json  # For reading data dictionaries stored in json format\n",
    "import pandas as pd  # Tabular data analysis\n",
    "import datetime as dt  # For workaround with long simulations (beyond year 2262)\n",
    "from pathlib import Path  # For easy path handling\n",
    "import numpy as np"
   ]
  },
  {
   "attachments": {},
   "cell_type": "markdown",
   "id": "d0e67968",
   "metadata": {},
   "source": [
    "Check the current working directory before modifying paths further down"
   ]
  },
  {
   "cell_type": "code",
   "execution_count": null,
   "id": "162746f9",
   "metadata": {},
   "outputs": [],
   "source": [
    "%%bash\n",
    "pwd"
   ]
  },
  {
   "attachments": {},
   "cell_type": "markdown",
   "id": "e77b78c1",
   "metadata": {},
   "source": [
    "Define paths to concatenated output files"
   ]
  },
  {
   "cell_type": "code",
   "execution_count": null,
   "id": "a2c9d435-2b31-414d-991e-d2ce1f07afc1",
   "metadata": {},
   "outputs": [],
   "source": [
    "# Enter the site code from the LSP\n",
    "site_code = \"ALP4\"\n",
    "\n",
    "# Path to concatenated land archive output\n",
    "output_data_path = f\"../../results/3year_subsets\"\n",
    "\n",
    "# Enter the names of single output files from each simulation, created with the 'combine_model_history_files' notebook.\n",
    "file_path_DA = f\"{output_data_path}/DA.1498-1500.nc\"\n",
    "file_path_DB = f\"{output_data_path}/DB.1498-1500.nc\"\n",
    "file_path_IA = f\"{output_data_path}/IA.1498-1500.nc\"\n",
    "file_path_IB = f\"{output_data_path}/IB.1498-1500.nc\"\n",
    "file_path_IW = f\"{output_data_path}/IW.1498-1500.nc\"\n",
    "file_path_IBSP = f\"{output_data_path}/IBSP.1498-1500.nc\"\n",
    "file_path_IWSP = f\"{output_data_path}/IWSP.1498-1500.nc\"\n",
    "\n",
    "# check that they look correct by printing one\n",
    "file_path_DA"
   ]
  },
  {
   "attachments": {},
   "cell_type": "markdown",
   "id": "dce39c21",
   "metadata": {},
   "source": [
    "Then read in the data"
   ]
  },
  {
   "cell_type": "code",
   "execution_count": null,
   "id": "0ce675e3-2629-4ecc-ad30-fc00de7de907",
   "metadata": {},
   "outputs": [],
   "source": [
    "# read in the data with loop:\n",
    "file_paths = {\n",
    "    'DA': file_path_DA,\n",
    "    'DB': file_path_DB,\n",
    "    'IA': file_path_IA,\n",
    "    'IB': file_path_IB,\n",
    "    'IW': file_path_IW,\n",
    "    'IBSP': file_path_IBSP,\n",
    "    'IWSP': file_path_IWSP\n",
    "}\n",
    "\n",
    "data = {}\n",
    "\n",
    "for dataset, path in file_paths.items():\n",
    "    data[dataset] = xr.open_mfdataset(path, \n",
    "                                      combine='by_coords', \n",
    "                                      decode_times=True)"
   ]
  },
  {
   "attachments": {},
   "cell_type": "markdown",
   "id": "70e15ae1-c50a-4ffa-ab18-6462b4606ce5",
   "metadata": {
    "tags": []
   },
   "source": [
    "---\n",
    "## Modelled soil temperature\n",
    "We will extract modelled soil temperature from the CLM-FATES simulation output and relate them to the counterpart measurements from the field. CLM-FATES mechanistically calculates soil temperature and heat transfer based on e.g. the atmospheric forcings, soil and land cover characteristics, and other modelled properties such as the snow cover or the radiative transer through the modelled vegetation. Note that the forcing data (GSWP3 or COSMO-REA6) and the observed values cover different time spans. We will not be able to compare the exact same points in time - but it does give us an idea if the model somewhat realistically represents the observed patterns.\n",
    "\n",
    "The next code cells specify the variable name to look at, converts it from Kelvin to Cescius, and plots the depth levels in the soil column:"
   ]
  },
  {
   "cell_type": "code",
   "execution_count": null,
   "id": "6489e6cd-ee95-4986-9fb8-23b06a17ecae",
   "metadata": {},
   "outputs": [],
   "source": [
    "# Soil temperature history variable in CLM\n",
    "CLM_soil_temp = \"TSOI\""
   ]
  },
  {
   "cell_type": "code",
   "execution_count": null,
   "id": "63b41ad3-485f-41ca-a55a-a169f33def27",
   "metadata": {},
   "outputs": [],
   "source": [
    "# Retrieve soil temperature from model output, convert to deg. C\n",
    "\n",
    "# for Default baseline simulation (GSWP3, grass PFTs)\n",
    "DB_soil_temp = data['DB'][CLM_soil_temp] - 273.15\n",
    "DB_soil_temp.attrs[\"long_name\"] = \"Soil temperature per ground level\"\n",
    "DB_soil_temp.attrs[\"units\"] = \"deg.C\"\n",
    "DB_soil_temp"
   ]
  },
  {
   "attachments": {},
   "cell_type": "markdown",
   "id": "c061fbc0",
   "metadata": {},
   "source": [
    "Investigate the vertical resolution of the included ground levels. See:\n",
    "https://escomp.github.io/ctsm-docs/versions/release-clm5.0/html/tech_note/Ecosystem/CLM50_Tech_Note_Ecosystem.html#id17"
   ]
  },
  {
   "cell_type": "code",
   "execution_count": null,
   "id": "48defb91-e964-4cbd-85d9-1858cdc4fa41",
   "metadata": {
    "scrolled": true,
    "tags": []
   },
   "outputs": [],
   "source": [
    "from matplotlib.offsetbox import AnchoredText\n",
    "\n",
    "fig, ax = plt.subplots(figsize=(3, 3))\n",
    "\n",
    "for ground_level in DB_soil_temp.levgrnd.values:\n",
    "    \n",
    "    ax.axhline(ground_level,\n",
    "               color=\"#696969\",\n",
    "               linestyle=\"dashed\",\n",
    "              )\n",
    "# Plot layout\n",
    "ax.set_title(\"Model ground levels\")\n",
    "ax.set_ylabel(\"Depth [m]\")\n",
    "ax.get_xaxis().set_visible(False)\n",
    "ax.invert_yaxis()\n",
    "\n",
    "# Add text box to show number of ground levels\n",
    "anchored_text = AnchoredText(f\"n ground levels = {len(DB_soil_temp.levgrnd.values)}\", loc=4)\n",
    "ax.add_artist(anchored_text)"
   ]
  },
  {
   "attachments": {},
   "cell_type": "markdown",
   "id": "a8bf9d01-03b7-4aef-be07-faac664c9eba",
   "metadata": {},
   "source": [
    "Plot the modelled ground temperatures for the top ground levels."
   ]
  },
  {
   "cell_type": "code",
   "execution_count": null,
   "id": "a734e271",
   "metadata": {},
   "outputs": [],
   "source": [
    "# number of ground levels to plot\n",
    "max_depth = 5  # in meters\n",
    "idx_soil_layers_5m = (DB_soil_temp.levgrnd < max_depth).values.sum() - 1\n",
    "print(\"Number of ground levels to plot:\", idx_soil_layers_5m)"
   ]
  },
  {
   "cell_type": "code",
   "execution_count": null,
   "id": "e4531ca1",
   "metadata": {},
   "outputs": [],
   "source": [
    "# hack around a time format problem\n",
    "DB_soil_temp['time'] = range(len(DB_soil_temp[\"time\"]))"
   ]
  },
  {
   "cell_type": "code",
   "execution_count": null,
   "id": "5370972d",
   "metadata": {},
   "outputs": [],
   "source": [
    "# make the plot\n",
    "fig, ax = plt.subplots(figsize=(10, 5))\n",
    "color_bar_plot = copy.isel(levgrnd=slice(0, idx_soil_layers_15m)).T.plot(x='time', y='levgrnd', ax=ax,\n",
    "cbar_kwargs={\n",
    "        'label': \"Temperature [°C]\"\n",
    "        }\n",
    ")\n",
    "# Make plot more intuitive by setting depth=0 to the top\n",
    "ax.invert_yaxis()\n",
    "# Title and labels\n",
    "ax.set_title(f\"Simulation DB: Modelled soil temperature for ground levels < 5 m\")\n",
    "ax.set_ylabel(\"Depth [m]\", fontsize=14)\n",
    "ax.set_xlabel(\"Months from January in simulation year 1498\", fontsize=14);"
   ]
  },
  {
   "attachments": {},
   "cell_type": "markdown",
   "id": "21a36cf0",
   "metadata": {},
   "source": [
    "Make the same plot for the rest of the simulations:"
   ]
  },
  {
   "cell_type": "code",
   "execution_count": null,
   "id": "9fc648e1",
   "metadata": {},
   "outputs": [],
   "source": [
    "# Fix data\n",
    "# list simulations\n",
    "simulations = ['DA', \n",
    "               'DB', \n",
    "               'IA', \n",
    "               'IB', \n",
    "               'IBSP',\n",
    "               'IW', \n",
    "               'IWSP'\n",
    "               ]\n",
    "\n",
    "# Create an empty dictionary to store the data sets\n",
    "soil_temp_data = {}\n",
    "\n",
    "# Loop over simulations\n",
    "for sim in simulations:\n",
    "    # Retrieve soil temperature from model output, convert to deg. C\n",
    "    sim_soil_temp = data[sim][CLM_soil_temp] - 273.15\n",
    "    sim_soil_temp.attrs[\"long_name\"] = \"Soil temperature per ground level\"\n",
    "    sim_soil_temp.attrs[\"units\"] = \"deg.C\"\n",
    "    # Hack around a time format problem\n",
    "    sim_soil_temp['time'] = range(len(sim_soil_temp[\"time\"]))\n",
    "    \n",
    "    # Add the data set to the dictionary with the simulation name as the key\n",
    "    soil_temp_data[sim] = sim_soil_temp\n"
   ]
  },
  {
   "cell_type": "code",
   "execution_count": null,
   "id": "488c733d",
   "metadata": {},
   "outputs": [],
   "source": [
    "\n",
    "# Loop over simulations\n",
    "for sim, sim_data in soil_temp_data.items():\n",
    "    # Make the plots\n",
    "    fig, ax = plt.subplots(figsize=(10, 5))\n",
    "    color_bar_plot = sim_data.isel(levgrnd=slice(0, idx_soil_layers_15m)).T.plot(x='time', y='levgrnd', ax=ax,\n",
    "        cbar_kwargs={\n",
    "            'label': \"Temperature [°C]\"\n",
    "        }\n",
    "    )\n",
    "    # Make plot more intuitive by setting depth=0 to the top\n",
    "    ax.invert_yaxis()\n",
    "    # Title and labels\n",
    "    ax.set_title(f\"Simulation {sim}: Modelled soil temperature for ground levels < 5 m\")\n",
    "    ax.set_ylabel(\"Depth [m]\", fontsize=12)\n",
    "    ax.set_xlabel(\"Months from January in simulation year 1498\", fontsize=12)\n",
    "\n",
    "    # Save figure\n",
    "    fig.tight_layout()\n",
    "    fig.savefig(fname=f\"../../results/figures/soil_temperature_{sim}.png\", format='png')\n",
    "    plt.close(fig)"
   ]
  },
  {
   "attachments": {},
   "cell_type": "markdown",
   "id": "489ed396-7a95-4e48-a830-cc18db2e1557",
   "metadata": {},
   "source": [
    "## Observed soil temperature\n",
    "\n",
    "### Download data\n",
    "Next, we will load the observational data. Refer to https://osf.io/4c5v2/ for the full documentation and additional information. We can directly download the data from OSF into a DataFrame using the Python code below.\n",
    "\n",
    "**Citation**: Vandvik, V., Telford, R. J., Halbritter, A. H., Jaroszynska, F., Lynn, J. S., Geange, S. R., … Rüthers, J. (2022, April 5). FunCaB - The role of functional group interactions in mediating climate change impacts on the Carbon dynamics and biodiversity of alpine ecosystems. Retrieved from osf.io/4c5v2.\n",
    "\n",
    "The next code cells will download the data, make some adjustments, and create monthly means that can be compared to the default monthly model output."
   ]
  },
  {
   "cell_type": "code",
   "execution_count": null,
   "id": "a2687ed6-dcab-49c5-91c8-99a7a497d36b",
   "metadata": {},
   "outputs": [],
   "source": [
    "# Download data directly from OSF storage, make sure you are connected to the internet\n",
    "vcg_soil_temp_obs_df = pd.read_csv(\"https://osf.io/7tgxb/download\", low_memory=False)"
   ]
  },
  {
   "cell_type": "code",
   "execution_count": null,
   "id": "602c7e33-ba2f-4450-bbaf-09462cb88b2b",
   "metadata": {},
   "outputs": [],
   "source": [
    "# Print first rows\n",
    "vcg_soil_temp_obs_df.head()"
   ]
  },
  {
   "cell_type": "code",
   "execution_count": null,
   "id": "30cc5fcf-ea62-458e-859d-45cd724d32a3",
   "metadata": {},
   "outputs": [],
   "source": [
    "# Read dictionary for mapping the name of the NorESM platform site codes to the corresponding name in the VCG dataset\n",
    "with open(Path(\"./dicts/vestland_climate_grid.json\"), 'r', encoding='utf-8') as vcg_site_json:\n",
    "    vcg_site_dict = json.load(vcg_site_json).get(\"sites\")"
   ]
  },
  {
   "cell_type": "code",
   "execution_count": null,
   "id": "e317b5ce-8845-4074-990a-9b983a44db5f",
   "metadata": {},
   "outputs": [],
   "source": [
    "# Subset soil temperatures for my site (ALP4 = Skjellingahaugen)\n",
    "mysite_soil_temp_obs_df = vcg_soil_temp_obs_df[vcg_soil_temp_obs_df[\"siteID\"] == vcg_site_dict[site_code]['osf_csv_name']]\n",
    "mysite_soil_temp_obs_df.head()"
   ]
  },
  {
   "cell_type": "code",
   "execution_count": null,
   "id": "81e7749a-a560-460a-9c29-9b1f808caa52",
   "metadata": {},
   "outputs": [],
   "source": [
    "# Print period for available measurements\n",
    "print(f\"From: {min(mysite_soil_temp_obs_df['date_time'])}\")\n",
    "print(f\"To: {max(mysite_soil_temp_obs_df['date_time'])}\")"
   ]
  },
  {
   "attachments": {},
   "cell_type": "markdown",
   "id": "485489f5",
   "metadata": {},
   "source": [
    "Calculate and display monthly and yearly means:"
   ]
  },
  {
   "cell_type": "code",
   "execution_count": null,
   "id": "439e2e6b-e85d-45dc-87fe-c8f4f24dba7d",
   "metadata": {},
   "outputs": [],
   "source": [
    "# Next we calculate monthly means\n",
    "monthly_mean_df = mysite_soil_temp_obs_df.groupby(\n",
    "    pd.PeriodIndex(mysite_soil_temp_obs_df['date_time'], freq='M')\n",
    ")['soiltemperature'].mean()\n",
    "\n",
    "# Convert to DataFrame\n",
    "monthly_mean_df = monthly_mean_df.to_frame()"
   ]
  },
  {
   "cell_type": "code",
   "execution_count": null,
   "id": "12b8223e-726a-4895-aa13-3394bf338ab6",
   "metadata": {},
   "outputs": [],
   "source": [
    "monthly_mean_df"
   ]
  },
  {
   "cell_type": "code",
   "execution_count": null,
   "id": "9440681a-527d-45c7-8e1f-cfbdac0be400",
   "metadata": {},
   "outputs": [],
   "source": [
    "# Calculate yearly mean (to enable yearly comparison to model output)\n",
    "monthly_mean_df['date_dt'] = pd.to_datetime(monthly_mean_df.index.to_timestamp())\n",
    "monthly_mean_df.groupby(monthly_mean_df.date_dt.dt.year)['soiltemperature'].transform('mean')\n",
    "monthly_mean_df = monthly_mean_df.reset_index()\n",
    "# Add integer month column for easier data handling later on\n",
    "monthly_mean_df['month_int'] = [int(pd.to_datetime(x).strftime('%m')) for x in monthly_mean_df['date_dt'].values]\n",
    "monthly_mean_df"
   ]
  },
  {
   "attachments": {},
   "cell_type": "markdown",
   "id": "8df4167a",
   "metadata": {},
   "source": [
    "Then plot the observed data:"
   ]
  },
  {
   "cell_type": "code",
   "execution_count": null,
   "id": "b290927b-777d-4aa9-93e7-85aa18523e6b",
   "metadata": {},
   "outputs": [],
   "source": [
    "# Plot for quick visualization\n",
    "import matplotlib.dates as mdates\n",
    "\n",
    "fig, ax = plt.subplots(figsize=(6, 6))\n",
    "\n",
    "ax.plot(monthly_mean_df['date_dt'],\n",
    "        monthly_mean_df['soiltemperature']\n",
    "       )\n",
    "ax.set_title(f\"{site_code}: monthly mean soil temperatures\")\n",
    "ax.set_xlabel(\"Month\")\n",
    "ax.set_ylabel(\"Mean soil temperature [°C]\")\n",
    "ax.xaxis.set_major_formatter(mdates.DateFormatter('%b'))"
   ]
  },
  {
   "attachments": {},
   "cell_type": "markdown",
   "id": "5c6c0cfe-812a-421f-ac43-0f4dcabe2b26",
   "metadata": {},
   "source": [
    "## Modelled and observed in one plot\n",
    "The observation plot above shows averages from multiple temperature loggers buried at approximately 5 cm depth. We thus calculate the arithmetic mean of the 2nd and 3rd CLM default ground layers (node depths: 4cm and 9cm, respectively) for comparison. We use the range of temperatures for the last 3 simulation years. For interpretation, keep in mind that this exercise makes most sense when the simulation has been properly spun up and the climate forcings within and before that period are comparable to the measurements' observation dates."
   ]
  },
  {
   "attachments": {},
   "cell_type": "markdown",
   "id": "240d285f",
   "metadata": {},
   "source": [
    "### Example plot for one simulation, DB"
   ]
  },
  {
   "cell_type": "code",
   "execution_count": null,
   "id": "2ff0cb1c",
   "metadata": {},
   "outputs": [],
   "source": [
    "# Copy the original data\n",
    "copy = soil_temp_data['DB'].copy()\n",
    "\n",
    "# Convert the array of month integers to date strings in 'YYYY-MM' format\n",
    "start_year = 1  # Starting year\n",
    "end_year = 3  # Ending year\n",
    "months = np.arange(1, 13)  # Assuming the array contains values for all 12 months\n",
    "time = [f\"{year:02d}-{month:02d}\" for year in range(start_year, end_year + 1) for month in months]\n",
    "\n",
    "# Create a new DataArray with the desired time values\n",
    "time_coord = xr.DataArray(pd.to_datetime(time, format='%y-%m'), dims='time')\n",
    "copy = copy.assign_coords(time=time_coord)\n",
    "\n",
    "# Extract top soil layers (around 10cm), subset last n simulation years defined above, calculate monthly averages (from default 3h model timesteps)\n",
    "top_2_layer_soil_temp = copy.isel(\n",
    "    levgrnd=slice(1, 3)\n",
    ").mean(\n",
    "    dim=\"levgrnd\"\n",
    ").resample(time='1M').mean()\n"
   ]
  },
  {
   "cell_type": "code",
   "execution_count": null,
   "id": "74b5c3e6-8cce-4bd5-8667-f4fc8cffed19",
   "metadata": {},
   "outputs": [],
   "source": [
    "# Determine maximum and minimum temperatures over given period\n",
    "monthly_modelled_max_soil_temp_df = \\\n",
    "top_2_layer_soil_temp.groupby(\"time.month\").max().to_dataframe().reset_index(level=['month', 'lndgrid'])\n",
    "\n",
    "monthly_modelled_min_soil_temp_df = \\\n",
    "top_2_layer_soil_temp.groupby(\"time.month\").min().to_dataframe().reset_index(level=['month', 'lndgrid'])"
   ]
  },
  {
   "cell_type": "code",
   "execution_count": null,
   "id": "41b4c637-fa82-4bb8-9c17-611d098fa50b",
   "metadata": {},
   "outputs": [],
   "source": [
    "# Map modelled monthly values to observed monthly values\n",
    "monthly_mean_df['model_max_of_mean_monthly_soil_temp'] = None\n",
    "monthly_mean_df['model_min_of_mean_monthly_soil_temp'] = None\n",
    "\n",
    "for cur_month in monthly_mean_df['month_int']:\n",
    "    \n",
    "    # Max temperatures\n",
    "    monthly_mean_df.loc[(monthly_mean_df['month_int'] == cur_month),\n",
    "                        'model_max_of_mean_monthly_soil_temp'] = \\\n",
    "    monthly_modelled_max_soil_temp_df.loc[(monthly_modelled_max_soil_temp_df['month'] == cur_month), 'TSOI'].values\n",
    "    \n",
    "    # Min temperatures\n",
    "    monthly_mean_df.loc[(monthly_mean_df['month_int'] == cur_month),\n",
    "                        'model_min_of_mean_monthly_soil_temp'] = \\\n",
    "    monthly_modelled_min_soil_temp_df.loc[(monthly_modelled_min_soil_temp_df['month'] == cur_month), 'TSOI'].values\n",
    "\n",
    "# Convert datatype from object to float (prevents bug in plotting)\n",
    "monthly_mean_df['model_max_of_mean_monthly_soil_temp'] = monthly_mean_df['model_max_of_mean_monthly_soil_temp'].astype(float)\n",
    "monthly_mean_df['model_min_of_mean_monthly_soil_temp'] = monthly_mean_df['model_min_of_mean_monthly_soil_temp'].astype(float)\n",
    "monthly_mean_df"
   ]
  },
  {
   "cell_type": "code",
   "execution_count": null,
   "id": "6ff18eb8-793d-4601-ad8b-5deca943c37e",
   "metadata": {
    "tags": []
   },
   "outputs": [],
   "source": [
    "# Create plot\n",
    "import matplotlib.dates as mdates\n",
    "\n",
    "fig, ax = plt.subplots(figsize=(12, 6))\n",
    "\n",
    "ax.plot(monthly_mean_df['date_dt'],\n",
    "        monthly_mean_df['soiltemperature'],\n",
    "        color=\"red\",\n",
    "        linewidth=2,\n",
    "        label=\"Mean yearly\\nobserved\"\n",
    "       )\n",
    "\n",
    "ax.plot(monthly_mean_df['date_dt'],\n",
    "        monthly_mean_df['model_max_of_mean_monthly_soil_temp'],\n",
    "        color=\"blue\"\n",
    "       )\n",
    "ax.plot(monthly_mean_df['date_dt'],\n",
    "        monthly_mean_df['model_min_of_mean_monthly_soil_temp'],\n",
    "        color=\"blue\"\n",
    "       )\n",
    "\n",
    "\n",
    "ax.fill_between(monthly_mean_df['date_dt'], \n",
    "                monthly_mean_df['model_min_of_mean_monthly_soil_temp'],\n",
    "                monthly_mean_df['model_max_of_mean_monthly_soil_temp'],\n",
    "                alpha=0.2,\n",
    "                facecolor=\"blue\",\n",
    "                label=f\"Mean modelled\\nmulti-year range\\n(3 last years)\"\n",
    "               )\n",
    "\n",
    "# Plot layout\n",
    "ax.set_title(f\"{site_code}\", fontsize=16)\n",
    "ax.set_ylabel(\"Mean 5 cm soil temperature [°C]\", fontsize=14)\n",
    "ax.set_xlabel(\"Month\", fontsize=14)\n",
    "ax.tick_params(axis='both', which='major', labelsize=12)\n",
    "ax.xaxis.set_major_formatter(mdates.DateFormatter('%b'))\n",
    "\n",
    "ax.legend(fontsize=14)\n",
    "ax.grid()"
   ]
  },
  {
   "attachments": {},
   "cell_type": "markdown",
   "id": "06392b78",
   "metadata": {},
   "source": [
    "### The same plot for all simulations\n",
    "\n",
    "In a loop, repeat the same process to make plots for each simulation."
   ]
  },
  {
   "cell_type": "code",
   "execution_count": null,
   "id": "9d43aec1",
   "metadata": {},
   "outputs": [],
   "source": [
    "import matplotlib.dates as mdates\n",
    "\n",
    "simulations = ['DA', \n",
    "               'DB', \n",
    "               'IA', \n",
    "               'IB', \n",
    "               'IBSP',\n",
    "               'IW', \n",
    "               'IWSP'\n",
    "               ]\n",
    "\n",
    "# Loop over simulations\n",
    "for sim in simulations:\n",
    "\n",
    "    print(sim)\n",
    "\n",
    "    # Extract data and find monthly average\n",
    "    # ----------------------------------------------------------------------------------------------\n",
    "    # Copy the original data\n",
    "    copy = soil_temp_data[sim].copy()\n",
    "\n",
    "    # Convert the array of month integers to date strings in 'YYYY-MM' format\n",
    "    start_year = 1  # Starting year\n",
    "    end_year = 3  # Ending year\n",
    "    months = np.arange(1, 13)  # Assuming the array contains values for all 12 months\n",
    "    time = [f\"{year:02d}-{month:02d}\" for year in range(start_year, end_year + 1) for month in months]\n",
    "\n",
    "    # Create a new DataArray with the desired time values\n",
    "    time_coord = xr.DataArray(pd.to_datetime(time, format='%y-%m'), dims='time')\n",
    "    copy = copy.assign_coords(time=time_coord)\n",
    "\n",
    "    # Extract top soil layers (around 10cm), subset last n simulation years defined above, calculate monthly averages (from default 3h model timesteps)\n",
    "    top_2_layer_soil_temp = copy.isel(\n",
    "        levgrnd=slice(1, 3)\n",
    "    ).mean(\n",
    "        dim=\"levgrnd\"\n",
    "    ).resample(time='1M').mean()\n",
    "\n",
    "\n",
    "    # Determine maximum and minimum temperatures over given period\n",
    "    # ----------------------------------------------------------------------------------------------\n",
    "    monthly_modelled_max_soil_temp_df = \\\n",
    "    top_2_layer_soil_temp.groupby(\"time.month\").max().to_dataframe().reset_index(level=['month', 'lndgrid'])\n",
    "\n",
    "    monthly_modelled_min_soil_temp_df = \\\n",
    "    top_2_layer_soil_temp.groupby(\"time.month\").min().to_dataframe().reset_index(level=['month', 'lndgrid'])\n",
    "\n",
    "    # Map modelled monthly values to observed monthly values\n",
    "    # ----------------------------------------------------------------------------------------------\n",
    "    monthly_mean_df['model_max_of_mean_monthly_soil_temp'] = None\n",
    "    monthly_mean_df['model_min_of_mean_monthly_soil_temp'] = None\n",
    "\n",
    "    for cur_month in monthly_mean_df['month_int']:\n",
    "\n",
    "        # Max temperatures\n",
    "        monthly_mean_df.loc[(monthly_mean_df['month_int'] == cur_month),\n",
    "                            'model_max_of_mean_monthly_soil_temp'] = \\\n",
    "        monthly_modelled_max_soil_temp_df.loc[(monthly_modelled_max_soil_temp_df['month'] == cur_month), 'TSOI'].values\n",
    "\n",
    "        # Min temperatures\n",
    "        monthly_mean_df.loc[(monthly_mean_df['month_int'] == cur_month),\n",
    "                            'model_min_of_mean_monthly_soil_temp'] = \\\n",
    "        monthly_modelled_min_soil_temp_df.loc[(monthly_modelled_min_soil_temp_df['month'] == cur_month), 'TSOI'].values\n",
    "\n",
    "    # Convert datatype from object to float (prevents bug in plotting)\n",
    "    monthly_mean_df['model_max_of_mean_monthly_soil_temp'] = monthly_mean_df['model_max_of_mean_monthly_soil_temp'].astype(float)\n",
    "    monthly_mean_df['model_min_of_mean_monthly_soil_temp'] = monthly_mean_df['model_min_of_mean_monthly_soil_temp'].astype(float)\n",
    "\n",
    "    # Create plot\n",
    "    # -------------------------------------------------------------------------------------------------\n",
    "    fig, ax = plt.subplots(figsize=(12, 6))\n",
    "\n",
    "    ax.plot(monthly_mean_df['date_dt'],\n",
    "            monthly_mean_df['soiltemperature'],\n",
    "            color=\"red\",\n",
    "            linewidth=2,\n",
    "            label=\"Mean yearly\\nobserved\"\n",
    "           )\n",
    "\n",
    "    ax.plot(monthly_mean_df['date_dt'],\n",
    "            monthly_mean_df['model_max_of_mean_monthly_soil_temp'],\n",
    "            color=\"blue\"\n",
    "           )\n",
    "    ax.plot(monthly_mean_df['date_dt'],\n",
    "            monthly_mean_df['model_min_of_mean_monthly_soil_temp'],\n",
    "            color=\"blue\"\n",
    "           )\n",
    "\n",
    "\n",
    "    ax.fill_between(monthly_mean_df['date_dt'], \n",
    "                    monthly_mean_df['model_min_of_mean_monthly_soil_temp'],\n",
    "                    monthly_mean_df['model_max_of_mean_monthly_soil_temp'],\n",
    "                    alpha=0.2,\n",
    "                    facecolor=\"blue\",\n",
    "                    label=f\"Mean modelled\\nmulti-year range\\n(3 last years)\"\n",
    "                   )\n",
    "\n",
    "    # Plot layout\n",
    "    ax.set_title(f\"{sim}\", fontsize=16)\n",
    "    ax.set_ylabel(\"Mean 5 cm soil temperature [°C]\", fontsize=14)\n",
    "    ax.set_xlabel(\"Month\", fontsize=14)\n",
    "    ax.tick_params(axis='both', which='major', labelsize=12)\n",
    "    ax.xaxis.set_major_formatter(mdates.DateFormatter('%b'))\n",
    "\n",
    "    ax.legend(fontsize=14)\n",
    "    ax.grid()\n",
    "\n",
    "    # Save figure\n",
    "    fig.tight_layout()\n",
    "    fig.savefig(fname=f\"../../results/figures/soil_temp_vs_obs_{sim}.png\", format='png')\n",
    "    plt.close(fig)"
   ]
  }
 ],
 "metadata": {
  "kernelspec": {
   "display_name": "Python 3 (ipykernel)",
   "language": "python",
   "name": "python3"
  },
  "language_info": {
   "codemirror_mode": {
    "name": "ipython",
    "version": 3
   },
   "file_extension": ".py",
   "mimetype": "text/x-python",
   "name": "python",
   "nbconvert_exporter": "python",
   "pygments_lexer": "ipython3",
   "version": "3.10.9"
  }
 },
 "nbformat": 4,
 "nbformat_minor": 5
}
