{
 "cells": [
  {
   "cell_type": "markdown",
   "metadata": {},
   "source": [
    "# Compare SP mode simulations"
   ]
  },
  {
   "cell_type": "code",
   "execution_count": 3,
   "metadata": {},
   "outputs": [],
   "source": [
    "import xarray as xr  # NetCDF data handling\n",
    "import matplotlib.pyplot as plt  # Plotting\n",
    "import datetime as dt  # for workaround with long simulations (beyond year 2262)\n",
    "from pathlib import Path\n",
    "import pandas as pd\n",
    "import numpy as np"
   ]
  },
  {
   "cell_type": "code",
   "execution_count": 4,
   "metadata": {},
   "outputs": [],
   "source": [
    "# Path to concatenated land archive output\n",
    "output_data_path = f\"../../results\"\n",
    "\n",
    "file_paths = {\n",
    "    'IBSP': \"alp4-1500-cosmo-IBSP\",\n",
    "    'IWSP': \"alp4-1500-warmed-IWSP\"\n",
    "}\n",
    "\n",
    "# Enter the names of single output files from each simulation, created with the 'combine_model_history_files' notebook.\n",
    "file_path_IBSP = f\"{output_data_path}/{file_paths['IBSP']}/alp4-1500-cosmo-IBSP.0-1500.nc\"\n",
    "file_path_IWSP = f\"{output_data_path}/{file_paths['IWSP']}/alp4-1500-warmed-IWSP.0-1500.nc\""
   ]
  },
  {
   "cell_type": "code",
   "execution_count": 5,
   "metadata": {},
   "outputs": [],
   "source": [
    "# Read data\n",
    "file_paths = {\n",
    "    'IBSP': file_path_IBSP,\n",
    "    'IWSP': file_path_IWSP\n",
    "}\n",
    "\n",
    "data = {}\n",
    "\n",
    "for dataset, path in file_paths.items():\n",
    "    data[dataset] = xr.open_mfdataset(path, \n",
    "                                      combine='by_coords', \n",
    "                                      decode_times=True)"
   ]
  },
  {
   "cell_type": "code",
   "execution_count": 5,
   "metadata": {},
   "outputs": [
    {
     "data": {
      "text/plain": [
       "(18000,)"
      ]
     },
     "execution_count": 5,
     "metadata": {},
     "output_type": "execute_result"
    }
   ],
   "source": [
    "IBSP_GPP = data['IBSP']['FATES_GPP'].values.reshape(-1) \n",
    "IWSP_GPP = data['IWSP']['FATES_GPP'].values.reshape(-1) \n",
    "IWSP_GPP.shape"
   ]
  },
  {
   "cell_type": "code",
   "execution_count": 6,
   "metadata": {},
   "outputs": [
    {
     "data": {
      "text/plain": [
       "False"
      ]
     },
     "execution_count": 6,
     "metadata": {},
     "output_type": "execute_result"
    }
   ],
   "source": [
    "# Check if there is any difference in GPP between the two simulations\n",
    "np.array_equiv(data['IBSP']['FATES_GPP'], data['IWSP']['FATES_GPP']) # Returns True if input arrays are shape consistent and all elements equal.\n"
   ]
  },
  {
   "cell_type": "code",
   "execution_count": 7,
   "metadata": {},
   "outputs": [
    {
     "data": {
      "text/plain": [
       "(18000,)"
      ]
     },
     "execution_count": 7,
     "metadata": {},
     "output_type": "execute_result"
    }
   ],
   "source": [
    "IBSP_NEP = data['IBSP']['FATES_NEP'].values.reshape(-1) \n",
    "IWSP_NEP = data['IWSP']['FATES_NEP'].values.reshape(-1) \n",
    "IWSP_NEP.shape"
   ]
  },
  {
   "cell_type": "code",
   "execution_count": 8,
   "metadata": {},
   "outputs": [
    {
     "data": {
      "text/plain": [
       "False"
      ]
     },
     "execution_count": 8,
     "metadata": {},
     "output_type": "execute_result"
    }
   ],
   "source": [
    "np.array_equiv(IBSP_NEP, IWSP_NEP)"
   ]
  },
  {
   "cell_type": "code",
   "execution_count": 9,
   "metadata": {},
   "outputs": [
    {
     "data": {
      "text/plain": [
       "(18000,)"
      ]
     },
     "execution_count": 9,
     "metadata": {},
     "output_type": "execute_result"
    }
   ],
   "source": [
    "IBSP_AUTORESP = data['IBSP']['FATES_AUTORESP'].values.reshape(-1) \n",
    "IWSP_AUTORESP = data['IWSP']['FATES_AUTORESP'].values.reshape(-1) \n",
    "IWSP_AUTORESP.shape"
   ]
  },
  {
   "cell_type": "code",
   "execution_count": 10,
   "metadata": {},
   "outputs": [
    {
     "data": {
      "text/plain": [
       "False"
      ]
     },
     "execution_count": 10,
     "metadata": {},
     "output_type": "execute_result"
    }
   ],
   "source": [
    "np.array_equiv(IBSP_AUTORESP, IWSP_AUTORESP)"
   ]
  },
  {
   "cell_type": "code",
   "execution_count": 15,
   "metadata": {},
   "outputs": [
    {
     "data": {
      "text/plain": [
       "(18000,)"
      ]
     },
     "execution_count": 15,
     "metadata": {},
     "output_type": "execute_result"
    }
   ],
   "source": [
    "IBSP_HET_RESP = data['IBSP']['FATES_HET_RESP'].values.reshape(-1) \n",
    "IWSP_HET_RESP = data['IWSP']['FATES_HET_RESP'].values.reshape(-1) \n",
    "IWSP_HET_RESP.shape"
   ]
  },
  {
   "cell_type": "code",
   "execution_count": 16,
   "metadata": {},
   "outputs": [
    {
     "data": {
      "text/plain": [
       "True"
      ]
     },
     "execution_count": 16,
     "metadata": {},
     "output_type": "execute_result"
    }
   ],
   "source": [
    "np.array_equiv(IBSP_HET_RESP, IWSP_HET_RESP)"
   ]
  },
  {
   "cell_type": "code",
   "execution_count": 6,
   "metadata": {},
   "outputs": [
    {
     "data": {
      "text/plain": [
       "(18000,)"
      ]
     },
     "execution_count": 6,
     "metadata": {},
     "output_type": "execute_result"
    }
   ],
   "source": [
    "IBSP_TLAI = data['IBSP']['TLAI'].values.reshape(-1) \n",
    "IWSP_TLAI = data['IWSP']['TLAI'].values.reshape(-1) \n",
    "IWSP_TLAI.shape"
   ]
  },
  {
   "cell_type": "code",
   "execution_count": 11,
   "metadata": {},
   "outputs": [
    {
     "data": {
      "image/png": "[encoded data removed]",
      "text/plain": [
       "<Figure size 640x480 with 1 Axes>"
      ]
     },
     "metadata": {},
     "output_type": "display_data"
    }
   ],
   "source": [
    "plt.hist(IBSP_GPP, bins=50)\n",
    "plt.show()"
   ]
  },
  {
   "cell_type": "code",
   "execution_count": 12,
   "metadata": {},
   "outputs": [
    {
     "data": {
      "image/png": "[encoded data removed]",
      "text/plain": [
       "<Figure size 640x480 with 1 Axes>"
      ]
     },
     "metadata": {},
     "output_type": "display_data"
    }
   ],
   "source": [
    "plt.hist(IWSP_GPP, bins=50)\n",
    "plt.show()"
   ]
  },
  {
   "cell_type": "markdown",
   "metadata": {},
   "source": [
    "Very similar, but not completely identical. So the simulations are somewhat different, but not enough to show up visually in the figures in the manuscript."
   ]
  },
  {
   "cell_type": "markdown",
   "metadata": {},
   "source": [
    "# difference in GPP, NEP, respiration"
   ]
  },
  {
   "cell_type": "code",
   "execution_count": 13,
   "metadata": {},
   "outputs": [
    {
     "name": "stdout",
     "output_type": "stream",
     "text": [
      "IBSP GPP: 0.00037826868123386204\n",
      "IWSP GPP: 0.00038248516536859567\n"
     ]
    }
   ],
   "source": [
    "print(\"IBSP GPP:\", sum(IBSP_GPP))\n",
    "print(\"IWSP GPP:\", sum(IWSP_GPP))"
   ]
  },
  {
   "cell_type": "code",
   "execution_count": 14,
   "metadata": {},
   "outputs": [
    {
     "name": "stdout",
     "output_type": "stream",
     "text": [
      "IBSP NEP: 0.0003027071310325513\n",
      "IWSP NEP: 0.0003062389558233644\n"
     ]
    }
   ],
   "source": [
    "print(\"IBSP NEP:\", sum(IBSP_NEP))\n",
    "print(\"IWSP NEP:\", sum(IWSP_NEP))"
   ]
  },
  {
   "cell_type": "code",
   "execution_count": 20,
   "metadata": {},
   "outputs": [
    {
     "name": "stdout",
     "output_type": "stream",
     "text": [
      "IBSP autotrophic respiration: 7.556155016308352e-05\n",
      "IWSP autotrophic respiration: 7.62462094922034e-05\n"
     ]
    }
   ],
   "source": [
    "print(\"IBSP autotrophic respiration:\", sum(IBSP_AUTORESP))\n",
    "print(\"IWSP autotrophic respiration:\", sum(IWSP_AUTORESP))"
   ]
  },
  {
   "cell_type": "code",
   "execution_count": 17,
   "metadata": {},
   "outputs": [
    {
     "name": "stdout",
     "output_type": "stream",
     "text": [
      "IBSP heterotrophic respiration: 0.0\n",
      "IWSP heterotrophic respiration: 0.0\n"
     ]
    }
   ],
   "source": [
    "print(\"IBSP heterotrophic respiration:\", sum(IBSP_HET_RESP))\n",
    "print(\"IWSP heterotrophic respiration:\", sum(IWSP_HET_RESP))"
   ]
  },
  {
   "cell_type": "code",
   "execution_count": 7,
   "metadata": {},
   "outputs": [
    {
     "name": "stdout",
     "output_type": "stream",
     "text": [
      "IBSP TLAI: 14930.056235969067\n",
      "IWSP TLAI: 14930.056235969067\n"
     ]
    }
   ],
   "source": [
    "print(\"IBSP TLAI:\", sum(IBSP_TLAI))\n",
    "print(\"IWSP TLAI:\", sum(IWSP_TLAI))"
   ]
  }
 ],
 "metadata": {
  "kernelspec": {
   "display_name": "vscode",
   "language": "python",
   "name": "python3"
  },
  "language_info": {
   "codemirror_mode": {
    "name": "ipython",
    "version": 3
   },
   "file_extension": ".py",
   "mimetype": "text/x-python",
   "name": "python",
   "nbconvert_exporter": "python",
   "pygments_lexer": "ipython3",
   "version": "3.10.9"
  },
  "orig_nbformat": 4
 },
 "nbformat": 4,
 "nbformat_minor": 2
}
