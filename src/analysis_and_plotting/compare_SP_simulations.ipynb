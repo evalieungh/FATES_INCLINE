{
 "cells": [
  {
   "cell_type": "code",
   "execution_count": 1,
   "metadata": {},
   "outputs": [],
   "source": [
    "# Compare SP mode simulations"
   ]
  },
  {
   "cell_type": "code",
   "execution_count": 2,
   "metadata": {},
   "outputs": [],
   "source": [
    "import xarray as xr  # NetCDF data handling\n",
    "import matplotlib.pyplot as plt  # Plotting\n",
    "import time  # Keeping track of runtime\n",
    "import json  # For reading data dictionaries stored in json format\n",
    "import datetime as dt  # for workaround with long simulations (beyond year 2262)\n",
    "from pathlib import Path\n",
    "import pandas as pd\n",
    "import numpy as np"
   ]
  },
  {
   "cell_type": "code",
   "execution_count": 6,
   "metadata": {},
   "outputs": [],
   "source": [
    "# Set general plotting optionscm = 1/2.54  # centimeters in inches\n",
    "cm = 1/2.54  # centimeters in inches\n",
    "DPI = 200\n",
    "FIG_SIZE_CM = (9.5*cm, 7*cm)\n",
    "TICK_LABEL_FONT_SIZE = 9\n",
    "AX_LABEL_FONT_SIZE = 11"
   ]
  },
  {
   "cell_type": "code",
   "execution_count": 3,
   "metadata": {},
   "outputs": [],
   "source": [
    "file_paths = {\n",
    "    'IBSP': \"alp4-1500-cosmo-IBSP\",\n",
    "    'IWSP': \"alp4-1500-warmed-IWSP\"\n",
    "}"
   ]
  },
  {
   "cell_type": "code",
   "execution_count": 4,
   "metadata": {},
   "outputs": [],
   "source": [
    "# Path to concatenated land archive output\n",
    "output_data_path = f\"../../results\"\n",
    "\n",
    "# Enter the names of single output files from each simulation, created with the 'combine_model_history_files' notebook.\n",
    "file_path_IBSP = f\"{output_data_path}/{file_paths['IBSP']}/alp4-1500-cosmo-IBSP.0-1500.nc\"\n",
    "file_path_IWSP = f\"{output_data_path}/{file_paths['IWSP']}/alp4-1500-warmed-IWSP.0-1500.nc\""
   ]
  },
  {
   "cell_type": "code",
   "execution_count": 5,
   "metadata": {},
   "outputs": [],
   "source": [
    "# Read data\n",
    "file_paths = {\n",
    "    'IBSP': file_path_IBSP,\n",
    "    'IWSP': file_path_IWSP\n",
    "}\n",
    "\n",
    "data = {}\n",
    "\n",
    "for dataset, path in file_paths.items():\n",
    "    data[dataset] = xr.open_mfdataset(path, \n",
    "                                      combine='by_coords', \n",
    "                                      decode_times=True)"
   ]
  },
  {
   "cell_type": "code",
   "execution_count": 29,
   "metadata": {},
   "outputs": [
    {
     "data": {
      "text/plain": [
       "(18000,)"
      ]
     },
     "execution_count": 29,
     "metadata": {},
     "output_type": "execute_result"
    }
   ],
   "source": [
    "IBSP_GPP = data['IBSP']['FATES_GPP'].values.reshape(-1) \n",
    "IWSP_GPP = data['IBSP']['FATES_GPP'].values.reshape(-1) \n",
    "IWSP_GPP.shape"
   ]
  },
  {
   "cell_type": "code",
   "execution_count": 41,
   "metadata": {},
   "outputs": [
    {
     "data": {
      "text/plain": [
       "True"
      ]
     },
     "execution_count": 41,
     "metadata": {},
     "output_type": "execute_result"
    }
   ],
   "source": [
    "# Check if there is any difference in GPP between the two simulations\n",
    "np.array_equiv(IBSP_GPP, IWSP_GPP) # Returns True if input arrays are shape consistent and all elements equal.\n"
   ]
  },
  {
   "cell_type": "code",
   "execution_count": 44,
   "metadata": {},
   "outputs": [
    {
     "data": {
      "text/plain": [
       "(18000,)"
      ]
     },
     "execution_count": 44,
     "metadata": {},
     "output_type": "execute_result"
    }
   ],
   "source": [
    "IBSP_NEP = data['IBSP']['FATES_NEP'].values.reshape(-1) \n",
    "IWSP_NEP = data['IBSP']['FATES_NEP'].values.reshape(-1) \n",
    "IWSP_NEP.shape"
   ]
  },
  {
   "cell_type": "code",
   "execution_count": 45,
   "metadata": {},
   "outputs": [
    {
     "data": {
      "text/plain": [
       "True"
      ]
     },
     "execution_count": 45,
     "metadata": {},
     "output_type": "execute_result"
    }
   ],
   "source": [
    "np.array_equiv(IBSP_NEP, IWSP_NEP)"
   ]
  },
  {
   "cell_type": "code",
   "execution_count": 46,
   "metadata": {},
   "outputs": [
    {
     "data": {
      "text/plain": [
       "(18000,)"
      ]
     },
     "execution_count": 46,
     "metadata": {},
     "output_type": "execute_result"
    }
   ],
   "source": [
    "IBSP_AUTORESP = data['IBSP']['FATES_AUTORESP'].values.reshape(-1) \n",
    "IWSP_AUTORESP = data['IBSP']['FATES_AUTORESP'].values.reshape(-1) \n",
    "IWSP_AUTORESP.shape"
   ]
  },
  {
   "cell_type": "code",
   "execution_count": 47,
   "metadata": {},
   "outputs": [
    {
     "data": {
      "text/plain": [
       "True"
      ]
     },
     "execution_count": 47,
     "metadata": {},
     "output_type": "execute_result"
    }
   ],
   "source": [
    "np.array_equiv(IBSP_AUTORESP, IWSP_AUTORESP)"
   ]
  },
  {
   "cell_type": "code",
   "execution_count": 37,
   "metadata": {},
   "outputs": [
    {
     "data": {
      "image/png": "[encoded data removed]",
      "text/plain": [
       "<Figure size 640x480 with 1 Axes>"
      ]
     },
     "metadata": {},
     "output_type": "display_data"
    }
   ],
   "source": [
    "plt.hist(IBSP_GPP, bins=50)\n",
    "plt.show()"
   ]
  }
 ],
 "metadata": {
  "kernelspec": {
   "display_name": "vscode",
   "language": "python",
   "name": "python3"
  },
  "language_info": {
   "codemirror_mode": {
    "name": "ipython",
    "version": 3
   },
   "file_extension": ".py",
   "mimetype": "text/x-python",
   "name": "python",
   "nbconvert_exporter": "python",
   "pygments_lexer": "ipython3",
   "version": "3.10.9"
  },
  "orig_nbformat": 4
 },
 "nbformat": 4,
 "nbformat_minor": 2
}
